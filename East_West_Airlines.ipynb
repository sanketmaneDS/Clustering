{
 "cells": [
  {
   "cell_type": "markdown",
   "id": "74a8585f",
   "metadata": {},
   "source": [
    "# Perform clustering (hierarchical,K means clustering and DBSCAN) for the airlines data to obtain optimum number of clusters. Draw the inferences from the clusters obtained"
   ]
  },
  {
   "cell_type": "markdown",
   "id": "f9789a16",
   "metadata": {},
   "source": [
    "## Data Description:"
   ]
  },
  {
   "cell_type": "markdown",
   "id": "009766ab",
   "metadata": {},
   "source": [
    "The file EastWestAirlinescontains information on passengers who belong to an airline’s frequent flier program. For each passenger the data include information on their mileage history and on different ways they accrued or spent miles in the last year. The goal is to try to identify clusters of passengers that have similar characteristics for the purpose of targeting different segments for different types of mileage offers\n",
    "\n",
    "ID --Unique ID\n",
    "\n",
    "Balance--Number of miles eligible for award travel\n",
    "\n",
    "Qual_mile--Number of miles counted as qualifying for Topflight status\n",
    "\n",
    "cc1_miles -- Number of miles earned with freq. flyer credit card in the past 12 months:\n",
    "\n",
    "cc2_miles -- Number of miles earned with Rewards credit card in the past 12 months:\n",
    "\n",
    "cc3_miles -- Number of miles earned with Small Business credit card in the past 12 months:\n",
    "\n",
    "1 = under 5,000\n",
    "2 = 5,000 - 10,000\n",
    "3 = 10,001 - 25,000\n",
    "4 = 25,001 - 50,000\n",
    "5 = over 50,000\n",
    "\n",
    "Bonus_miles--Number of miles earned from non-flight bonus transactions in the past 12 months\n",
    "\n",
    "Bonus_trans--Number of non-flight bonus transactions in the past 12 months\n",
    "\n",
    "Flight_miles_12mo--Number of flight miles in the past 12 months\n",
    "\n",
    "Flight_trans_12--Number of flight transactions in the past 12 months\n",
    "\n",
    "Days_since_enrolled--Number of days since enrolled in flier program\n",
    "\n",
    "Award--whether that person had award flight (free flight) or not\n"
   ]
  },
  {
   "cell_type": "code",
   "execution_count": 1,
   "id": "7c8344cd",
   "metadata": {
    "ExecuteTime": {
     "end_time": "2022-11-02T11:13:10.373978Z",
     "start_time": "2022-11-02T11:13:08.046943Z"
    }
   },
   "outputs": [],
   "source": [
    "#importing necessary libraries\n",
    "\n",
    "import scipy.cluster.hierarchy as sch \n",
    "from sklearn.cluster import AgglomerativeClustering, KMeans, DBSCAN\n",
    "from sklearn.metrics import silhouette_score as sil \n",
    "from sklearn.preprocessing import StandardScaler\n",
    "\n",
    "import pandas as pd \n",
    "import numpy as np\n",
    "import matplotlib.pyplot as plt\n",
    "import seaborn as sns\n",
    "\n",
    "import warnings\n",
    "warnings.filterwarnings('ignore') "
   ]
  },
  {
   "cell_type": "code",
   "execution_count": 2,
   "id": "86900368",
   "metadata": {
    "ExecuteTime": {
     "end_time": "2022-11-02T11:13:11.508539Z",
     "start_time": "2022-11-02T11:13:10.373978Z"
    }
   },
   "outputs": [
    {
     "data": {
      "text/html": [
       "<div>\n",
       "<style scoped>\n",
       "    .dataframe tbody tr th:only-of-type {\n",
       "        vertical-align: middle;\n",
       "    }\n",
       "\n",
       "    .dataframe tbody tr th {\n",
       "        vertical-align: top;\n",
       "    }\n",
       "\n",
       "    .dataframe thead th {\n",
       "        text-align: right;\n",
       "    }\n",
       "</style>\n",
       "<table border=\"1\" class=\"dataframe\">\n",
       "  <thead>\n",
       "    <tr style=\"text-align: right;\">\n",
       "      <th></th>\n",
       "      <th>Balance</th>\n",
       "      <th>Qual_miles</th>\n",
       "      <th>cc1_miles</th>\n",
       "      <th>cc2_miles</th>\n",
       "      <th>cc3_miles</th>\n",
       "      <th>Bonus_miles</th>\n",
       "      <th>Bonus_trans</th>\n",
       "      <th>Flight_miles_12mo</th>\n",
       "      <th>Flight_trans_12</th>\n",
       "      <th>Days_since_enroll</th>\n",
       "      <th>Award</th>\n",
       "    </tr>\n",
       "    <tr>\n",
       "      <th>Id</th>\n",
       "      <th></th>\n",
       "      <th></th>\n",
       "      <th></th>\n",
       "      <th></th>\n",
       "      <th></th>\n",
       "      <th></th>\n",
       "      <th></th>\n",
       "      <th></th>\n",
       "      <th></th>\n",
       "      <th></th>\n",
       "      <th></th>\n",
       "    </tr>\n",
       "  </thead>\n",
       "  <tbody>\n",
       "    <tr>\n",
       "      <th>1</th>\n",
       "      <td>28143</td>\n",
       "      <td>0</td>\n",
       "      <td>1</td>\n",
       "      <td>1</td>\n",
       "      <td>1</td>\n",
       "      <td>174</td>\n",
       "      <td>1</td>\n",
       "      <td>0</td>\n",
       "      <td>0</td>\n",
       "      <td>7000</td>\n",
       "      <td>0</td>\n",
       "    </tr>\n",
       "    <tr>\n",
       "      <th>2</th>\n",
       "      <td>19244</td>\n",
       "      <td>0</td>\n",
       "      <td>1</td>\n",
       "      <td>1</td>\n",
       "      <td>1</td>\n",
       "      <td>215</td>\n",
       "      <td>2</td>\n",
       "      <td>0</td>\n",
       "      <td>0</td>\n",
       "      <td>6968</td>\n",
       "      <td>0</td>\n",
       "    </tr>\n",
       "    <tr>\n",
       "      <th>3</th>\n",
       "      <td>41354</td>\n",
       "      <td>0</td>\n",
       "      <td>1</td>\n",
       "      <td>1</td>\n",
       "      <td>1</td>\n",
       "      <td>4123</td>\n",
       "      <td>4</td>\n",
       "      <td>0</td>\n",
       "      <td>0</td>\n",
       "      <td>7034</td>\n",
       "      <td>0</td>\n",
       "    </tr>\n",
       "    <tr>\n",
       "      <th>4</th>\n",
       "      <td>14776</td>\n",
       "      <td>0</td>\n",
       "      <td>1</td>\n",
       "      <td>1</td>\n",
       "      <td>1</td>\n",
       "      <td>500</td>\n",
       "      <td>1</td>\n",
       "      <td>0</td>\n",
       "      <td>0</td>\n",
       "      <td>6952</td>\n",
       "      <td>0</td>\n",
       "    </tr>\n",
       "    <tr>\n",
       "      <th>5</th>\n",
       "      <td>97752</td>\n",
       "      <td>0</td>\n",
       "      <td>4</td>\n",
       "      <td>1</td>\n",
       "      <td>1</td>\n",
       "      <td>43300</td>\n",
       "      <td>26</td>\n",
       "      <td>2077</td>\n",
       "      <td>4</td>\n",
       "      <td>6935</td>\n",
       "      <td>1</td>\n",
       "    </tr>\n",
       "  </tbody>\n",
       "</table>\n",
       "</div>"
      ],
      "text/plain": [
       "    Balance  Qual_miles  cc1_miles  cc2_miles  cc3_miles  Bonus_miles  \\\n",
       "Id                                                                      \n",
       "1     28143           0          1          1          1          174   \n",
       "2     19244           0          1          1          1          215   \n",
       "3     41354           0          1          1          1         4123   \n",
       "4     14776           0          1          1          1          500   \n",
       "5     97752           0          4          1          1        43300   \n",
       "\n",
       "    Bonus_trans  Flight_miles_12mo  Flight_trans_12  Days_since_enroll  Award  \n",
       "Id                                                                             \n",
       "1             1                  0                0               7000      0  \n",
       "2             2                  0                0               6968      0  \n",
       "3             4                  0                0               7034      0  \n",
       "4             1                  0                0               6952      0  \n",
       "5            26               2077                4               6935      1  "
      ]
     },
     "execution_count": 2,
     "metadata": {},
     "output_type": "execute_result"
    }
   ],
   "source": [
    "airlines = pd.read_excel('EastWestAirlines.xlsx', sheet_name='data') # open sheet with name 'data'\n",
    "airlines.rename(columns={'ID#':'Id', 'Award?':'Award'}, inplace=True)\n",
    "airlines.set_index('Id', inplace=True)\n",
    "\n",
    "airlines.head() "
   ]
  },
  {
   "cell_type": "code",
   "execution_count": 3,
   "id": "d5ece73c",
   "metadata": {
    "ExecuteTime": {
     "end_time": "2022-11-02T11:13:11.524002Z",
     "start_time": "2022-11-02T11:13:11.508539Z"
    }
   },
   "outputs": [
    {
     "data": {
      "text/plain": [
       "(3999, 11)"
      ]
     },
     "execution_count": 3,
     "metadata": {},
     "output_type": "execute_result"
    }
   ],
   "source": [
    "airlines.shape"
   ]
  },
  {
   "cell_type": "markdown",
   "id": "0af84aa4",
   "metadata": {},
   "source": [
    "## Descriptive Statistics"
   ]
  },
  {
   "cell_type": "code",
   "execution_count": 4,
   "id": "19b22b87",
   "metadata": {
    "ExecuteTime": {
     "end_time": "2022-11-02T11:13:11.563991Z",
     "start_time": "2022-11-02T11:13:11.525016Z"
    }
   },
   "outputs": [
    {
     "data": {
      "text/html": [
       "<div>\n",
       "<style scoped>\n",
       "    .dataframe tbody tr th:only-of-type {\n",
       "        vertical-align: middle;\n",
       "    }\n",
       "\n",
       "    .dataframe tbody tr th {\n",
       "        vertical-align: top;\n",
       "    }\n",
       "\n",
       "    .dataframe thead th {\n",
       "        text-align: right;\n",
       "    }\n",
       "</style>\n",
       "<table border=\"1\" class=\"dataframe\">\n",
       "  <thead>\n",
       "    <tr style=\"text-align: right;\">\n",
       "      <th></th>\n",
       "      <th>Balance</th>\n",
       "      <th>Qual_miles</th>\n",
       "      <th>cc1_miles</th>\n",
       "      <th>cc2_miles</th>\n",
       "      <th>cc3_miles</th>\n",
       "      <th>Bonus_miles</th>\n",
       "      <th>Bonus_trans</th>\n",
       "      <th>Flight_miles_12mo</th>\n",
       "      <th>Flight_trans_12</th>\n",
       "      <th>Days_since_enroll</th>\n",
       "      <th>Award</th>\n",
       "    </tr>\n",
       "  </thead>\n",
       "  <tbody>\n",
       "    <tr>\n",
       "      <th>count</th>\n",
       "      <td>3.999000e+03</td>\n",
       "      <td>3999.000000</td>\n",
       "      <td>3999.000000</td>\n",
       "      <td>3999.000000</td>\n",
       "      <td>3999.000000</td>\n",
       "      <td>3999.000000</td>\n",
       "      <td>3999.00000</td>\n",
       "      <td>3999.000000</td>\n",
       "      <td>3999.000000</td>\n",
       "      <td>3999.00000</td>\n",
       "      <td>3999.000000</td>\n",
       "    </tr>\n",
       "    <tr>\n",
       "      <th>mean</th>\n",
       "      <td>7.360133e+04</td>\n",
       "      <td>144.114529</td>\n",
       "      <td>2.059515</td>\n",
       "      <td>1.014504</td>\n",
       "      <td>1.012253</td>\n",
       "      <td>17144.846212</td>\n",
       "      <td>11.60190</td>\n",
       "      <td>460.055764</td>\n",
       "      <td>1.373593</td>\n",
       "      <td>4118.55939</td>\n",
       "      <td>0.370343</td>\n",
       "    </tr>\n",
       "    <tr>\n",
       "      <th>std</th>\n",
       "      <td>1.007757e+05</td>\n",
       "      <td>773.663804</td>\n",
       "      <td>1.376919</td>\n",
       "      <td>0.147650</td>\n",
       "      <td>0.195241</td>\n",
       "      <td>24150.967826</td>\n",
       "      <td>9.60381</td>\n",
       "      <td>1400.209171</td>\n",
       "      <td>3.793172</td>\n",
       "      <td>2065.13454</td>\n",
       "      <td>0.482957</td>\n",
       "    </tr>\n",
       "    <tr>\n",
       "      <th>min</th>\n",
       "      <td>0.000000e+00</td>\n",
       "      <td>0.000000</td>\n",
       "      <td>1.000000</td>\n",
       "      <td>1.000000</td>\n",
       "      <td>1.000000</td>\n",
       "      <td>0.000000</td>\n",
       "      <td>0.00000</td>\n",
       "      <td>0.000000</td>\n",
       "      <td>0.000000</td>\n",
       "      <td>2.00000</td>\n",
       "      <td>0.000000</td>\n",
       "    </tr>\n",
       "    <tr>\n",
       "      <th>25%</th>\n",
       "      <td>1.852750e+04</td>\n",
       "      <td>0.000000</td>\n",
       "      <td>1.000000</td>\n",
       "      <td>1.000000</td>\n",
       "      <td>1.000000</td>\n",
       "      <td>1250.000000</td>\n",
       "      <td>3.00000</td>\n",
       "      <td>0.000000</td>\n",
       "      <td>0.000000</td>\n",
       "      <td>2330.00000</td>\n",
       "      <td>0.000000</td>\n",
       "    </tr>\n",
       "    <tr>\n",
       "      <th>50%</th>\n",
       "      <td>4.309700e+04</td>\n",
       "      <td>0.000000</td>\n",
       "      <td>1.000000</td>\n",
       "      <td>1.000000</td>\n",
       "      <td>1.000000</td>\n",
       "      <td>7171.000000</td>\n",
       "      <td>12.00000</td>\n",
       "      <td>0.000000</td>\n",
       "      <td>0.000000</td>\n",
       "      <td>4096.00000</td>\n",
       "      <td>0.000000</td>\n",
       "    </tr>\n",
       "    <tr>\n",
       "      <th>75%</th>\n",
       "      <td>9.240400e+04</td>\n",
       "      <td>0.000000</td>\n",
       "      <td>3.000000</td>\n",
       "      <td>1.000000</td>\n",
       "      <td>1.000000</td>\n",
       "      <td>23800.500000</td>\n",
       "      <td>17.00000</td>\n",
       "      <td>311.000000</td>\n",
       "      <td>1.000000</td>\n",
       "      <td>5790.50000</td>\n",
       "      <td>1.000000</td>\n",
       "    </tr>\n",
       "    <tr>\n",
       "      <th>max</th>\n",
       "      <td>1.704838e+06</td>\n",
       "      <td>11148.000000</td>\n",
       "      <td>5.000000</td>\n",
       "      <td>3.000000</td>\n",
       "      <td>5.000000</td>\n",
       "      <td>263685.000000</td>\n",
       "      <td>86.00000</td>\n",
       "      <td>30817.000000</td>\n",
       "      <td>53.000000</td>\n",
       "      <td>8296.00000</td>\n",
       "      <td>1.000000</td>\n",
       "    </tr>\n",
       "  </tbody>\n",
       "</table>\n",
       "</div>"
      ],
      "text/plain": [
       "            Balance    Qual_miles    cc1_miles    cc2_miles    cc3_miles  \\\n",
       "count  3.999000e+03   3999.000000  3999.000000  3999.000000  3999.000000   \n",
       "mean   7.360133e+04    144.114529     2.059515     1.014504     1.012253   \n",
       "std    1.007757e+05    773.663804     1.376919     0.147650     0.195241   \n",
       "min    0.000000e+00      0.000000     1.000000     1.000000     1.000000   \n",
       "25%    1.852750e+04      0.000000     1.000000     1.000000     1.000000   \n",
       "50%    4.309700e+04      0.000000     1.000000     1.000000     1.000000   \n",
       "75%    9.240400e+04      0.000000     3.000000     1.000000     1.000000   \n",
       "max    1.704838e+06  11148.000000     5.000000     3.000000     5.000000   \n",
       "\n",
       "         Bonus_miles  Bonus_trans  Flight_miles_12mo  Flight_trans_12  \\\n",
       "count    3999.000000   3999.00000        3999.000000      3999.000000   \n",
       "mean    17144.846212     11.60190         460.055764         1.373593   \n",
       "std     24150.967826      9.60381        1400.209171         3.793172   \n",
       "min         0.000000      0.00000           0.000000         0.000000   \n",
       "25%      1250.000000      3.00000           0.000000         0.000000   \n",
       "50%      7171.000000     12.00000           0.000000         0.000000   \n",
       "75%     23800.500000     17.00000         311.000000         1.000000   \n",
       "max    263685.000000     86.00000       30817.000000        53.000000   \n",
       "\n",
       "       Days_since_enroll        Award  \n",
       "count         3999.00000  3999.000000  \n",
       "mean          4118.55939     0.370343  \n",
       "std           2065.13454     0.482957  \n",
       "min              2.00000     0.000000  \n",
       "25%           2330.00000     0.000000  \n",
       "50%           4096.00000     0.000000  \n",
       "75%           5790.50000     1.000000  \n",
       "max           8296.00000     1.000000  "
      ]
     },
     "execution_count": 4,
     "metadata": {},
     "output_type": "execute_result"
    }
   ],
   "source": [
    "airlines.describe()"
   ]
  },
  {
   "cell_type": "code",
   "execution_count": 5,
   "id": "a0aac17c",
   "metadata": {
    "ExecuteTime": {
     "end_time": "2022-11-02T11:13:11.584197Z",
     "start_time": "2022-11-02T11:13:11.566149Z"
    }
   },
   "outputs": [
    {
     "name": "stdout",
     "output_type": "stream",
     "text": [
      "<class 'pandas.core.frame.DataFrame'>\n",
      "Int64Index: 3999 entries, 1 to 4021\n",
      "Data columns (total 11 columns):\n",
      " #   Column             Non-Null Count  Dtype\n",
      "---  ------             --------------  -----\n",
      " 0   Balance            3999 non-null   int64\n",
      " 1   Qual_miles         3999 non-null   int64\n",
      " 2   cc1_miles          3999 non-null   int64\n",
      " 3   cc2_miles          3999 non-null   int64\n",
      " 4   cc3_miles          3999 non-null   int64\n",
      " 5   Bonus_miles        3999 non-null   int64\n",
      " 6   Bonus_trans        3999 non-null   int64\n",
      " 7   Flight_miles_12mo  3999 non-null   int64\n",
      " 8   Flight_trans_12    3999 non-null   int64\n",
      " 9   Days_since_enroll  3999 non-null   int64\n",
      " 10  Award              3999 non-null   int64\n",
      "dtypes: int64(11)\n",
      "memory usage: 374.9 KB\n"
     ]
    }
   ],
   "source": [
    "airlines.info()"
   ]
  },
  {
   "cell_type": "code",
   "execution_count": 6,
   "id": "be48d168",
   "metadata": {
    "ExecuteTime": {
     "end_time": "2022-11-02T11:13:11.603783Z",
     "start_time": "2022-11-02T11:13:11.584197Z"
    }
   },
   "outputs": [
    {
     "data": {
      "text/plain": [
       "0"
      ]
     },
     "execution_count": 6,
     "metadata": {},
     "output_type": "execute_result"
    }
   ],
   "source": [
    "airlines.isna().sum().sum()"
   ]
  },
  {
   "cell_type": "markdown",
   "id": "fffd5942",
   "metadata": {},
   "source": [
    "No missing values "
   ]
  },
  {
   "cell_type": "code",
   "execution_count": 7,
   "id": "0ae8396e",
   "metadata": {
    "ExecuteTime": {
     "end_time": "2022-11-02T11:13:11.614857Z",
     "start_time": "2022-11-02T11:13:11.603783Z"
    }
   },
   "outputs": [
    {
     "data": {
      "text/plain": [
       "1"
      ]
     },
     "execution_count": 7,
     "metadata": {},
     "output_type": "execute_result"
    }
   ],
   "source": [
    "airlines.duplicated().sum() "
   ]
  },
  {
   "cell_type": "code",
   "execution_count": 8,
   "id": "63d854d7",
   "metadata": {
    "ExecuteTime": {
     "end_time": "2022-11-02T11:13:11.631329Z",
     "start_time": "2022-11-02T11:13:11.614857Z"
    }
   },
   "outputs": [
    {
     "data": {
      "text/html": [
       "<div>\n",
       "<style scoped>\n",
       "    .dataframe tbody tr th:only-of-type {\n",
       "        vertical-align: middle;\n",
       "    }\n",
       "\n",
       "    .dataframe tbody tr th {\n",
       "        vertical-align: top;\n",
       "    }\n",
       "\n",
       "    .dataframe thead th {\n",
       "        text-align: right;\n",
       "    }\n",
       "</style>\n",
       "<table border=\"1\" class=\"dataframe\">\n",
       "  <thead>\n",
       "    <tr style=\"text-align: right;\">\n",
       "      <th></th>\n",
       "      <th>Balance</th>\n",
       "      <th>Qual_miles</th>\n",
       "      <th>cc1_miles</th>\n",
       "      <th>cc2_miles</th>\n",
       "      <th>cc3_miles</th>\n",
       "      <th>Bonus_miles</th>\n",
       "      <th>Bonus_trans</th>\n",
       "      <th>Flight_miles_12mo</th>\n",
       "      <th>Flight_trans_12</th>\n",
       "      <th>Days_since_enroll</th>\n",
       "      <th>Award</th>\n",
       "    </tr>\n",
       "    <tr>\n",
       "      <th>Id</th>\n",
       "      <th></th>\n",
       "      <th></th>\n",
       "      <th></th>\n",
       "      <th></th>\n",
       "      <th></th>\n",
       "      <th></th>\n",
       "      <th></th>\n",
       "      <th></th>\n",
       "      <th></th>\n",
       "      <th></th>\n",
       "      <th></th>\n",
       "    </tr>\n",
       "  </thead>\n",
       "  <tbody>\n",
       "    <tr>\n",
       "      <th>3899</th>\n",
       "      <td>1000</td>\n",
       "      <td>0</td>\n",
       "      <td>1</td>\n",
       "      <td>1</td>\n",
       "      <td>1</td>\n",
       "      <td>0</td>\n",
       "      <td>0</td>\n",
       "      <td>0</td>\n",
       "      <td>0</td>\n",
       "      <td>1597</td>\n",
       "      <td>0</td>\n",
       "    </tr>\n",
       "  </tbody>\n",
       "</table>\n",
       "</div>"
      ],
      "text/plain": [
       "      Balance  Qual_miles  cc1_miles  cc2_miles  cc3_miles  Bonus_miles  \\\n",
       "Id                                                                        \n",
       "3899     1000           0          1          1          1            0   \n",
       "\n",
       "      Bonus_trans  Flight_miles_12mo  Flight_trans_12  Days_since_enroll  \\\n",
       "Id                                                                         \n",
       "3899            0                  0                0               1597   \n",
       "\n",
       "      Award  \n",
       "Id           \n",
       "3899      0  "
      ]
     },
     "execution_count": 8,
     "metadata": {},
     "output_type": "execute_result"
    }
   ],
   "source": [
    "airlines[airlines.duplicated()] "
   ]
  },
  {
   "cell_type": "code",
   "execution_count": 9,
   "id": "16dad3ea",
   "metadata": {
    "ExecuteTime": {
     "end_time": "2022-11-02T11:13:11.644080Z",
     "start_time": "2022-11-02T11:13:11.633843Z"
    }
   },
   "outputs": [],
   "source": [
    "airlines=airlines.drop_duplicates() "
   ]
  },
  {
   "cell_type": "code",
   "execution_count": 10,
   "id": "baa8687e",
   "metadata": {
    "ExecuteTime": {
     "end_time": "2022-11-02T11:13:11.664134Z",
     "start_time": "2022-11-02T11:13:11.647634Z"
    }
   },
   "outputs": [
    {
     "data": {
      "text/plain": [
       "(3998, 11)"
      ]
     },
     "execution_count": 10,
     "metadata": {},
     "output_type": "execute_result"
    }
   ],
   "source": [
    "airlines.shape"
   ]
  },
  {
   "cell_type": "code",
   "execution_count": 11,
   "id": "19ce4d02",
   "metadata": {
    "ExecuteTime": {
     "end_time": "2022-11-02T11:13:11.680631Z",
     "start_time": "2022-11-02T11:13:11.664134Z"
    }
   },
   "outputs": [
    {
     "data": {
      "text/plain": [
       "0"
      ]
     },
     "execution_count": 11,
     "metadata": {},
     "output_type": "execute_result"
    }
   ],
   "source": [
    "airlines.duplicated().sum()  "
   ]
  },
  {
   "cell_type": "markdown",
   "id": "9aab4afb",
   "metadata": {},
   "source": [
    "One duplicate entry was present. We removed it "
   ]
  },
  {
   "cell_type": "markdown",
   "id": "8c6bcc79",
   "metadata": {},
   "source": [
    "## Data Visualisation"
   ]
  },
  {
   "cell_type": "markdown",
   "id": "32b828c4",
   "metadata": {},
   "source": [
    "### Plotting histogram to see distribution & Plotting boxplot for Outlier Detection"
   ]
  },
  {
   "cell_type": "code",
   "execution_count": 12,
   "id": "ac916a38",
   "metadata": {
    "ExecuteTime": {
     "end_time": "2022-11-02T11:13:14.584731Z",
     "start_time": "2022-11-02T11:13:11.680631Z"
    },
    "scrolled": false
   },
   "outputs": [
    {
     "data": {
      "image/png": "[encoded data removed]",
      "text/plain": [
       "<Figure size 1440x576 with 2 Axes>"
      ]
     },
     "metadata": {
      "needs_background": "light"
     },
     "output_type": "display_data"
    },
    {
     "data": {
      "image/png": "[encoded data removed]",
      "text/plain": [
       "<Figure size 1440x576 with 2 Axes>"
      ]
     },
     "metadata": {
      "needs_background": "light"
     },
     "output_type": "display_data"
    },
    {
     "data": {
      "image/png": "[encoded data removed]",
      "text/plain": [
       "<Figure size 1440x576 with 2 Axes>"
      ]
     },
     "metadata": {
      "needs_background": "light"
     },
     "output_type": "display_data"
    },
    {
     "data": {
      "image/png": "[encoded data removed]",
      "text/plain": [
       "<Figure size 1440x576 with 2 Axes>"
      ]
     },
     "metadata": {
      "needs_background": "light"
     },
     "output_type": "display_data"
    },
    {
     "data": {
      "image/png": "[encoded data removed]",
      "text/plain": [
       "<Figure size 1440x576 with 2 Axes>"
      ]
     },
     "metadata": {
      "needs_background": "light"
     },
     "output_type": "display_data"
    },
    {
     "data": {
      "image/png": "[encoded data removed]",
      "text/plain": [
       "<Figure size 1440x576 with 2 Axes>"
      ]
     },
     "metadata": {
      "needs_background": "light"
     },
     "output_type": "display_data"
    },
    {
     "data": {
      "image/png": "[encoded data removed]",
      "text/plain": [
       "<Figure size 1440x576 with 2 Axes>"
      ]
     },
     "metadata": {
      "needs_background": "light"
     },
     "output_type": "display_data"
    },
    {
     "data": {
      "image/png": "[encoded data removed]",
      "text/plain": [
       "<Figure size 1440x576 with 2 Axes>"
      ]
     },
     "metadata": {
      "needs_background": "light"
     },
     "output_type": "display_data"
    },
    {
     "data": {
      "image/png": "[encoded data removed]",
      "text/plain": [
       "<Figure size 1440x576 with 2 Axes>"
      ]
     },
     "metadata": {
      "needs_background": "light"
     },
     "output_type": "display_data"
    },
    {
     "data": {
      "image/png": "[encoded data removed]",
      "text/plain": [
       "<Figure size 1440x576 with 2 Axes>"
      ]
     },
     "metadata": {
      "needs_background": "light"
     },
     "output_type": "display_data"
    },
    {
     "data": {
      "image/png": "[encoded data removed]",
      "text/plain": [
       "<Figure size 1440x576 with 2 Axes>"
      ]
     },
     "metadata": {
      "needs_background": "light"
     },
     "output_type": "display_data"
    }
   ],
   "source": [
    "for feature in airlines.columns:\n",
    "    \n",
    "    plt.figure(figsize=(20,8))\n",
    "    \n",
    "    plt.subplot(1,2,1)\n",
    "    airlines[feature].hist(bins=25)\n",
    "    plt.ylabel('Count')\n",
    "    plt.title(feature)\n",
    "    \n",
    "    plt.subplot(1,2,2)\n",
    "    plt.boxplot(airlines[feature])\n",
    "    plt.title(feature)\n",
    "    \n",
    "    plt.show() "
   ]
  },
  {
   "cell_type": "markdown",
   "id": "2d084b0b",
   "metadata": {},
   "source": [
    "### Correlations"
   ]
  },
  {
   "cell_type": "code",
   "execution_count": 13,
   "id": "5f02a9fc",
   "metadata": {
    "ExecuteTime": {
     "end_time": "2022-11-02T11:13:15.127720Z",
     "start_time": "2022-11-02T11:13:14.584731Z"
    }
   },
   "outputs": [
    {
     "data": {
      "image/png": "[encoded data removed]",
      "text/plain": [
       "<Figure size 1440x576 with 2 Axes>"
      ]
     },
     "metadata": {
      "needs_background": "light"
     },
     "output_type": "display_data"
    }
   ],
   "source": [
    "plt.figure(figsize=(20,8))\n",
    "sns.heatmap(airlines.corr(), annot=True, fmt='0.1f', linewidths =.5) \n",
    "plt.show()"
   ]
  },
  {
   "cell_type": "markdown",
   "id": "b432920b",
   "metadata": {},
   "source": [
    "Positive correlation is found betweeen: \n",
    "\n",
    "a. Number of flight transactions in the past 12 months AND Number of flight miles in the past 12 months\n",
    "\n",
    "b. -Miles earned from non-flight bonus transactions AND  Miles earned with freq. flyer credit card in the past 12 months\n",
    "\n",
    "c. Non-flight bonus transactions AND  Miles earned with freq. flyer credit card\n",
    "\n",
    "d. Non-flight bonus transactions AND Miles earned from non-flight bonus transactions"
   ]
  },
  {
   "cell_type": "markdown",
   "id": "853be5f4",
   "metadata": {},
   "source": [
    "# Data Preprocessing"
   ]
  },
  {
   "cell_type": "markdown",
   "id": "5de94c4b",
   "metadata": {},
   "source": [
    "### Normalisation of data (use it for hierarchical clustering)"
   ]
  },
  {
   "cell_type": "code",
   "execution_count": 14,
   "id": "6d051af6",
   "metadata": {
    "ExecuteTime": {
     "end_time": "2022-11-02T11:13:15.142674Z",
     "start_time": "2022-11-02T11:13:15.130222Z"
    }
   },
   "outputs": [],
   "source": [
    "def norm_func(i):\n",
    "    x = (i - i.min()) / (i.max() - i.min())\n",
    "    return(x)"
   ]
  },
  {
   "cell_type": "code",
   "execution_count": 15,
   "id": "b47cd00d",
   "metadata": {
    "ExecuteTime": {
     "end_time": "2022-11-02T11:13:15.169137Z",
     "start_time": "2022-11-02T11:13:15.143685Z"
    }
   },
   "outputs": [
    {
     "data": {
      "text/html": [
       "<div>\n",
       "<style scoped>\n",
       "    .dataframe tbody tr th:only-of-type {\n",
       "        vertical-align: middle;\n",
       "    }\n",
       "\n",
       "    .dataframe tbody tr th {\n",
       "        vertical-align: top;\n",
       "    }\n",
       "\n",
       "    .dataframe thead th {\n",
       "        text-align: right;\n",
       "    }\n",
       "</style>\n",
       "<table border=\"1\" class=\"dataframe\">\n",
       "  <thead>\n",
       "    <tr style=\"text-align: right;\">\n",
       "      <th></th>\n",
       "      <th>Balance</th>\n",
       "      <th>Qual_miles</th>\n",
       "      <th>cc1_miles</th>\n",
       "      <th>cc2_miles</th>\n",
       "      <th>cc3_miles</th>\n",
       "      <th>Bonus_miles</th>\n",
       "      <th>Bonus_trans</th>\n",
       "      <th>Flight_miles_12mo</th>\n",
       "      <th>Flight_trans_12</th>\n",
       "      <th>Days_since_enroll</th>\n",
       "      <th>Award</th>\n",
       "    </tr>\n",
       "    <tr>\n",
       "      <th>Id</th>\n",
       "      <th></th>\n",
       "      <th></th>\n",
       "      <th></th>\n",
       "      <th></th>\n",
       "      <th></th>\n",
       "      <th></th>\n",
       "      <th></th>\n",
       "      <th></th>\n",
       "      <th></th>\n",
       "      <th></th>\n",
       "      <th></th>\n",
       "    </tr>\n",
       "  </thead>\n",
       "  <tbody>\n",
       "    <tr>\n",
       "      <th>1</th>\n",
       "      <td>0.016508</td>\n",
       "      <td>0.0</td>\n",
       "      <td>0.00</td>\n",
       "      <td>0.0</td>\n",
       "      <td>0.0</td>\n",
       "      <td>0.000660</td>\n",
       "      <td>0.011628</td>\n",
       "      <td>0.000000</td>\n",
       "      <td>0.000000</td>\n",
       "      <td>0.843742</td>\n",
       "      <td>0.0</td>\n",
       "    </tr>\n",
       "    <tr>\n",
       "      <th>2</th>\n",
       "      <td>0.011288</td>\n",
       "      <td>0.0</td>\n",
       "      <td>0.00</td>\n",
       "      <td>0.0</td>\n",
       "      <td>0.0</td>\n",
       "      <td>0.000815</td>\n",
       "      <td>0.023256</td>\n",
       "      <td>0.000000</td>\n",
       "      <td>0.000000</td>\n",
       "      <td>0.839884</td>\n",
       "      <td>0.0</td>\n",
       "    </tr>\n",
       "    <tr>\n",
       "      <th>3</th>\n",
       "      <td>0.024257</td>\n",
       "      <td>0.0</td>\n",
       "      <td>0.00</td>\n",
       "      <td>0.0</td>\n",
       "      <td>0.0</td>\n",
       "      <td>0.015636</td>\n",
       "      <td>0.046512</td>\n",
       "      <td>0.000000</td>\n",
       "      <td>0.000000</td>\n",
       "      <td>0.847842</td>\n",
       "      <td>0.0</td>\n",
       "    </tr>\n",
       "    <tr>\n",
       "      <th>4</th>\n",
       "      <td>0.008667</td>\n",
       "      <td>0.0</td>\n",
       "      <td>0.00</td>\n",
       "      <td>0.0</td>\n",
       "      <td>0.0</td>\n",
       "      <td>0.001896</td>\n",
       "      <td>0.011628</td>\n",
       "      <td>0.000000</td>\n",
       "      <td>0.000000</td>\n",
       "      <td>0.837955</td>\n",
       "      <td>0.0</td>\n",
       "    </tr>\n",
       "    <tr>\n",
       "      <th>5</th>\n",
       "      <td>0.057338</td>\n",
       "      <td>0.0</td>\n",
       "      <td>0.75</td>\n",
       "      <td>0.0</td>\n",
       "      <td>0.0</td>\n",
       "      <td>0.164211</td>\n",
       "      <td>0.302326</td>\n",
       "      <td>0.067398</td>\n",
       "      <td>0.075472</td>\n",
       "      <td>0.835905</td>\n",
       "      <td>1.0</td>\n",
       "    </tr>\n",
       "  </tbody>\n",
       "</table>\n",
       "</div>"
      ],
      "text/plain": [
       "     Balance  Qual_miles  cc1_miles  cc2_miles  cc3_miles  Bonus_miles  \\\n",
       "Id                                                                       \n",
       "1   0.016508         0.0       0.00        0.0        0.0     0.000660   \n",
       "2   0.011288         0.0       0.00        0.0        0.0     0.000815   \n",
       "3   0.024257         0.0       0.00        0.0        0.0     0.015636   \n",
       "4   0.008667         0.0       0.00        0.0        0.0     0.001896   \n",
       "5   0.057338         0.0       0.75        0.0        0.0     0.164211   \n",
       "\n",
       "    Bonus_trans  Flight_miles_12mo  Flight_trans_12  Days_since_enroll  Award  \n",
       "Id                                                                             \n",
       "1      0.011628           0.000000         0.000000           0.843742    0.0  \n",
       "2      0.023256           0.000000         0.000000           0.839884    0.0  \n",
       "3      0.046512           0.000000         0.000000           0.847842    0.0  \n",
       "4      0.011628           0.000000         0.000000           0.837955    0.0  \n",
       "5      0.302326           0.067398         0.075472           0.835905    1.0  "
      ]
     },
     "execution_count": 15,
     "metadata": {},
     "output_type": "execute_result"
    }
   ],
   "source": [
    "# Normalized data frame (considering the numerical part of data)\n",
    "airlines_norm = norm_func(airlines)\n",
    "airlines_norm.head()"
   ]
  },
  {
   "cell_type": "markdown",
   "id": "96e57d51",
   "metadata": {},
   "source": [
    "### Standardisation of data (use it for K means and DBSCAN)"
   ]
  },
  {
   "cell_type": "code",
   "execution_count": 16,
   "id": "018351dd",
   "metadata": {
    "ExecuteTime": {
     "end_time": "2022-11-02T11:13:15.185236Z",
     "start_time": "2022-11-02T11:13:15.169137Z"
    }
   },
   "outputs": [
    {
     "data": {
      "text/plain": [
       "array([[-4.51293870e-01, -1.86322793e-01, -7.69731660e-01, ...,\n",
       "        -3.62219103e-01,  1.39523468e+00, -7.67071631e-01],\n",
       "       [-5.39604653e-01, -1.86322793e-01, -7.69731660e-01, ...,\n",
       "        -3.62219103e-01,  1.37973643e+00, -7.67071631e-01],\n",
       "       [-3.20192202e-01, -1.86322793e-01, -7.69731660e-01, ...,\n",
       "        -3.62219103e-01,  1.41170157e+00, -7.67071631e-01],\n",
       "       ...,\n",
       "       [-2.23153612e-04, -1.86322793e-01,  6.82893866e-01, ...,\n",
       "        -3.62219103e-01, -1.31599028e+00,  1.30365921e+00],\n",
       "       [-1.85776026e-01, -1.86322793e-01, -7.69731660e-01, ...,\n",
       "        -9.85832074e-02, -1.31647460e+00, -7.67071631e-01],\n",
       "       [-7.00646048e-01, -1.86322793e-01, -7.69731660e-01, ...,\n",
       "        -3.62219103e-01, -1.31792757e+00, -7.67071631e-01]])"
      ]
     },
     "execution_count": 16,
     "metadata": {},
     "output_type": "execute_result"
    }
   ],
   "source": [
    "scaler = StandardScaler()\n",
    "airlines_std = scaler.fit_transform(airlines) \n",
    "airlines_std"
   ]
  },
  {
   "cell_type": "markdown",
   "id": "a6ba86ca",
   "metadata": {},
   "source": [
    "# Clustering: "
   ]
  },
  {
   "cell_type": "markdown",
   "id": "4ed6a844",
   "metadata": {},
   "source": [
    "Clustering is the task of dividing the population or data points into a number of groups such that data points in the same groups are more similar to other data points in the same group and dissimilar to the data points in other groups. It is basically a collection of objects on the basis of similarity and dissimilarity between them. "
   ]
  },
  {
   "cell_type": "markdown",
   "id": "2284e020",
   "metadata": {},
   "source": [
    "# 1) Hierarchical Clustering "
   ]
  },
  {
   "cell_type": "markdown",
   "id": "e9b107ee",
   "metadata": {},
   "source": [
    "Hierarchy of clusters is in the form of a tree, and this tree-shaped structure is known as the dendrogram. There is no requirement to predetermine the number of clusters as in the K-Means algorithm.\n",
    "\n",
    "Linkage methods are ways to calculate the distance between two clusters.\n",
    "\n",
    "Single Linkage: It is the Shortest Distance between the closest points of the clusters\n",
    "\n",
    "Complete Linkage: It is the farthest distance between the two points of two different clusters\n",
    "\n",
    "Average Linkage: It is the linkage method in which the distance between each pair of datasets is added up and then divided by the total number of datasets to calculate the average distance between two clusters.\n",
    "\n",
    "Centroid Linkage: It is the linkage method in which the distance between the centroid of the clusters is calculated. "
   ]
  },
  {
   "cell_type": "code",
   "execution_count": 17,
   "id": "3bfd0cc6",
   "metadata": {
    "ExecuteTime": {
     "end_time": "2022-11-02T11:14:13.303809Z",
     "start_time": "2022-11-02T11:13:15.185236Z"
    }
   },
   "outputs": [
    {
     "data": {
      "image/png": "[encoded data removed]",
      "text/plain": [
       "<Figure size 1440x576 with 1 Axes>"
      ]
     },
     "metadata": {
      "needs_background": "light"
     },
     "output_type": "display_data"
    }
   ],
   "source": [
    "plt.figure(figsize=(20,8))\n",
    "dendrogram = sch.dendrogram(sch.linkage(airlines_norm, method= 'complete'))"
   ]
  },
  {
   "cell_type": "code",
   "execution_count": 18,
   "id": "61194a2b",
   "metadata": {
    "ExecuteTime": {
     "end_time": "2022-11-02T11:15:05.571482Z",
     "start_time": "2022-11-02T11:14:13.305371Z"
    }
   },
   "outputs": [
    {
     "data": {
      "image/png": "[encoded data removed]",
      "text/plain": [
       "<Figure size 1440x576 with 1 Axes>"
      ]
     },
     "metadata": {
      "needs_background": "light"
     },
     "output_type": "display_data"
    }
   ],
   "source": [
    "plt.figure(figsize=(20,8))\n",
    "dendrogram = sch.dendrogram(sch.linkage(airlines_norm, method= 'single'))"
   ]
  },
  {
   "cell_type": "code",
   "execution_count": 19,
   "id": "bb5f5f2b",
   "metadata": {
    "ExecuteTime": {
     "end_time": "2022-11-02T11:15:59.297019Z",
     "start_time": "2022-11-02T11:15:05.571482Z"
    }
   },
   "outputs": [
    {
     "data": {
      "image/png": "[encoded data removed]",
      "text/plain": [
       "<Figure size 1440x576 with 1 Axes>"
      ]
     },
     "metadata": {
      "needs_background": "light"
     },
     "output_type": "display_data"
    }
   ],
   "source": [
    "plt.figure(figsize=(20,8))\n",
    "dendrogram = sch.dendrogram(sch.linkage(airlines_norm, method= 'average'))"
   ]
  },
  {
   "cell_type": "code",
   "execution_count": 20,
   "id": "739cf557",
   "metadata": {
    "ExecuteTime": {
     "end_time": "2022-11-02T11:16:49.899636Z",
     "start_time": "2022-11-02T11:15:59.297019Z"
    }
   },
   "outputs": [
    {
     "data": {
      "image/png": "[encoded data removed]",
      "text/plain": [
       "<Figure size 1440x576 with 1 Axes>"
      ]
     },
     "metadata": {
      "needs_background": "light"
     },
     "output_type": "display_data"
    }
   ],
   "source": [
    "plt.figure(figsize=(20,8))\n",
    "dendrogram = sch.dendrogram(sch.linkage(airlines_norm, method= 'centroid'))"
   ]
  },
  {
   "cell_type": "markdown",
   "id": "db8034c4",
   "metadata": {},
   "source": [
    "### Silhouette Score "
   ]
  },
  {
   "cell_type": "code",
   "execution_count": 21,
   "id": "90e7da12",
   "metadata": {
    "ExecuteTime": {
     "end_time": "2022-11-02T11:17:22.469164Z",
     "start_time": "2022-11-02T11:16:49.899636Z"
    }
   },
   "outputs": [
    {
     "name": "stdout",
     "output_type": "stream",
     "text": [
      "For n= 2 and linkage = complete Silhouette score is 0.4704\n",
      "For n= 2 and linkage = single Silhouette score is 0.5359\n",
      "For n= 2 and linkage = ward Silhouette score is 0.5359\n",
      "For n= 2 and linkage = average Silhouette score is 0.4704\n",
      "For n= 3 and linkage = complete Silhouette score is 0.5318\n",
      "For n= 3 and linkage = single Silhouette score is 0.5351\n",
      "For n= 3 and linkage = ward Silhouette score is 0.4355\n",
      "For n= 3 and linkage = average Silhouette score is 0.3961\n",
      "For n= 4 and linkage = complete Silhouette score is 0.4645\n",
      "For n= 4 and linkage = single Silhouette score is 0.4812\n",
      "For n= 4 and linkage = ward Silhouette score is 0.4249\n",
      "For n= 4 and linkage = average Silhouette score is 0.5286\n",
      "For n= 5 and linkage = complete Silhouette score is 0.4167\n",
      "For n= 5 and linkage = single Silhouette score is 0.48\n",
      "For n= 5 and linkage = ward Silhouette score is 0.394\n",
      "For n= 5 and linkage = average Silhouette score is 0.5082\n",
      "For n= 6 and linkage = complete Silhouette score is 0.4172\n",
      "For n= 6 and linkage = single Silhouette score is 0.4328\n",
      "For n= 6 and linkage = ward Silhouette score is 0.3522\n",
      "For n= 6 and linkage = average Silhouette score is 0.4872\n",
      "For n= 7 and linkage = complete Silhouette score is 0.4161\n",
      "For n= 7 and linkage = single Silhouette score is 0.4313\n",
      "For n= 7 and linkage = ward Silhouette score is 0.3482\n",
      "For n= 7 and linkage = average Silhouette score is 0.4387\n",
      "For n= 8 and linkage = complete Silhouette score is 0.3912\n",
      "For n= 8 and linkage = single Silhouette score is 0.3913\n",
      "For n= 8 and linkage = ward Silhouette score is 0.3514\n",
      "For n= 8 and linkage = average Silhouette score is 0.4086\n",
      "For n= 9 and linkage = complete Silhouette score is 0.3518\n",
      "For n= 9 and linkage = single Silhouette score is 0.3906\n",
      "For n= 9 and linkage = ward Silhouette score is 0.3334\n",
      "For n= 9 and linkage = average Silhouette score is 0.4008\n",
      "For n= 10 and linkage = complete Silhouette score is 0.3522\n",
      "For n= 10 and linkage = single Silhouette score is 0.3916\n",
      "For n= 10 and linkage = ward Silhouette score is 0.3293\n",
      "For n= 10 and linkage = average Silhouette score is 0.3571\n",
      "For n= 11 and linkage = complete Silhouette score is 0.3539\n",
      "For n= 11 and linkage = single Silhouette score is 0.3864\n",
      "For n= 11 and linkage = ward Silhouette score is 0.3245\n",
      "For n= 11 and linkage = average Silhouette score is 0.3569\n",
      "For n= 12 and linkage = complete Silhouette score is 0.3315\n",
      "For n= 12 and linkage = single Silhouette score is 0.3135\n",
      "For n= 12 and linkage = ward Silhouette score is 0.3259\n",
      "For n= 12 and linkage = average Silhouette score is 0.3373\n",
      "For n= 13 and linkage = complete Silhouette score is 0.3317\n",
      "For n= 13 and linkage = single Silhouette score is 0.3157\n",
      "For n= 13 and linkage = ward Silhouette score is 0.3291\n",
      "For n= 13 and linkage = average Silhouette score is 0.3367\n",
      "For n= 14 and linkage = complete Silhouette score is 0.334\n",
      "For n= 14 and linkage = single Silhouette score is 0.3103\n",
      "For n= 14 and linkage = ward Silhouette score is 0.3283\n",
      "For n= 14 and linkage = average Silhouette score is 0.3005\n",
      "For n= 15 and linkage = complete Silhouette score is 0.3338\n",
      "For n= 15 and linkage = single Silhouette score is 0.1902\n",
      "For n= 15 and linkage = ward Silhouette score is 0.3294\n",
      "For n= 15 and linkage = average Silhouette score is 0.3488\n"
     ]
    }
   ],
   "source": [
    "\n",
    "linkages = ['complete' , 'single' , 'ward' , 'average']\n",
    "\n",
    "for i in range (2,16):\n",
    "    for x in linkages:\n",
    "        hc=AgglomerativeClustering(n_clusters= i, linkage=x)\n",
    "        y_hc=hc.fit_predict(airlines_norm)\n",
    "        sil_score = sil(airlines_norm, y_hc)\n",
    "        print('For n=',i,'and linkage =', x, 'Silhouette score is', np.round(sil_score,4))\n",
    " "
   ]
  },
  {
   "cell_type": "markdown",
   "id": "abe1049c",
   "metadata": {},
   "source": [
    "### Silhouette score is maximum for \n",
    "\n",
    "For n= 2 and linkage = single Silhouette score is 0.5359\n",
    "\n",
    "For n= 2 and linkage = ward Silhouette score is 0.5359 "
   ]
  },
  {
   "cell_type": "code",
   "execution_count": 22,
   "id": "5812a3d9",
   "metadata": {
    "ExecuteTime": {
     "end_time": "2022-11-02T11:17:22.481481Z",
     "start_time": "2022-11-02T11:17:22.469164Z"
    }
   },
   "outputs": [],
   "source": [
    "# create clusters with single linkage and n_clusters = 2\n",
    "hc = AgglomerativeClustering(n_clusters=2, affinity='euclidean', linkage= 'single')"
   ]
  },
  {
   "cell_type": "code",
   "execution_count": 23,
   "id": "4d6fa91d",
   "metadata": {
    "ExecuteTime": {
     "end_time": "2022-11-02T11:17:22.683928Z",
     "start_time": "2022-11-02T11:17:22.483994Z"
    }
   },
   "outputs": [
    {
     "data": {
      "text/plain": [
       "array([1, 1, 1, ..., 0, 1, 1], dtype=int64)"
      ]
     },
     "execution_count": 23,
     "metadata": {},
     "output_type": "execute_result"
    }
   ],
   "source": [
    "y_hc = hc.fit_predict(airlines_norm)\n",
    "y_hc "
   ]
  },
  {
   "cell_type": "code",
   "execution_count": 24,
   "id": "3f56b934",
   "metadata": {
    "ExecuteTime": {
     "end_time": "2022-11-02T11:17:22.713759Z",
     "start_time": "2022-11-02T11:17:22.683928Z"
    }
   },
   "outputs": [
    {
     "data": {
      "text/html": [
       "<div>\n",
       "<style scoped>\n",
       "    .dataframe tbody tr th:only-of-type {\n",
       "        vertical-align: middle;\n",
       "    }\n",
       "\n",
       "    .dataframe tbody tr th {\n",
       "        vertical-align: top;\n",
       "    }\n",
       "\n",
       "    .dataframe thead th {\n",
       "        text-align: right;\n",
       "    }\n",
       "</style>\n",
       "<table border=\"1\" class=\"dataframe\">\n",
       "  <thead>\n",
       "    <tr style=\"text-align: right;\">\n",
       "      <th></th>\n",
       "      <th>Balance</th>\n",
       "      <th>Qual_miles</th>\n",
       "      <th>cc1_miles</th>\n",
       "      <th>cc2_miles</th>\n",
       "      <th>cc3_miles</th>\n",
       "      <th>Bonus_miles</th>\n",
       "      <th>Bonus_trans</th>\n",
       "      <th>Flight_miles_12mo</th>\n",
       "      <th>Flight_trans_12</th>\n",
       "      <th>Days_since_enroll</th>\n",
       "      <th>Award</th>\n",
       "      <th>ClusterId_hc</th>\n",
       "    </tr>\n",
       "    <tr>\n",
       "      <th>Id</th>\n",
       "      <th></th>\n",
       "      <th></th>\n",
       "      <th></th>\n",
       "      <th></th>\n",
       "      <th></th>\n",
       "      <th></th>\n",
       "      <th></th>\n",
       "      <th></th>\n",
       "      <th></th>\n",
       "      <th></th>\n",
       "      <th></th>\n",
       "      <th></th>\n",
       "    </tr>\n",
       "  </thead>\n",
       "  <tbody>\n",
       "    <tr>\n",
       "      <th>1</th>\n",
       "      <td>28143</td>\n",
       "      <td>0</td>\n",
       "      <td>1</td>\n",
       "      <td>1</td>\n",
       "      <td>1</td>\n",
       "      <td>174</td>\n",
       "      <td>1</td>\n",
       "      <td>0</td>\n",
       "      <td>0</td>\n",
       "      <td>7000</td>\n",
       "      <td>0</td>\n",
       "      <td>1</td>\n",
       "    </tr>\n",
       "    <tr>\n",
       "      <th>2</th>\n",
       "      <td>19244</td>\n",
       "      <td>0</td>\n",
       "      <td>1</td>\n",
       "      <td>1</td>\n",
       "      <td>1</td>\n",
       "      <td>215</td>\n",
       "      <td>2</td>\n",
       "      <td>0</td>\n",
       "      <td>0</td>\n",
       "      <td>6968</td>\n",
       "      <td>0</td>\n",
       "      <td>1</td>\n",
       "    </tr>\n",
       "    <tr>\n",
       "      <th>3</th>\n",
       "      <td>41354</td>\n",
       "      <td>0</td>\n",
       "      <td>1</td>\n",
       "      <td>1</td>\n",
       "      <td>1</td>\n",
       "      <td>4123</td>\n",
       "      <td>4</td>\n",
       "      <td>0</td>\n",
       "      <td>0</td>\n",
       "      <td>7034</td>\n",
       "      <td>0</td>\n",
       "      <td>1</td>\n",
       "    </tr>\n",
       "    <tr>\n",
       "      <th>4</th>\n",
       "      <td>14776</td>\n",
       "      <td>0</td>\n",
       "      <td>1</td>\n",
       "      <td>1</td>\n",
       "      <td>1</td>\n",
       "      <td>500</td>\n",
       "      <td>1</td>\n",
       "      <td>0</td>\n",
       "      <td>0</td>\n",
       "      <td>6952</td>\n",
       "      <td>0</td>\n",
       "      <td>1</td>\n",
       "    </tr>\n",
       "    <tr>\n",
       "      <th>5</th>\n",
       "      <td>97752</td>\n",
       "      <td>0</td>\n",
       "      <td>4</td>\n",
       "      <td>1</td>\n",
       "      <td>1</td>\n",
       "      <td>43300</td>\n",
       "      <td>26</td>\n",
       "      <td>2077</td>\n",
       "      <td>4</td>\n",
       "      <td>6935</td>\n",
       "      <td>1</td>\n",
       "      <td>0</td>\n",
       "    </tr>\n",
       "    <tr>\n",
       "      <th>...</th>\n",
       "      <td>...</td>\n",
       "      <td>...</td>\n",
       "      <td>...</td>\n",
       "      <td>...</td>\n",
       "      <td>...</td>\n",
       "      <td>...</td>\n",
       "      <td>...</td>\n",
       "      <td>...</td>\n",
       "      <td>...</td>\n",
       "      <td>...</td>\n",
       "      <td>...</td>\n",
       "      <td>...</td>\n",
       "    </tr>\n",
       "    <tr>\n",
       "      <th>4017</th>\n",
       "      <td>18476</td>\n",
       "      <td>0</td>\n",
       "      <td>1</td>\n",
       "      <td>1</td>\n",
       "      <td>1</td>\n",
       "      <td>8525</td>\n",
       "      <td>4</td>\n",
       "      <td>200</td>\n",
       "      <td>1</td>\n",
       "      <td>1403</td>\n",
       "      <td>1</td>\n",
       "      <td>0</td>\n",
       "    </tr>\n",
       "    <tr>\n",
       "      <th>4018</th>\n",
       "      <td>64385</td>\n",
       "      <td>0</td>\n",
       "      <td>1</td>\n",
       "      <td>1</td>\n",
       "      <td>1</td>\n",
       "      <td>981</td>\n",
       "      <td>5</td>\n",
       "      <td>0</td>\n",
       "      <td>0</td>\n",
       "      <td>1395</td>\n",
       "      <td>1</td>\n",
       "      <td>0</td>\n",
       "    </tr>\n",
       "    <tr>\n",
       "      <th>4019</th>\n",
       "      <td>73597</td>\n",
       "      <td>0</td>\n",
       "      <td>3</td>\n",
       "      <td>1</td>\n",
       "      <td>1</td>\n",
       "      <td>25447</td>\n",
       "      <td>8</td>\n",
       "      <td>0</td>\n",
       "      <td>0</td>\n",
       "      <td>1402</td>\n",
       "      <td>1</td>\n",
       "      <td>0</td>\n",
       "    </tr>\n",
       "    <tr>\n",
       "      <th>4020</th>\n",
       "      <td>54899</td>\n",
       "      <td>0</td>\n",
       "      <td>1</td>\n",
       "      <td>1</td>\n",
       "      <td>1</td>\n",
       "      <td>500</td>\n",
       "      <td>1</td>\n",
       "      <td>500</td>\n",
       "      <td>1</td>\n",
       "      <td>1401</td>\n",
       "      <td>0</td>\n",
       "      <td>1</td>\n",
       "    </tr>\n",
       "    <tr>\n",
       "      <th>4021</th>\n",
       "      <td>3016</td>\n",
       "      <td>0</td>\n",
       "      <td>1</td>\n",
       "      <td>1</td>\n",
       "      <td>1</td>\n",
       "      <td>0</td>\n",
       "      <td>0</td>\n",
       "      <td>0</td>\n",
       "      <td>0</td>\n",
       "      <td>1398</td>\n",
       "      <td>0</td>\n",
       "      <td>1</td>\n",
       "    </tr>\n",
       "  </tbody>\n",
       "</table>\n",
       "<p>3998 rows × 12 columns</p>\n",
       "</div>"
      ],
      "text/plain": [
       "      Balance  Qual_miles  cc1_miles  cc2_miles  cc3_miles  Bonus_miles  \\\n",
       "Id                                                                        \n",
       "1       28143           0          1          1          1          174   \n",
       "2       19244           0          1          1          1          215   \n",
       "3       41354           0          1          1          1         4123   \n",
       "4       14776           0          1          1          1          500   \n",
       "5       97752           0          4          1          1        43300   \n",
       "...       ...         ...        ...        ...        ...          ...   \n",
       "4017    18476           0          1          1          1         8525   \n",
       "4018    64385           0          1          1          1          981   \n",
       "4019    73597           0          3          1          1        25447   \n",
       "4020    54899           0          1          1          1          500   \n",
       "4021     3016           0          1          1          1            0   \n",
       "\n",
       "      Bonus_trans  Flight_miles_12mo  Flight_trans_12  Days_since_enroll  \\\n",
       "Id                                                                         \n",
       "1               1                  0                0               7000   \n",
       "2               2                  0                0               6968   \n",
       "3               4                  0                0               7034   \n",
       "4               1                  0                0               6952   \n",
       "5              26               2077                4               6935   \n",
       "...           ...                ...              ...                ...   \n",
       "4017            4                200                1               1403   \n",
       "4018            5                  0                0               1395   \n",
       "4019            8                  0                0               1402   \n",
       "4020            1                500                1               1401   \n",
       "4021            0                  0                0               1398   \n",
       "\n",
       "      Award  ClusterId_hc  \n",
       "Id                         \n",
       "1         0             1  \n",
       "2         0             1  \n",
       "3         0             1  \n",
       "4         0             1  \n",
       "5         1             0  \n",
       "...     ...           ...  \n",
       "4017      1             0  \n",
       "4018      1             0  \n",
       "4019      1             0  \n",
       "4020      0             1  \n",
       "4021      0             1  \n",
       "\n",
       "[3998 rows x 12 columns]"
      ]
     },
     "execution_count": 24,
     "metadata": {},
     "output_type": "execute_result"
    }
   ],
   "source": [
    "airlines['ClusterId_hc'] = y_hc\n",
    "airlines "
   ]
  },
  {
   "cell_type": "code",
   "execution_count": 25,
   "id": "5e05afed",
   "metadata": {
    "ExecuteTime": {
     "end_time": "2022-11-02T11:17:22.730270Z",
     "start_time": "2022-11-02T11:17:22.713759Z"
    }
   },
   "outputs": [
    {
     "data": {
      "text/plain": [
       "1    2517\n",
       "0    1481\n",
       "Name: ClusterId_hc, dtype: int64"
      ]
     },
     "execution_count": 25,
     "metadata": {},
     "output_type": "execute_result"
    }
   ],
   "source": [
    "airlines['ClusterId_hc'].value_counts()"
   ]
  },
  {
   "cell_type": "code",
   "execution_count": 26,
   "id": "de82ec00",
   "metadata": {
    "ExecuteTime": {
     "end_time": "2022-11-02T11:17:22.769957Z",
     "start_time": "2022-11-02T11:17:22.730270Z"
    }
   },
   "outputs": [
    {
     "data": {
      "text/html": [
       "<div>\n",
       "<style scoped>\n",
       "    .dataframe tbody tr th:only-of-type {\n",
       "        vertical-align: middle;\n",
       "    }\n",
       "\n",
       "    .dataframe tbody tr th {\n",
       "        vertical-align: top;\n",
       "    }\n",
       "\n",
       "    .dataframe thead tr th {\n",
       "        text-align: left;\n",
       "    }\n",
       "\n",
       "    .dataframe thead tr:last-of-type th {\n",
       "        text-align: right;\n",
       "    }\n",
       "</style>\n",
       "<table border=\"1\" class=\"dataframe\">\n",
       "  <thead>\n",
       "    <tr>\n",
       "      <th></th>\n",
       "      <th>Balance</th>\n",
       "      <th>Qual_miles</th>\n",
       "      <th>cc1_miles</th>\n",
       "      <th>cc2_miles</th>\n",
       "      <th>cc3_miles</th>\n",
       "      <th>Bonus_miles</th>\n",
       "      <th>Bonus_trans</th>\n",
       "      <th>Flight_miles_12mo</th>\n",
       "      <th>Flight_trans_12</th>\n",
       "      <th>Days_since_enroll</th>\n",
       "      <th>Award</th>\n",
       "    </tr>\n",
       "    <tr>\n",
       "      <th></th>\n",
       "      <th>mean</th>\n",
       "      <th>mean</th>\n",
       "      <th>mean</th>\n",
       "      <th>mean</th>\n",
       "      <th>mean</th>\n",
       "      <th>mean</th>\n",
       "      <th>mean</th>\n",
       "      <th>mean</th>\n",
       "      <th>mean</th>\n",
       "      <th>mean</th>\n",
       "      <th>mean</th>\n",
       "    </tr>\n",
       "    <tr>\n",
       "      <th>ClusterId_hc</th>\n",
       "      <th></th>\n",
       "      <th></th>\n",
       "      <th></th>\n",
       "      <th></th>\n",
       "      <th></th>\n",
       "      <th></th>\n",
       "      <th></th>\n",
       "      <th></th>\n",
       "      <th></th>\n",
       "      <th></th>\n",
       "      <th></th>\n",
       "    </tr>\n",
       "  </thead>\n",
       "  <tbody>\n",
       "    <tr>\n",
       "      <th>0</th>\n",
       "      <td>97053.051317</td>\n",
       "      <td>240.196489</td>\n",
       "      <td>2.661715</td>\n",
       "      <td>1.015530</td>\n",
       "      <td>1.018231</td>\n",
       "      <td>28905.414585</td>\n",
       "      <td>15.782579</td>\n",
       "      <td>857.501013</td>\n",
       "      <td>2.599595</td>\n",
       "      <td>4625.062120</td>\n",
       "      <td>1.0</td>\n",
       "    </tr>\n",
       "    <tr>\n",
       "      <th>1</th>\n",
       "      <td>59831.203814</td>\n",
       "      <td>87.637267</td>\n",
       "      <td>1.705602</td>\n",
       "      <td>1.013905</td>\n",
       "      <td>1.008741</td>\n",
       "      <td>10231.752483</td>\n",
       "      <td>9.146603</td>\n",
       "      <td>226.382201</td>\n",
       "      <td>0.652761</td>\n",
       "      <td>3821.535558</td>\n",
       "      <td>0.0</td>\n",
       "    </tr>\n",
       "  </tbody>\n",
       "</table>\n",
       "</div>"
      ],
      "text/plain": [
       "                   Balance  Qual_miles cc1_miles cc2_miles cc3_miles  \\\n",
       "                      mean        mean      mean      mean      mean   \n",
       "ClusterId_hc                                                           \n",
       "0             97053.051317  240.196489  2.661715  1.015530  1.018231   \n",
       "1             59831.203814   87.637267  1.705602  1.013905  1.008741   \n",
       "\n",
       "               Bonus_miles Bonus_trans Flight_miles_12mo Flight_trans_12  \\\n",
       "                      mean        mean              mean            mean   \n",
       "ClusterId_hc                                                               \n",
       "0             28905.414585   15.782579        857.501013        2.599595   \n",
       "1             10231.752483    9.146603        226.382201        0.652761   \n",
       "\n",
       "             Days_since_enroll Award  \n",
       "                          mean  mean  \n",
       "ClusterId_hc                          \n",
       "0                  4625.062120   1.0  \n",
       "1                  3821.535558   0.0  "
      ]
     },
     "execution_count": 26,
     "metadata": {},
     "output_type": "execute_result"
    }
   ],
   "source": [
    "airlines.groupby('ClusterId_hc').agg(['mean'])"
   ]
  },
  {
   "cell_type": "code",
   "execution_count": 27,
   "id": "db98d339",
   "metadata": {
    "ExecuteTime": {
     "end_time": "2022-11-02T11:17:22.785757Z",
     "start_time": "2022-11-02T11:17:22.769957Z"
    }
   },
   "outputs": [
    {
     "data": {
      "text/html": [
       "<div>\n",
       "<style scoped>\n",
       "    .dataframe tbody tr th:only-of-type {\n",
       "        vertical-align: middle;\n",
       "    }\n",
       "\n",
       "    .dataframe tbody tr th {\n",
       "        vertical-align: top;\n",
       "    }\n",
       "\n",
       "    .dataframe thead th {\n",
       "        text-align: right;\n",
       "    }\n",
       "</style>\n",
       "<table border=\"1\" class=\"dataframe\">\n",
       "  <thead>\n",
       "    <tr style=\"text-align: right;\">\n",
       "      <th></th>\n",
       "      <th>Balance</th>\n",
       "      <th>Qual_miles</th>\n",
       "      <th>cc1_miles</th>\n",
       "      <th>cc2_miles</th>\n",
       "      <th>cc3_miles</th>\n",
       "      <th>Bonus_miles</th>\n",
       "      <th>Bonus_trans</th>\n",
       "      <th>Flight_miles_12mo</th>\n",
       "      <th>Flight_trans_12</th>\n",
       "      <th>Days_since_enroll</th>\n",
       "      <th>Award</th>\n",
       "      <th>ClusterId_hc</th>\n",
       "    </tr>\n",
       "    <tr>\n",
       "      <th>Id</th>\n",
       "      <th></th>\n",
       "      <th></th>\n",
       "      <th></th>\n",
       "      <th></th>\n",
       "      <th></th>\n",
       "      <th></th>\n",
       "      <th></th>\n",
       "      <th></th>\n",
       "      <th></th>\n",
       "      <th></th>\n",
       "      <th></th>\n",
       "      <th></th>\n",
       "    </tr>\n",
       "  </thead>\n",
       "  <tbody>\n",
       "    <tr>\n",
       "      <th>5</th>\n",
       "      <td>97752</td>\n",
       "      <td>0</td>\n",
       "      <td>4</td>\n",
       "      <td>1</td>\n",
       "      <td>1</td>\n",
       "      <td>43300</td>\n",
       "      <td>26</td>\n",
       "      <td>2077</td>\n",
       "      <td>4</td>\n",
       "      <td>6935</td>\n",
       "      <td>1</td>\n",
       "      <td>0</td>\n",
       "    </tr>\n",
       "    <tr>\n",
       "      <th>8</th>\n",
       "      <td>20856</td>\n",
       "      <td>0</td>\n",
       "      <td>1</td>\n",
       "      <td>1</td>\n",
       "      <td>1</td>\n",
       "      <td>5250</td>\n",
       "      <td>4</td>\n",
       "      <td>250</td>\n",
       "      <td>1</td>\n",
       "      <td>6938</td>\n",
       "      <td>1</td>\n",
       "      <td>0</td>\n",
       "    </tr>\n",
       "    <tr>\n",
       "      <th>9</th>\n",
       "      <td>443003</td>\n",
       "      <td>0</td>\n",
       "      <td>3</td>\n",
       "      <td>2</td>\n",
       "      <td>1</td>\n",
       "      <td>1753</td>\n",
       "      <td>43</td>\n",
       "      <td>3850</td>\n",
       "      <td>12</td>\n",
       "      <td>6948</td>\n",
       "      <td>1</td>\n",
       "      <td>0</td>\n",
       "    </tr>\n",
       "    <tr>\n",
       "      <th>10</th>\n",
       "      <td>104860</td>\n",
       "      <td>0</td>\n",
       "      <td>3</td>\n",
       "      <td>1</td>\n",
       "      <td>1</td>\n",
       "      <td>28426</td>\n",
       "      <td>28</td>\n",
       "      <td>1150</td>\n",
       "      <td>3</td>\n",
       "      <td>6931</td>\n",
       "      <td>1</td>\n",
       "      <td>0</td>\n",
       "    </tr>\n",
       "    <tr>\n",
       "      <th>12</th>\n",
       "      <td>96522</td>\n",
       "      <td>0</td>\n",
       "      <td>5</td>\n",
       "      <td>1</td>\n",
       "      <td>1</td>\n",
       "      <td>61105</td>\n",
       "      <td>19</td>\n",
       "      <td>0</td>\n",
       "      <td>0</td>\n",
       "      <td>6924</td>\n",
       "      <td>1</td>\n",
       "      <td>0</td>\n",
       "    </tr>\n",
       "  </tbody>\n",
       "</table>\n",
       "</div>"
      ],
      "text/plain": [
       "    Balance  Qual_miles  cc1_miles  cc2_miles  cc3_miles  Bonus_miles  \\\n",
       "Id                                                                      \n",
       "5     97752           0          4          1          1        43300   \n",
       "8     20856           0          1          1          1         5250   \n",
       "9    443003           0          3          2          1         1753   \n",
       "10   104860           0          3          1          1        28426   \n",
       "12    96522           0          5          1          1        61105   \n",
       "\n",
       "    Bonus_trans  Flight_miles_12mo  Flight_trans_12  Days_since_enroll  Award  \\\n",
       "Id                                                                              \n",
       "5            26               2077                4               6935      1   \n",
       "8             4                250                1               6938      1   \n",
       "9            43               3850               12               6948      1   \n",
       "10           28               1150                3               6931      1   \n",
       "12           19                  0                0               6924      1   \n",
       "\n",
       "    ClusterId_hc  \n",
       "Id                \n",
       "5              0  \n",
       "8              0  \n",
       "9              0  \n",
       "10             0  \n",
       "12             0  "
      ]
     },
     "execution_count": 27,
     "metadata": {},
     "output_type": "execute_result"
    }
   ],
   "source": [
    "airlines[airlines.ClusterId_hc==0].head()"
   ]
  },
  {
   "cell_type": "code",
   "execution_count": 28,
   "id": "c4a2bfef",
   "metadata": {
    "ExecuteTime": {
     "end_time": "2022-11-02T11:17:22.817384Z",
     "start_time": "2022-11-02T11:17:22.785757Z"
    }
   },
   "outputs": [
    {
     "data": {
      "text/html": [
       "<div>\n",
       "<style scoped>\n",
       "    .dataframe tbody tr th:only-of-type {\n",
       "        vertical-align: middle;\n",
       "    }\n",
       "\n",
       "    .dataframe tbody tr th {\n",
       "        vertical-align: top;\n",
       "    }\n",
       "\n",
       "    .dataframe thead th {\n",
       "        text-align: right;\n",
       "    }\n",
       "</style>\n",
       "<table border=\"1\" class=\"dataframe\">\n",
       "  <thead>\n",
       "    <tr style=\"text-align: right;\">\n",
       "      <th></th>\n",
       "      <th>Balance</th>\n",
       "      <th>Qual_miles</th>\n",
       "      <th>cc1_miles</th>\n",
       "      <th>cc2_miles</th>\n",
       "      <th>cc3_miles</th>\n",
       "      <th>Bonus_miles</th>\n",
       "      <th>Bonus_trans</th>\n",
       "      <th>Flight_miles_12mo</th>\n",
       "      <th>Flight_trans_12</th>\n",
       "      <th>Days_since_enroll</th>\n",
       "      <th>Award</th>\n",
       "      <th>ClusterId_hc</th>\n",
       "    </tr>\n",
       "    <tr>\n",
       "      <th>Id</th>\n",
       "      <th></th>\n",
       "      <th></th>\n",
       "      <th></th>\n",
       "      <th></th>\n",
       "      <th></th>\n",
       "      <th></th>\n",
       "      <th></th>\n",
       "      <th></th>\n",
       "      <th></th>\n",
       "      <th></th>\n",
       "      <th></th>\n",
       "      <th></th>\n",
       "    </tr>\n",
       "  </thead>\n",
       "  <tbody>\n",
       "    <tr>\n",
       "      <th>1</th>\n",
       "      <td>28143</td>\n",
       "      <td>0</td>\n",
       "      <td>1</td>\n",
       "      <td>1</td>\n",
       "      <td>1</td>\n",
       "      <td>174</td>\n",
       "      <td>1</td>\n",
       "      <td>0</td>\n",
       "      <td>0</td>\n",
       "      <td>7000</td>\n",
       "      <td>0</td>\n",
       "      <td>1</td>\n",
       "    </tr>\n",
       "    <tr>\n",
       "      <th>2</th>\n",
       "      <td>19244</td>\n",
       "      <td>0</td>\n",
       "      <td>1</td>\n",
       "      <td>1</td>\n",
       "      <td>1</td>\n",
       "      <td>215</td>\n",
       "      <td>2</td>\n",
       "      <td>0</td>\n",
       "      <td>0</td>\n",
       "      <td>6968</td>\n",
       "      <td>0</td>\n",
       "      <td>1</td>\n",
       "    </tr>\n",
       "    <tr>\n",
       "      <th>3</th>\n",
       "      <td>41354</td>\n",
       "      <td>0</td>\n",
       "      <td>1</td>\n",
       "      <td>1</td>\n",
       "      <td>1</td>\n",
       "      <td>4123</td>\n",
       "      <td>4</td>\n",
       "      <td>0</td>\n",
       "      <td>0</td>\n",
       "      <td>7034</td>\n",
       "      <td>0</td>\n",
       "      <td>1</td>\n",
       "    </tr>\n",
       "    <tr>\n",
       "      <th>4</th>\n",
       "      <td>14776</td>\n",
       "      <td>0</td>\n",
       "      <td>1</td>\n",
       "      <td>1</td>\n",
       "      <td>1</td>\n",
       "      <td>500</td>\n",
       "      <td>1</td>\n",
       "      <td>0</td>\n",
       "      <td>0</td>\n",
       "      <td>6952</td>\n",
       "      <td>0</td>\n",
       "      <td>1</td>\n",
       "    </tr>\n",
       "    <tr>\n",
       "      <th>6</th>\n",
       "      <td>16420</td>\n",
       "      <td>0</td>\n",
       "      <td>1</td>\n",
       "      <td>1</td>\n",
       "      <td>1</td>\n",
       "      <td>0</td>\n",
       "      <td>0</td>\n",
       "      <td>0</td>\n",
       "      <td>0</td>\n",
       "      <td>6942</td>\n",
       "      <td>0</td>\n",
       "      <td>1</td>\n",
       "    </tr>\n",
       "  </tbody>\n",
       "</table>\n",
       "</div>"
      ],
      "text/plain": [
       "    Balance  Qual_miles  cc1_miles  cc2_miles  cc3_miles  Bonus_miles  \\\n",
       "Id                                                                      \n",
       "1     28143           0          1          1          1          174   \n",
       "2     19244           0          1          1          1          215   \n",
       "3     41354           0          1          1          1         4123   \n",
       "4     14776           0          1          1          1          500   \n",
       "6     16420           0          1          1          1            0   \n",
       "\n",
       "    Bonus_trans  Flight_miles_12mo  Flight_trans_12  Days_since_enroll  Award  \\\n",
       "Id                                                                              \n",
       "1             1                  0                0               7000      0   \n",
       "2             2                  0                0               6968      0   \n",
       "3             4                  0                0               7034      0   \n",
       "4             1                  0                0               6952      0   \n",
       "6             0                  0                0               6942      0   \n",
       "\n",
       "    ClusterId_hc  \n",
       "Id                \n",
       "1              1  \n",
       "2              1  \n",
       "3              1  \n",
       "4              1  \n",
       "6              1  "
      ]
     },
     "execution_count": 28,
     "metadata": {},
     "output_type": "execute_result"
    }
   ],
   "source": [
    "airlines[airlines.ClusterId_hc==1].head()"
   ]
  },
  {
   "cell_type": "markdown",
   "id": "dfae66ce",
   "metadata": {},
   "source": [
    "Here, Clustering is very precisely done because mean(Award) of clusterid 0 is 1 \n",
    "\n",
    "And mean(Award) of clusterid 1 is 0 "
   ]
  },
  {
   "cell_type": "markdown",
   "id": "8cadb19a",
   "metadata": {},
   "source": [
    "Optimum no. of clusters is 2 \n",
    "\n",
    "Cluster0 indicates the group of fliers that earn the most out of the card and are frequent fliers\n",
    "\n",
    "Cluster1 indicates the group of fliers that earn the least and are the least frequent fliers"
   ]
  },
  {
   "cell_type": "markdown",
   "id": "f64d2d49",
   "metadata": {},
   "source": [
    "# 2) KMeans Clustering "
   ]
  },
  {
   "cell_type": "markdown",
   "id": "cba7c68a",
   "metadata": {},
   "source": [
    "K-means clustering is an unsupervised algorithm. In an unsupervised algorithm, we are not interested in making predictions (since we don’t have a target/output variable). The objective is to discover interesting patterns in the data, e.g., are there any subgroups or ‘clusters’ in dataset\n",
    "\n",
    "K-means is a centroid-based algorithm, where we calculate the distances to assign a point to a cluster. In K-Means, each cluster is associated with a centroid.\n",
    "\n",
    "The main objective of the K-Means algorithm is to minimize the sum of distances between the points and their respective cluster centroid. The first step in k-means is to pick the number of clusters, k. Then keep the iterations running until one of the below satisifes:\n",
    "\n",
    "Centroids of newly formed clusters do not change\n",
    "\n",
    "Points remain in the same cluster\n",
    "\n",
    "Maximum number of iterations are reached\n",
    "\n",
    "In K Means clustering we need to first assign the K number of clusters which can be taken up using the thumb rule of \"Sqrt(n)/2\" or plotting the Elbow curve. "
   ]
  },
  {
   "cell_type": "markdown",
   "id": "50302471",
   "metadata": {},
   "source": [
    "How to find optimum number of cluster?\n",
    "\n",
    "The K-means algorithm aims to choose centroids that minimise the inertia, or within-cluster sum-of-squares criterion"
   ]
  },
  {
   "cell_type": "code",
   "execution_count": 29,
   "id": "17bb6740",
   "metadata": {
    "ExecuteTime": {
     "end_time": "2022-11-02T11:17:25.100500Z",
     "start_time": "2022-11-02T11:17:22.817384Z"
    }
   },
   "outputs": [
    {
     "data": {
      "text/plain": [
       "[43978.00000000003,\n",
       " 35402.34837621176,\n",
       " 30893.11168165174,\n",
       " 27148.665385482644,\n",
       " 23696.281421752734,\n",
       " 21086.32585789828,\n",
       " 19877.921691970343,\n",
       " 17315.915710341415,\n",
       " 15961.460885732235,\n",
       " 14725.18561100447,\n",
       " 13704.877019618045,\n",
       " 12945.293037319609,\n",
       " 12426.457990719557,\n",
       " 11974.043140119276,\n",
       " 11562.614067481605]"
      ]
     },
     "execution_count": 29,
     "metadata": {},
     "output_type": "execute_result"
    }
   ],
   "source": [
    "wcss = []\n",
    "\n",
    "for i in range (1, 16):\n",
    "    kmeans = KMeans(n_clusters=i, random_state=0)\n",
    "    kmeans.fit(airlines_std)\n",
    "    wcss.append(kmeans.inertia_)\n",
    "    \n",
    "wcss "
   ]
  },
  {
   "cell_type": "code",
   "execution_count": 30,
   "id": "67e4be65",
   "metadata": {
    "ExecuteTime": {
     "end_time": "2022-11-02T11:17:25.212759Z",
     "start_time": "2022-11-02T11:17:25.100500Z"
    }
   },
   "outputs": [
    {
     "data": {
      "image/png": "[encoded data removed]",
      "text/plain": [
       "<Figure size 432x288 with 1 Axes>"
      ]
     },
     "metadata": {
      "needs_background": "light"
     },
     "output_type": "display_data"
    }
   ],
   "source": [
    "plt.plot(range(1, 16), wcss)\n",
    "plt.title('Elbow Method')\n",
    "plt.xlabel('Number of clusters')\n",
    "plt.ylabel('WCSS')\n",
    "plt.show()"
   ]
  },
  {
   "cell_type": "markdown",
   "id": "59417e4b",
   "metadata": {},
   "source": [
    "Elbow is not clearly visible, so lets take help of silhouette score to find out optimum no. of clusters."
   ]
  },
  {
   "cell_type": "code",
   "execution_count": 31,
   "id": "b7eb126a",
   "metadata": {
    "ExecuteTime": {
     "end_time": "2022-11-02T11:17:30.697025Z",
     "start_time": "2022-11-02T11:17:25.213764Z"
    }
   },
   "outputs": [
    {
     "name": "stdout",
     "output_type": "stream",
     "text": [
      "For cluster = 2 The silhouette score is 0.3257060145329871\n",
      "For cluster = 3 The silhouette score is 0.3111038346820003\n",
      "For cluster = 4 The silhouette score is 0.32048584058774454\n",
      "For cluster = 5 The silhouette score is 0.32375619142546985\n",
      "For cluster = 6 The silhouette score is 0.3327949137024568\n",
      "For cluster = 7 The silhouette score is 0.26577652217528075\n",
      "For cluster = 8 The silhouette score is 0.23669847546322711\n",
      "For cluster = 9 The silhouette score is 0.29892167080233395\n",
      "For cluster = 10 The silhouette score is 0.26152289188446176\n",
      "For cluster = 11 The silhouette score is 0.2677620338174949\n",
      "For cluster = 12 The silhouette score is 0.2747091046689006\n",
      "For cluster = 13 The silhouette score is 0.2691925979169026\n",
      "For cluster = 14 The silhouette score is 0.27041305382843694\n",
      "For cluster = 15 The silhouette score is 0.27265461657652895\n"
     ]
    }
   ],
   "source": [
    "for i in range (2,16):\n",
    "        clusters = KMeans(n_clusters=i, random_state= 1)\n",
    "        clusters.fit(airlines_std) \n",
    "        sil_score =sil(airlines_std , clusters.labels_ )\n",
    "        print('For cluster =', i , 'The silhouette score is', sil_score)  "
   ]
  },
  {
   "cell_type": "markdown",
   "id": "ba62ab70",
   "metadata": {},
   "source": [
    "### Silhouette score is maximum for n_clusters = 2"
   ]
  },
  {
   "cell_type": "code",
   "execution_count": 32,
   "id": "da9a31e7",
   "metadata": {
    "ExecuteTime": {
     "end_time": "2022-11-02T11:17:30.753751Z",
     "start_time": "2022-11-02T11:17:30.697025Z"
    }
   },
   "outputs": [
    {
     "data": {
      "text/plain": [
       "KMeans(n_clusters=2, random_state=1)"
      ]
     },
     "execution_count": 32,
     "metadata": {},
     "output_type": "execute_result"
    }
   ],
   "source": [
    "clusters = KMeans(n_clusters=2, random_state= 1)\n",
    "clusters.fit(airlines_std)"
   ]
  },
  {
   "cell_type": "code",
   "execution_count": 33,
   "id": "0976a58f",
   "metadata": {
    "ExecuteTime": {
     "end_time": "2022-11-02T11:17:30.760287Z",
     "start_time": "2022-11-02T11:17:30.753751Z"
    }
   },
   "outputs": [
    {
     "data": {
      "text/plain": [
       "array([1, 1, 1, ..., 1, 1, 1])"
      ]
     },
     "execution_count": 33,
     "metadata": {},
     "output_type": "execute_result"
    }
   ],
   "source": [
    "clusters.labels_ "
   ]
  },
  {
   "cell_type": "code",
   "execution_count": 34,
   "id": "47fada31",
   "metadata": {
    "ExecuteTime": {
     "end_time": "2022-11-02T11:17:30.792129Z",
     "start_time": "2022-11-02T11:17:30.760287Z"
    }
   },
   "outputs": [
    {
     "data": {
      "text/html": [
       "<div>\n",
       "<style scoped>\n",
       "    .dataframe tbody tr th:only-of-type {\n",
       "        vertical-align: middle;\n",
       "    }\n",
       "\n",
       "    .dataframe tbody tr th {\n",
       "        vertical-align: top;\n",
       "    }\n",
       "\n",
       "    .dataframe thead th {\n",
       "        text-align: right;\n",
       "    }\n",
       "</style>\n",
       "<table border=\"1\" class=\"dataframe\">\n",
       "  <thead>\n",
       "    <tr style=\"text-align: right;\">\n",
       "      <th></th>\n",
       "      <th>Balance</th>\n",
       "      <th>Qual_miles</th>\n",
       "      <th>cc1_miles</th>\n",
       "      <th>cc2_miles</th>\n",
       "      <th>cc3_miles</th>\n",
       "      <th>Bonus_miles</th>\n",
       "      <th>Bonus_trans</th>\n",
       "      <th>Flight_miles_12mo</th>\n",
       "      <th>Flight_trans_12</th>\n",
       "      <th>Days_since_enroll</th>\n",
       "      <th>Award</th>\n",
       "      <th>ClusterId_hc</th>\n",
       "      <th>Clusterid_kmeans</th>\n",
       "    </tr>\n",
       "    <tr>\n",
       "      <th>Id</th>\n",
       "      <th></th>\n",
       "      <th></th>\n",
       "      <th></th>\n",
       "      <th></th>\n",
       "      <th></th>\n",
       "      <th></th>\n",
       "      <th></th>\n",
       "      <th></th>\n",
       "      <th></th>\n",
       "      <th></th>\n",
       "      <th></th>\n",
       "      <th></th>\n",
       "      <th></th>\n",
       "    </tr>\n",
       "  </thead>\n",
       "  <tbody>\n",
       "    <tr>\n",
       "      <th>1</th>\n",
       "      <td>28143</td>\n",
       "      <td>0</td>\n",
       "      <td>1</td>\n",
       "      <td>1</td>\n",
       "      <td>1</td>\n",
       "      <td>174</td>\n",
       "      <td>1</td>\n",
       "      <td>0</td>\n",
       "      <td>0</td>\n",
       "      <td>7000</td>\n",
       "      <td>0</td>\n",
       "      <td>1</td>\n",
       "      <td>1</td>\n",
       "    </tr>\n",
       "    <tr>\n",
       "      <th>2</th>\n",
       "      <td>19244</td>\n",
       "      <td>0</td>\n",
       "      <td>1</td>\n",
       "      <td>1</td>\n",
       "      <td>1</td>\n",
       "      <td>215</td>\n",
       "      <td>2</td>\n",
       "      <td>0</td>\n",
       "      <td>0</td>\n",
       "      <td>6968</td>\n",
       "      <td>0</td>\n",
       "      <td>1</td>\n",
       "      <td>1</td>\n",
       "    </tr>\n",
       "    <tr>\n",
       "      <th>3</th>\n",
       "      <td>41354</td>\n",
       "      <td>0</td>\n",
       "      <td>1</td>\n",
       "      <td>1</td>\n",
       "      <td>1</td>\n",
       "      <td>4123</td>\n",
       "      <td>4</td>\n",
       "      <td>0</td>\n",
       "      <td>0</td>\n",
       "      <td>7034</td>\n",
       "      <td>0</td>\n",
       "      <td>1</td>\n",
       "      <td>1</td>\n",
       "    </tr>\n",
       "    <tr>\n",
       "      <th>4</th>\n",
       "      <td>14776</td>\n",
       "      <td>0</td>\n",
       "      <td>1</td>\n",
       "      <td>1</td>\n",
       "      <td>1</td>\n",
       "      <td>500</td>\n",
       "      <td>1</td>\n",
       "      <td>0</td>\n",
       "      <td>0</td>\n",
       "      <td>6952</td>\n",
       "      <td>0</td>\n",
       "      <td>1</td>\n",
       "      <td>1</td>\n",
       "    </tr>\n",
       "    <tr>\n",
       "      <th>5</th>\n",
       "      <td>97752</td>\n",
       "      <td>0</td>\n",
       "      <td>4</td>\n",
       "      <td>1</td>\n",
       "      <td>1</td>\n",
       "      <td>43300</td>\n",
       "      <td>26</td>\n",
       "      <td>2077</td>\n",
       "      <td>4</td>\n",
       "      <td>6935</td>\n",
       "      <td>1</td>\n",
       "      <td>0</td>\n",
       "      <td>0</td>\n",
       "    </tr>\n",
       "    <tr>\n",
       "      <th>...</th>\n",
       "      <td>...</td>\n",
       "      <td>...</td>\n",
       "      <td>...</td>\n",
       "      <td>...</td>\n",
       "      <td>...</td>\n",
       "      <td>...</td>\n",
       "      <td>...</td>\n",
       "      <td>...</td>\n",
       "      <td>...</td>\n",
       "      <td>...</td>\n",
       "      <td>...</td>\n",
       "      <td>...</td>\n",
       "      <td>...</td>\n",
       "    </tr>\n",
       "    <tr>\n",
       "      <th>4017</th>\n",
       "      <td>18476</td>\n",
       "      <td>0</td>\n",
       "      <td>1</td>\n",
       "      <td>1</td>\n",
       "      <td>1</td>\n",
       "      <td>8525</td>\n",
       "      <td>4</td>\n",
       "      <td>200</td>\n",
       "      <td>1</td>\n",
       "      <td>1403</td>\n",
       "      <td>1</td>\n",
       "      <td>0</td>\n",
       "      <td>1</td>\n",
       "    </tr>\n",
       "    <tr>\n",
       "      <th>4018</th>\n",
       "      <td>64385</td>\n",
       "      <td>0</td>\n",
       "      <td>1</td>\n",
       "      <td>1</td>\n",
       "      <td>1</td>\n",
       "      <td>981</td>\n",
       "      <td>5</td>\n",
       "      <td>0</td>\n",
       "      <td>0</td>\n",
       "      <td>1395</td>\n",
       "      <td>1</td>\n",
       "      <td>0</td>\n",
       "      <td>1</td>\n",
       "    </tr>\n",
       "    <tr>\n",
       "      <th>4019</th>\n",
       "      <td>73597</td>\n",
       "      <td>0</td>\n",
       "      <td>3</td>\n",
       "      <td>1</td>\n",
       "      <td>1</td>\n",
       "      <td>25447</td>\n",
       "      <td>8</td>\n",
       "      <td>0</td>\n",
       "      <td>0</td>\n",
       "      <td>1402</td>\n",
       "      <td>1</td>\n",
       "      <td>0</td>\n",
       "      <td>1</td>\n",
       "    </tr>\n",
       "    <tr>\n",
       "      <th>4020</th>\n",
       "      <td>54899</td>\n",
       "      <td>0</td>\n",
       "      <td>1</td>\n",
       "      <td>1</td>\n",
       "      <td>1</td>\n",
       "      <td>500</td>\n",
       "      <td>1</td>\n",
       "      <td>500</td>\n",
       "      <td>1</td>\n",
       "      <td>1401</td>\n",
       "      <td>0</td>\n",
       "      <td>1</td>\n",
       "      <td>1</td>\n",
       "    </tr>\n",
       "    <tr>\n",
       "      <th>4021</th>\n",
       "      <td>3016</td>\n",
       "      <td>0</td>\n",
       "      <td>1</td>\n",
       "      <td>1</td>\n",
       "      <td>1</td>\n",
       "      <td>0</td>\n",
       "      <td>0</td>\n",
       "      <td>0</td>\n",
       "      <td>0</td>\n",
       "      <td>1398</td>\n",
       "      <td>0</td>\n",
       "      <td>1</td>\n",
       "      <td>1</td>\n",
       "    </tr>\n",
       "  </tbody>\n",
       "</table>\n",
       "<p>3998 rows × 13 columns</p>\n",
       "</div>"
      ],
      "text/plain": [
       "      Balance  Qual_miles  cc1_miles  cc2_miles  cc3_miles  Bonus_miles  \\\n",
       "Id                                                                        \n",
       "1       28143           0          1          1          1          174   \n",
       "2       19244           0          1          1          1          215   \n",
       "3       41354           0          1          1          1         4123   \n",
       "4       14776           0          1          1          1          500   \n",
       "5       97752           0          4          1          1        43300   \n",
       "...       ...         ...        ...        ...        ...          ...   \n",
       "4017    18476           0          1          1          1         8525   \n",
       "4018    64385           0          1          1          1          981   \n",
       "4019    73597           0          3          1          1        25447   \n",
       "4020    54899           0          1          1          1          500   \n",
       "4021     3016           0          1          1          1            0   \n",
       "\n",
       "      Bonus_trans  Flight_miles_12mo  Flight_trans_12  Days_since_enroll  \\\n",
       "Id                                                                         \n",
       "1               1                  0                0               7000   \n",
       "2               2                  0                0               6968   \n",
       "3               4                  0                0               7034   \n",
       "4               1                  0                0               6952   \n",
       "5              26               2077                4               6935   \n",
       "...           ...                ...              ...                ...   \n",
       "4017            4                200                1               1403   \n",
       "4018            5                  0                0               1395   \n",
       "4019            8                  0                0               1402   \n",
       "4020            1                500                1               1401   \n",
       "4021            0                  0                0               1398   \n",
       "\n",
       "      Award  ClusterId_hc  Clusterid_kmeans  \n",
       "Id                                           \n",
       "1         0             1                 1  \n",
       "2         0             1                 1  \n",
       "3         0             1                 1  \n",
       "4         0             1                 1  \n",
       "5         1             0                 0  \n",
       "...     ...           ...               ...  \n",
       "4017      1             0                 1  \n",
       "4018      1             0                 1  \n",
       "4019      1             0                 1  \n",
       "4020      0             1                 1  \n",
       "4021      0             1                 1  \n",
       "\n",
       "[3998 rows x 13 columns]"
      ]
     },
     "execution_count": 34,
     "metadata": {},
     "output_type": "execute_result"
    }
   ],
   "source": [
    "airlines['Clusterid_kmeans'] = clusters.labels_ \n",
    "airlines "
   ]
  },
  {
   "cell_type": "code",
   "execution_count": 35,
   "id": "2367d5c5",
   "metadata": {
    "ExecuteTime": {
     "end_time": "2022-11-02T11:17:30.808122Z",
     "start_time": "2022-11-02T11:17:30.792129Z"
    }
   },
   "outputs": [
    {
     "data": {
      "text/plain": [
       "1    2699\n",
       "0    1299\n",
       "Name: Clusterid_kmeans, dtype: int64"
      ]
     },
     "execution_count": 35,
     "metadata": {},
     "output_type": "execute_result"
    }
   ],
   "source": [
    "airlines['Clusterid_kmeans'].value_counts()"
   ]
  },
  {
   "cell_type": "code",
   "execution_count": 36,
   "id": "1238fead",
   "metadata": {
    "ExecuteTime": {
     "end_time": "2022-11-02T11:17:30.839716Z",
     "start_time": "2022-11-02T11:17:30.808122Z"
    }
   },
   "outputs": [
    {
     "data": {
      "text/html": [
       "<div>\n",
       "<style scoped>\n",
       "    .dataframe tbody tr th:only-of-type {\n",
       "        vertical-align: middle;\n",
       "    }\n",
       "\n",
       "    .dataframe tbody tr th {\n",
       "        vertical-align: top;\n",
       "    }\n",
       "\n",
       "    .dataframe thead tr th {\n",
       "        text-align: left;\n",
       "    }\n",
       "\n",
       "    .dataframe thead tr:last-of-type th {\n",
       "        text-align: right;\n",
       "    }\n",
       "</style>\n",
       "<table border=\"1\" class=\"dataframe\">\n",
       "  <thead>\n",
       "    <tr>\n",
       "      <th></th>\n",
       "      <th>Balance</th>\n",
       "      <th>Qual_miles</th>\n",
       "      <th>cc1_miles</th>\n",
       "      <th>cc2_miles</th>\n",
       "      <th>cc3_miles</th>\n",
       "      <th>Bonus_miles</th>\n",
       "      <th>Bonus_trans</th>\n",
       "      <th>Flight_miles_12mo</th>\n",
       "      <th>Flight_trans_12</th>\n",
       "      <th>Days_since_enroll</th>\n",
       "      <th>Award</th>\n",
       "      <th>ClusterId_hc</th>\n",
       "    </tr>\n",
       "    <tr>\n",
       "      <th></th>\n",
       "      <th>mean</th>\n",
       "      <th>mean</th>\n",
       "      <th>mean</th>\n",
       "      <th>mean</th>\n",
       "      <th>mean</th>\n",
       "      <th>mean</th>\n",
       "      <th>mean</th>\n",
       "      <th>mean</th>\n",
       "      <th>mean</th>\n",
       "      <th>mean</th>\n",
       "      <th>mean</th>\n",
       "      <th>mean</th>\n",
       "    </tr>\n",
       "    <tr>\n",
       "      <th>Clusterid_kmeans</th>\n",
       "      <th></th>\n",
       "      <th></th>\n",
       "      <th></th>\n",
       "      <th></th>\n",
       "      <th></th>\n",
       "      <th></th>\n",
       "      <th></th>\n",
       "      <th></th>\n",
       "      <th></th>\n",
       "      <th></th>\n",
       "      <th></th>\n",
       "      <th></th>\n",
       "    </tr>\n",
       "  </thead>\n",
       "  <tbody>\n",
       "    <tr>\n",
       "      <th>0</th>\n",
       "      <td>132849.454965</td>\n",
       "      <td>258.394149</td>\n",
       "      <td>3.612009</td>\n",
       "      <td>1.010008</td>\n",
       "      <td>1.036952</td>\n",
       "      <td>41481.426482</td>\n",
       "      <td>20.393380</td>\n",
       "      <td>969.467283</td>\n",
       "      <td>2.909161</td>\n",
       "      <td>4941.665127</td>\n",
       "      <td>0.709777</td>\n",
       "      <td>0.290223</td>\n",
       "    </tr>\n",
       "    <tr>\n",
       "      <th>1</th>\n",
       "      <td>45112.733235</td>\n",
       "      <td>89.166358</td>\n",
       "      <td>1.312708</td>\n",
       "      <td>1.016673</td>\n",
       "      <td>1.000371</td>\n",
       "      <td>5438.261208</td>\n",
       "      <td>7.374954</td>\n",
       "      <td>215.051871</td>\n",
       "      <td>0.635050</td>\n",
       "      <td>3723.341608</td>\n",
       "      <td>0.207114</td>\n",
       "      <td>0.792886</td>\n",
       "    </tr>\n",
       "  </tbody>\n",
       "</table>\n",
       "</div>"
      ],
      "text/plain": [
       "                        Balance  Qual_miles cc1_miles cc2_miles cc3_miles  \\\n",
       "                           mean        mean      mean      mean      mean   \n",
       "Clusterid_kmeans                                                            \n",
       "0                 132849.454965  258.394149  3.612009  1.010008  1.036952   \n",
       "1                  45112.733235   89.166358  1.312708  1.016673  1.000371   \n",
       "\n",
       "                   Bonus_miles Bonus_trans Flight_miles_12mo Flight_trans_12  \\\n",
       "                          mean        mean              mean            mean   \n",
       "Clusterid_kmeans                                                               \n",
       "0                 41481.426482   20.393380        969.467283        2.909161   \n",
       "1                  5438.261208    7.374954        215.051871        0.635050   \n",
       "\n",
       "                 Days_since_enroll     Award ClusterId_hc  \n",
       "                              mean      mean         mean  \n",
       "Clusterid_kmeans                                           \n",
       "0                      4941.665127  0.709777     0.290223  \n",
       "1                      3723.341608  0.207114     0.792886  "
      ]
     },
     "execution_count": 36,
     "metadata": {},
     "output_type": "execute_result"
    }
   ],
   "source": [
    "airlines.groupby('Clusterid_kmeans').agg(['mean'])"
   ]
  },
  {
   "cell_type": "markdown",
   "id": "3bf27f7a",
   "metadata": {},
   "source": [
    "Optimum no. of clusters is 2\n",
    "\n",
    "Cluster0 indicates the group of fliers that earn the most out of the card and are frequent fliers\n",
    "\n",
    "Cluster1 indicates the group of fliers that earn the least and are the least frequent fliers"
   ]
  },
  {
   "cell_type": "markdown",
   "id": "a45c7a12",
   "metadata": {},
   "source": [
    "# 3)DB SCAN "
   ]
  },
  {
   "cell_type": "markdown",
   "id": "860abb3b",
   "metadata": {},
   "source": [
    "K-means, hierarchical clustering work for finding spherical-shaped clusters or convex clusters. They are suitable only for compact and well-separated clusters. Moreover, they are also severely affected by the presence of noise and outliers in the data.\n",
    "\n",
    "In real life, Clusters can be of arbitrary shape and may contain noise.\n",
    "\n",
    "Hence, to overcome these shortcomings we use DB SCAN"
   ]
  },
  {
   "cell_type": "markdown",
   "id": "8866b96d",
   "metadata": {},
   "source": [
    "### The DBSCAN algorithm uses two parameters: "
   ]
  },
  {
   "cell_type": "markdown",
   "id": "b99efb0d",
   "metadata": {},
   "source": [
    "minPts: The minimum number of points clustered together for a region to be considered dense.\n",
    "\n",
    "eps (ε): A distance that will be used to locate the points in the neighborhood of any point. "
   ]
  },
  {
   "cell_type": "markdown",
   "id": "5f43f846",
   "metadata": {},
   "source": [
    "### There are three types of points after the DBSCAN clustering is complete:"
   ]
  },
  {
   "cell_type": "markdown",
   "id": "7745aa67",
   "metadata": {},
   "source": [
    "Core — This is a point that has at least m points within distance n from itself.\n",
    "\n",
    "Border — This is a point that has at least one Core point at a distance n.\n",
    "\n",
    "Noise — This is a point that is neither a Core nor a Border. And it has less than m points within distance n from itself."
   ]
  },
  {
   "cell_type": "markdown",
   "id": "d228a439",
   "metadata": {},
   "source": [
    "#### Silhouette score"
   ]
  },
  {
   "cell_type": "code",
   "execution_count": 37,
   "id": "76e1acb1",
   "metadata": {
    "ExecuteTime": {
     "end_time": "2022-11-02T11:17:30.855784Z",
     "start_time": "2022-11-02T11:17:30.839716Z"
    }
   },
   "outputs": [],
   "source": [
    "df=pd.DataFrame()\n",
    "epss=[]\n",
    "min_sample=[]\n",
    "sil_scores=[]"
   ]
  },
  {
   "cell_type": "code",
   "execution_count": 38,
   "id": "3a6d8e5f",
   "metadata": {
    "ExecuteTime": {
     "end_time": "2022-11-02T11:21:23.526330Z",
     "start_time": "2022-11-02T11:17:30.855784Z"
    }
   },
   "outputs": [],
   "source": [
    "eps = [0.25,0.5,0.75,1.00,1.25,1.5,1.75,2.0,2.25,2.5,2.75,3.0]\n",
    "min_samples = [2,3,4,5,6,7,8,9,10,11,12,13,14,15,16,17,18,19,20,21,22,23,24]\n",
    "\n",
    "for i in range (len(eps)):\n",
    "    for j in range (len(min_samples)):\n",
    "        dbscan = DBSCAN(eps=eps[i] , min_samples=min_samples[j])\n",
    "        dbscan.fit(airlines_std)\n",
    "        sil_score=sil(airlines_std, dbscan.labels_)\n",
    "        epss.append(eps[i])\n",
    "        min_sample.append(min_samples[j])\n",
    "        sil_scores.append(sil_score) "
   ]
  },
  {
   "cell_type": "code",
   "execution_count": 39,
   "id": "4f2e0dd3",
   "metadata": {
    "ExecuteTime": {
     "end_time": "2022-11-02T11:21:23.542166Z",
     "start_time": "2022-11-02T11:21:23.526330Z"
    }
   },
   "outputs": [],
   "source": [
    "df['eps']=epss\n",
    "df['min_sample']=min_sample\n",
    "df['sil_scores']=sil_scores"
   ]
  },
  {
   "cell_type": "code",
   "execution_count": 40,
   "id": "dc93859b",
   "metadata": {
    "ExecuteTime": {
     "end_time": "2022-11-02T11:21:23.558035Z",
     "start_time": "2022-11-02T11:21:23.543676Z"
    }
   },
   "outputs": [
    {
     "data": {
      "text/plain": [
       "0.6454683428134459"
      ]
     },
     "execution_count": 40,
     "metadata": {},
     "output_type": "execute_result"
    }
   ],
   "source": [
    "df['sil_scores'].max() "
   ]
  },
  {
   "cell_type": "code",
   "execution_count": 41,
   "id": "622158f9",
   "metadata": {
    "ExecuteTime": {
     "end_time": "2022-11-02T11:21:23.573966Z",
     "start_time": "2022-11-02T11:21:23.558035Z"
    }
   },
   "outputs": [
    {
     "data": {
      "text/plain": [
       "252"
      ]
     },
     "execution_count": 41,
     "metadata": {},
     "output_type": "execute_result"
    }
   ],
   "source": [
    "df['sil_scores'].idxmax()"
   ]
  },
  {
   "cell_type": "code",
   "execution_count": 42,
   "id": "1468a3fc",
   "metadata": {
    "ExecuteTime": {
     "end_time": "2022-11-02T11:21:23.589962Z",
     "start_time": "2022-11-02T11:21:23.573966Z"
    }
   },
   "outputs": [
    {
     "data": {
      "text/html": [
       "<div>\n",
       "<style scoped>\n",
       "    .dataframe tbody tr th:only-of-type {\n",
       "        vertical-align: middle;\n",
       "    }\n",
       "\n",
       "    .dataframe tbody tr th {\n",
       "        vertical-align: top;\n",
       "    }\n",
       "\n",
       "    .dataframe thead th {\n",
       "        text-align: right;\n",
       "    }\n",
       "</style>\n",
       "<table border=\"1\" class=\"dataframe\">\n",
       "  <thead>\n",
       "    <tr style=\"text-align: right;\">\n",
       "      <th></th>\n",
       "      <th>eps</th>\n",
       "      <th>min_sample</th>\n",
       "      <th>sil_scores</th>\n",
       "    </tr>\n",
       "  </thead>\n",
       "  <tbody>\n",
       "    <tr>\n",
       "      <th>252</th>\n",
       "      <td>2.75</td>\n",
       "      <td>24</td>\n",
       "      <td>0.645468</td>\n",
       "    </tr>\n",
       "  </tbody>\n",
       "</table>\n",
       "</div>"
      ],
      "text/plain": [
       "      eps  min_sample  sil_scores\n",
       "252  2.75          24    0.645468"
      ]
     },
     "execution_count": 42,
     "metadata": {},
     "output_type": "execute_result"
    }
   ],
   "source": [
    "df.iloc[252:253, :]"
   ]
  },
  {
   "cell_type": "markdown",
   "id": "ae93a69a",
   "metadata": {},
   "source": [
    "### Silhouette score is maximum for eps = 2.75 and min_sample = 24"
   ]
  },
  {
   "cell_type": "code",
   "execution_count": 43,
   "id": "9e7b7ce4",
   "metadata": {
    "ExecuteTime": {
     "end_time": "2022-11-02T11:21:24.487409Z",
     "start_time": "2022-11-02T11:21:23.593472Z"
    }
   },
   "outputs": [
    {
     "data": {
      "text/plain": [
       "DBSCAN(eps=2.75, min_samples=24)"
      ]
     },
     "execution_count": 43,
     "metadata": {},
     "output_type": "execute_result"
    }
   ],
   "source": [
    "dbscan = DBSCAN(eps= 2.75, min_samples=24)\n",
    "dbscan.fit(airlines_std) "
   ]
  },
  {
   "cell_type": "code",
   "execution_count": 44,
   "id": "c2846167",
   "metadata": {
    "ExecuteTime": {
     "end_time": "2022-11-02T11:21:24.503705Z",
     "start_time": "2022-11-02T11:21:24.487409Z"
    }
   },
   "outputs": [
    {
     "data": {
      "text/plain": [
       "array([0, 0, 0, ..., 0, 0, 0], dtype=int64)"
      ]
     },
     "execution_count": 44,
     "metadata": {},
     "output_type": "execute_result"
    }
   ],
   "source": [
    "#Noisy samples are given the label -1.\n",
    "dbscan.labels_ "
   ]
  },
  {
   "cell_type": "code",
   "execution_count": 45,
   "id": "73d4209d",
   "metadata": {
    "ExecuteTime": {
     "end_time": "2022-11-02T11:21:24.519683Z",
     "start_time": "2022-11-02T11:21:24.503705Z"
    }
   },
   "outputs": [
    {
     "data": {
      "text/html": [
       "<div>\n",
       "<style scoped>\n",
       "    .dataframe tbody tr th:only-of-type {\n",
       "        vertical-align: middle;\n",
       "    }\n",
       "\n",
       "    .dataframe tbody tr th {\n",
       "        vertical-align: top;\n",
       "    }\n",
       "\n",
       "    .dataframe thead th {\n",
       "        text-align: right;\n",
       "    }\n",
       "</style>\n",
       "<table border=\"1\" class=\"dataframe\">\n",
       "  <thead>\n",
       "    <tr style=\"text-align: right;\">\n",
       "      <th></th>\n",
       "      <th>Balance</th>\n",
       "      <th>Qual_miles</th>\n",
       "      <th>cc1_miles</th>\n",
       "      <th>cc2_miles</th>\n",
       "      <th>cc3_miles</th>\n",
       "      <th>Bonus_miles</th>\n",
       "      <th>Bonus_trans</th>\n",
       "      <th>Flight_miles_12mo</th>\n",
       "      <th>Flight_trans_12</th>\n",
       "      <th>Days_since_enroll</th>\n",
       "      <th>Award</th>\n",
       "      <th>ClusterId_hc</th>\n",
       "      <th>Clusterid_kmeans</th>\n",
       "      <th>Noise</th>\n",
       "    </tr>\n",
       "    <tr>\n",
       "      <th>Id</th>\n",
       "      <th></th>\n",
       "      <th></th>\n",
       "      <th></th>\n",
       "      <th></th>\n",
       "      <th></th>\n",
       "      <th></th>\n",
       "      <th></th>\n",
       "      <th></th>\n",
       "      <th></th>\n",
       "      <th></th>\n",
       "      <th></th>\n",
       "      <th></th>\n",
       "      <th></th>\n",
       "      <th></th>\n",
       "    </tr>\n",
       "  </thead>\n",
       "  <tbody>\n",
       "    <tr>\n",
       "      <th>1</th>\n",
       "      <td>28143</td>\n",
       "      <td>0</td>\n",
       "      <td>1</td>\n",
       "      <td>1</td>\n",
       "      <td>1</td>\n",
       "      <td>174</td>\n",
       "      <td>1</td>\n",
       "      <td>0</td>\n",
       "      <td>0</td>\n",
       "      <td>7000</td>\n",
       "      <td>0</td>\n",
       "      <td>1</td>\n",
       "      <td>1</td>\n",
       "      <td>0</td>\n",
       "    </tr>\n",
       "    <tr>\n",
       "      <th>2</th>\n",
       "      <td>19244</td>\n",
       "      <td>0</td>\n",
       "      <td>1</td>\n",
       "      <td>1</td>\n",
       "      <td>1</td>\n",
       "      <td>215</td>\n",
       "      <td>2</td>\n",
       "      <td>0</td>\n",
       "      <td>0</td>\n",
       "      <td>6968</td>\n",
       "      <td>0</td>\n",
       "      <td>1</td>\n",
       "      <td>1</td>\n",
       "      <td>0</td>\n",
       "    </tr>\n",
       "    <tr>\n",
       "      <th>3</th>\n",
       "      <td>41354</td>\n",
       "      <td>0</td>\n",
       "      <td>1</td>\n",
       "      <td>1</td>\n",
       "      <td>1</td>\n",
       "      <td>4123</td>\n",
       "      <td>4</td>\n",
       "      <td>0</td>\n",
       "      <td>0</td>\n",
       "      <td>7034</td>\n",
       "      <td>0</td>\n",
       "      <td>1</td>\n",
       "      <td>1</td>\n",
       "      <td>0</td>\n",
       "    </tr>\n",
       "    <tr>\n",
       "      <th>4</th>\n",
       "      <td>14776</td>\n",
       "      <td>0</td>\n",
       "      <td>1</td>\n",
       "      <td>1</td>\n",
       "      <td>1</td>\n",
       "      <td>500</td>\n",
       "      <td>1</td>\n",
       "      <td>0</td>\n",
       "      <td>0</td>\n",
       "      <td>6952</td>\n",
       "      <td>0</td>\n",
       "      <td>1</td>\n",
       "      <td>1</td>\n",
       "      <td>0</td>\n",
       "    </tr>\n",
       "    <tr>\n",
       "      <th>5</th>\n",
       "      <td>97752</td>\n",
       "      <td>0</td>\n",
       "      <td>4</td>\n",
       "      <td>1</td>\n",
       "      <td>1</td>\n",
       "      <td>43300</td>\n",
       "      <td>26</td>\n",
       "      <td>2077</td>\n",
       "      <td>4</td>\n",
       "      <td>6935</td>\n",
       "      <td>1</td>\n",
       "      <td>0</td>\n",
       "      <td>0</td>\n",
       "      <td>0</td>\n",
       "    </tr>\n",
       "  </tbody>\n",
       "</table>\n",
       "</div>"
      ],
      "text/plain": [
       "    Balance  Qual_miles  cc1_miles  cc2_miles  cc3_miles  Bonus_miles  \\\n",
       "Id                                                                      \n",
       "1     28143           0          1          1          1          174   \n",
       "2     19244           0          1          1          1          215   \n",
       "3     41354           0          1          1          1         4123   \n",
       "4     14776           0          1          1          1          500   \n",
       "5     97752           0          4          1          1        43300   \n",
       "\n",
       "    Bonus_trans  Flight_miles_12mo  Flight_trans_12  Days_since_enroll  Award  \\\n",
       "Id                                                                              \n",
       "1             1                  0                0               7000      0   \n",
       "2             2                  0                0               6968      0   \n",
       "3             4                  0                0               7034      0   \n",
       "4             1                  0                0               6952      0   \n",
       "5            26               2077                4               6935      1   \n",
       "\n",
       "    ClusterId_hc  Clusterid_kmeans  Noise  \n",
       "Id                                         \n",
       "1              1                 1      0  \n",
       "2              1                 1      0  \n",
       "3              1                 1      0  \n",
       "4              1                 1      0  \n",
       "5              0                 0      0  "
      ]
     },
     "execution_count": 45,
     "metadata": {},
     "output_type": "execute_result"
    }
   ],
   "source": [
    "airlines['Noise'] = dbscan.labels_ \n",
    "airlines.head()"
   ]
  },
  {
   "cell_type": "code",
   "execution_count": 46,
   "id": "1b717ae7",
   "metadata": {
    "ExecuteTime": {
     "end_time": "2022-11-02T11:21:24.535747Z",
     "start_time": "2022-11-02T11:21:24.519683Z"
    }
   },
   "outputs": [
    {
     "data": {
      "text/plain": [
       " 0    3814\n",
       "-1     184\n",
       "Name: Noise, dtype: int64"
      ]
     },
     "execution_count": 46,
     "metadata": {},
     "output_type": "execute_result"
    }
   ],
   "source": [
    "airlines.Noise.value_counts()\n",
    "#184 data points are categorised as noise"
   ]
  },
  {
   "cell_type": "code",
   "execution_count": 47,
   "id": "1f0b1992",
   "metadata": {
    "ExecuteTime": {
     "end_time": "2022-11-02T11:21:24.567652Z",
     "start_time": "2022-11-02T11:21:24.535747Z"
    }
   },
   "outputs": [
    {
     "data": {
      "text/html": [
       "<div>\n",
       "<style scoped>\n",
       "    .dataframe tbody tr th:only-of-type {\n",
       "        vertical-align: middle;\n",
       "    }\n",
       "\n",
       "    .dataframe tbody tr th {\n",
       "        vertical-align: top;\n",
       "    }\n",
       "\n",
       "    .dataframe thead th {\n",
       "        text-align: right;\n",
       "    }\n",
       "</style>\n",
       "<table border=\"1\" class=\"dataframe\">\n",
       "  <thead>\n",
       "    <tr style=\"text-align: right;\">\n",
       "      <th></th>\n",
       "      <th>Balance</th>\n",
       "      <th>Qual_miles</th>\n",
       "      <th>cc1_miles</th>\n",
       "      <th>cc2_miles</th>\n",
       "      <th>cc3_miles</th>\n",
       "      <th>Bonus_miles</th>\n",
       "      <th>Bonus_trans</th>\n",
       "      <th>Flight_miles_12mo</th>\n",
       "      <th>Flight_trans_12</th>\n",
       "      <th>Days_since_enroll</th>\n",
       "      <th>Award</th>\n",
       "      <th>ClusterId_hc</th>\n",
       "      <th>Clusterid_kmeans</th>\n",
       "    </tr>\n",
       "    <tr>\n",
       "      <th>Noise</th>\n",
       "      <th></th>\n",
       "      <th></th>\n",
       "      <th></th>\n",
       "      <th></th>\n",
       "      <th></th>\n",
       "      <th></th>\n",
       "      <th></th>\n",
       "      <th></th>\n",
       "      <th></th>\n",
       "      <th></th>\n",
       "      <th></th>\n",
       "      <th></th>\n",
       "      <th></th>\n",
       "    </tr>\n",
       "  </thead>\n",
       "  <tbody>\n",
       "    <tr>\n",
       "      <th>-1</th>\n",
       "      <td>220448.108696</td>\n",
       "      <td>1568.804348</td>\n",
       "      <td>2.418478</td>\n",
       "      <td>1.315217</td>\n",
       "      <td>1.266304</td>\n",
       "      <td>45862.885870</td>\n",
       "      <td>24.472826</td>\n",
       "      <td>3278.190217</td>\n",
       "      <td>9.228261</td>\n",
       "      <td>4669.641304</td>\n",
       "      <td>0.679348</td>\n",
       "      <td>0.320652</td>\n",
       "      <td>0.250000</td>\n",
       "    </tr>\n",
       "    <tr>\n",
       "      <th>0</th>\n",
       "      <td>66535.987677</td>\n",
       "      <td>75.420556</td>\n",
       "      <td>2.042475</td>\n",
       "      <td>1.000000</td>\n",
       "      <td>1.000000</td>\n",
       "      <td>15763.888044</td>\n",
       "      <td>10.984006</td>\n",
       "      <td>324.220241</td>\n",
       "      <td>0.995018</td>\n",
       "      <td>4092.634504</td>\n",
       "      <td>0.355532</td>\n",
       "      <td>0.644468</td>\n",
       "      <td>0.695595</td>\n",
       "    </tr>\n",
       "  </tbody>\n",
       "</table>\n",
       "</div>"
      ],
      "text/plain": [
       "             Balance   Qual_miles  cc1_miles  cc2_miles  cc3_miles  \\\n",
       "Noise                                                                \n",
       "-1     220448.108696  1568.804348   2.418478   1.315217   1.266304   \n",
       " 0      66535.987677    75.420556   2.042475   1.000000   1.000000   \n",
       "\n",
       "        Bonus_miles  Bonus_trans  Flight_miles_12mo  Flight_trans_12  \\\n",
       "Noise                                                                  \n",
       "-1     45862.885870    24.472826        3278.190217         9.228261   \n",
       " 0     15763.888044    10.984006         324.220241         0.995018   \n",
       "\n",
       "       Days_since_enroll     Award  ClusterId_hc  Clusterid_kmeans  \n",
       "Noise                                                               \n",
       "-1           4669.641304  0.679348      0.320652          0.250000  \n",
       " 0           4092.634504  0.355532      0.644468          0.695595  "
      ]
     },
     "execution_count": 47,
     "metadata": {},
     "output_type": "execute_result"
    }
   ],
   "source": [
    "df=airlines.groupby('Noise').agg('mean')\n",
    "df "
   ]
  },
  {
   "cell_type": "code",
   "execution_count": 48,
   "id": "272abe6e",
   "metadata": {
    "ExecuteTime": {
     "end_time": "2022-11-02T11:21:24.836830Z",
     "start_time": "2022-11-02T11:21:24.567652Z"
    }
   },
   "outputs": [
    {
     "data": {
      "text/plain": [
       "<AxesSubplot:xlabel='Noise', ylabel='cc2_miles'>"
      ]
     },
     "execution_count": 48,
     "metadata": {},
     "output_type": "execute_result"
    },
    {
     "data": {
      "image/png": "[encoded data removed]",
      "text/plain": [
       "<Figure size 1440x576 with 4 Axes>"
      ]
     },
     "metadata": {
      "needs_background": "light"
     },
     "output_type": "display_data"
    }
   ],
   "source": [
    "plt.figure(figsize=(20,8))\n",
    "\n",
    "plt.subplot(2,2,1)\n",
    "sns.barplot(x=df.index , y=df.Balance)\n",
    "\n",
    "plt.subplot(2,2,2)\n",
    "sns.barplot(x=df.index , y=df.Qual_miles)\n",
    "\n",
    "plt.subplot(2,2,3)\n",
    "sns.barplot(x=df.index , y=df.cc1_miles)\n",
    "\n",
    "plt.subplot(2,2,4)\n",
    "sns.barplot(x=df.index , y=df.cc2_miles)"
   ]
  },
  {
   "cell_type": "code",
   "execution_count": 49,
   "id": "5106467e",
   "metadata": {
    "ExecuteTime": {
     "end_time": "2022-11-02T11:21:25.153824Z",
     "start_time": "2022-11-02T11:21:24.836830Z"
    }
   },
   "outputs": [
    {
     "data": {
      "text/plain": [
       "<AxesSubplot:xlabel='Noise', ylabel='Flight_miles_12mo'>"
      ]
     },
     "execution_count": 49,
     "metadata": {},
     "output_type": "execute_result"
    },
    {
     "data": {
      "image/png": "[encoded data removed]",
      "text/plain": [
       "<Figure size 1440x576 with 4 Axes>"
      ]
     },
     "metadata": {
      "needs_background": "light"
     },
     "output_type": "display_data"
    }
   ],
   "source": [
    "plt.figure(figsize=(20,8))\n",
    "\n",
    "plt.subplot(2,2,1)\n",
    "sns.barplot(x=df.index , y=df.cc3_miles)\n",
    "\n",
    "plt.subplot(2,2,2)\n",
    "sns.barplot(x=df.index , y=df.Bonus_miles)\n",
    "\n",
    "plt.subplot(2,2,3)\n",
    "sns.barplot(x=df.index , y=df.Bonus_trans)\n",
    "\n",
    "plt.subplot(2,2,4)\n",
    "sns.barplot(x=df.index , y=df.Flight_miles_12mo)"
   ]
  },
  {
   "cell_type": "code",
   "execution_count": 50,
   "id": "77339a19",
   "metadata": {
    "ExecuteTime": {
     "end_time": "2022-11-02T11:21:25.413833Z",
     "start_time": "2022-11-02T11:21:25.153824Z"
    }
   },
   "outputs": [
    {
     "data": {
      "text/plain": [
       "<AxesSubplot:xlabel='Noise', ylabel='Award'>"
      ]
     },
     "execution_count": 50,
     "metadata": {},
     "output_type": "execute_result"
    },
    {
     "data": {
      "image/png": "[encoded data removed]",
      "text/plain": [
       "<Figure size 1440x576 with 3 Axes>"
      ]
     },
     "metadata": {
      "needs_background": "light"
     },
     "output_type": "display_data"
    }
   ],
   "source": [
    "plt.figure(figsize=(20,8))\n",
    "\n",
    "plt.subplot(2,2,1)\n",
    "sns.barplot(x=df.index , y=df.Flight_trans_12)\n",
    "\n",
    "plt.subplot(2,2,2)\n",
    "sns.barplot(x=df.index , y=df.Days_since_enroll)\n",
    "\n",
    "plt.subplot(2,2,3)\n",
    "sns.barplot(x=df.index , y=df.Award)\n"
   ]
  },
  {
   "cell_type": "markdown",
   "id": "061bd199",
   "metadata": {},
   "source": [
    "# Thank You"
   ]
  }
 ],
 "metadata": {
  "kernelspec": {
   "display_name": "Python 3 (ipykernel)",
   "language": "python",
   "name": "python3"
  },
  "language_info": {
   "codemirror_mode": {
    "name": "ipython",
    "version": 3
   },
   "file_extension": ".py",
   "mimetype": "text/x-python",
   "name": "python",
   "nbconvert_exporter": "python",
   "pygments_lexer": "ipython3",
   "version": "3.9.12"
  }
 },
 "nbformat": 4,
 "nbformat_minor": 5
}
