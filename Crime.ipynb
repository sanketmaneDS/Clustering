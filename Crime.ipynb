{
 "cells": [
  {
   "cell_type": "markdown",
   "id": "8c90ff90",
   "metadata": {},
   "source": [
    "# Perform Clustering(Hierarchical, Kmeans & DBSCAN) for the crime data and identify the number of clusters formed and draw inferences."
   ]
  },
  {
   "cell_type": "markdown",
   "id": "5b1f76bf",
   "metadata": {},
   "source": [
    "### Data Description:\n",
    "\n",
    "Murder -- Muder rates in different places of United States\n",
    "\n",
    "Assualt- Assualt rate in different places of United States\n",
    "\n",
    "UrbanPop - urban population in different places of United States\n",
    "\n",
    "Rape - Rape rate in different places of United States\n",
    "\n",
    "Rates are given per 1,00,000 residents"
   ]
  },
  {
   "cell_type": "code",
   "execution_count": 1,
   "id": "4f825987",
   "metadata": {
    "ExecuteTime": {
     "end_time": "2022-11-02T10:20:43.859517Z",
     "start_time": "2022-11-02T10:20:41.716258Z"
    }
   },
   "outputs": [],
   "source": [
    "#importing necessary libraries\n",
    "import scipy.cluster.hierarchy as sch \n",
    "from sklearn.cluster import AgglomerativeClustering , KMeans , DBSCAN\n",
    "from sklearn.metrics import silhouette_score as sil \n",
    "from sklearn.preprocessing import StandardScaler \n",
    "import pandas as pd \n",
    "import numpy as np\n",
    "import matplotlib.pyplot as plt\n",
    "import seaborn as sns\n",
    "\n",
    "import warnings\n",
    "warnings.filterwarnings('ignore') "
   ]
  },
  {
   "cell_type": "code",
   "execution_count": 2,
   "id": "c576c44e",
   "metadata": {
    "ExecuteTime": {
     "end_time": "2022-11-02T10:20:43.892613Z",
     "start_time": "2022-11-02T10:20:43.859517Z"
    }
   },
   "outputs": [
    {
     "data": {
      "text/html": [
       "<div>\n",
       "<style scoped>\n",
       "    .dataframe tbody tr th:only-of-type {\n",
       "        vertical-align: middle;\n",
       "    }\n",
       "\n",
       "    .dataframe tbody tr th {\n",
       "        vertical-align: top;\n",
       "    }\n",
       "\n",
       "    .dataframe thead th {\n",
       "        text-align: right;\n",
       "    }\n",
       "</style>\n",
       "<table border=\"1\" class=\"dataframe\">\n",
       "  <thead>\n",
       "    <tr style=\"text-align: right;\">\n",
       "      <th></th>\n",
       "      <th>Unnamed: 0</th>\n",
       "      <th>Murder</th>\n",
       "      <th>Assault</th>\n",
       "      <th>UrbanPop</th>\n",
       "      <th>Rape</th>\n",
       "    </tr>\n",
       "  </thead>\n",
       "  <tbody>\n",
       "    <tr>\n",
       "      <th>0</th>\n",
       "      <td>Alabama</td>\n",
       "      <td>13.2</td>\n",
       "      <td>236</td>\n",
       "      <td>58</td>\n",
       "      <td>21.2</td>\n",
       "    </tr>\n",
       "    <tr>\n",
       "      <th>1</th>\n",
       "      <td>Alaska</td>\n",
       "      <td>10.0</td>\n",
       "      <td>263</td>\n",
       "      <td>48</td>\n",
       "      <td>44.5</td>\n",
       "    </tr>\n",
       "    <tr>\n",
       "      <th>2</th>\n",
       "      <td>Arizona</td>\n",
       "      <td>8.1</td>\n",
       "      <td>294</td>\n",
       "      <td>80</td>\n",
       "      <td>31.0</td>\n",
       "    </tr>\n",
       "    <tr>\n",
       "      <th>3</th>\n",
       "      <td>Arkansas</td>\n",
       "      <td>8.8</td>\n",
       "      <td>190</td>\n",
       "      <td>50</td>\n",
       "      <td>19.5</td>\n",
       "    </tr>\n",
       "    <tr>\n",
       "      <th>4</th>\n",
       "      <td>California</td>\n",
       "      <td>9.0</td>\n",
       "      <td>276</td>\n",
       "      <td>91</td>\n",
       "      <td>40.6</td>\n",
       "    </tr>\n",
       "  </tbody>\n",
       "</table>\n",
       "</div>"
      ],
      "text/plain": [
       "   Unnamed: 0  Murder  Assault  UrbanPop  Rape\n",
       "0     Alabama    13.2      236        58  21.2\n",
       "1      Alaska    10.0      263        48  44.5\n",
       "2     Arizona     8.1      294        80  31.0\n",
       "3    Arkansas     8.8      190        50  19.5\n",
       "4  California     9.0      276        91  40.6"
      ]
     },
     "execution_count": 2,
     "metadata": {},
     "output_type": "execute_result"
    }
   ],
   "source": [
    "crime = pd.read_csv('crime_data.csv')\n",
    "crime.head() "
   ]
  },
  {
   "cell_type": "code",
   "execution_count": 3,
   "id": "67c6606d",
   "metadata": {
    "ExecuteTime": {
     "end_time": "2022-11-02T10:20:43.909269Z",
     "start_time": "2022-11-02T10:20:43.895620Z"
    }
   },
   "outputs": [
    {
     "data": {
      "text/html": [
       "<div>\n",
       "<style scoped>\n",
       "    .dataframe tbody tr th:only-of-type {\n",
       "        vertical-align: middle;\n",
       "    }\n",
       "\n",
       "    .dataframe tbody tr th {\n",
       "        vertical-align: top;\n",
       "    }\n",
       "\n",
       "    .dataframe thead th {\n",
       "        text-align: right;\n",
       "    }\n",
       "</style>\n",
       "<table border=\"1\" class=\"dataframe\">\n",
       "  <thead>\n",
       "    <tr style=\"text-align: right;\">\n",
       "      <th></th>\n",
       "      <th>States</th>\n",
       "      <th>Murder</th>\n",
       "      <th>Assault</th>\n",
       "      <th>UrbanPop</th>\n",
       "      <th>Rape</th>\n",
       "    </tr>\n",
       "  </thead>\n",
       "  <tbody>\n",
       "    <tr>\n",
       "      <th>0</th>\n",
       "      <td>Alabama</td>\n",
       "      <td>13.2</td>\n",
       "      <td>236</td>\n",
       "      <td>58</td>\n",
       "      <td>21.2</td>\n",
       "    </tr>\n",
       "    <tr>\n",
       "      <th>1</th>\n",
       "      <td>Alaska</td>\n",
       "      <td>10.0</td>\n",
       "      <td>263</td>\n",
       "      <td>48</td>\n",
       "      <td>44.5</td>\n",
       "    </tr>\n",
       "    <tr>\n",
       "      <th>2</th>\n",
       "      <td>Arizona</td>\n",
       "      <td>8.1</td>\n",
       "      <td>294</td>\n",
       "      <td>80</td>\n",
       "      <td>31.0</td>\n",
       "    </tr>\n",
       "    <tr>\n",
       "      <th>3</th>\n",
       "      <td>Arkansas</td>\n",
       "      <td>8.8</td>\n",
       "      <td>190</td>\n",
       "      <td>50</td>\n",
       "      <td>19.5</td>\n",
       "    </tr>\n",
       "    <tr>\n",
       "      <th>4</th>\n",
       "      <td>California</td>\n",
       "      <td>9.0</td>\n",
       "      <td>276</td>\n",
       "      <td>91</td>\n",
       "      <td>40.6</td>\n",
       "    </tr>\n",
       "  </tbody>\n",
       "</table>\n",
       "</div>"
      ],
      "text/plain": [
       "       States  Murder  Assault  UrbanPop  Rape\n",
       "0     Alabama    13.2      236        58  21.2\n",
       "1      Alaska    10.0      263        48  44.5\n",
       "2     Arizona     8.1      294        80  31.0\n",
       "3    Arkansas     8.8      190        50  19.5\n",
       "4  California     9.0      276        91  40.6"
      ]
     },
     "execution_count": 3,
     "metadata": {},
     "output_type": "execute_result"
    }
   ],
   "source": [
    "crime.rename(columns = {'Unnamed: 0':'States'},  inplace = True)\n",
    "crime.head() "
   ]
  },
  {
   "cell_type": "markdown",
   "id": "7bebf311",
   "metadata": {},
   "source": [
    "## Descriptive Statistics"
   ]
  },
  {
   "cell_type": "code",
   "execution_count": 4,
   "id": "570db9e7",
   "metadata": {
    "ExecuteTime": {
     "end_time": "2022-11-02T10:20:43.925810Z",
     "start_time": "2022-11-02T10:20:43.909269Z"
    }
   },
   "outputs": [
    {
     "name": "stdout",
     "output_type": "stream",
     "text": [
      "<class 'pandas.core.frame.DataFrame'>\n",
      "RangeIndex: 50 entries, 0 to 49\n",
      "Data columns (total 5 columns):\n",
      " #   Column    Non-Null Count  Dtype  \n",
      "---  ------    --------------  -----  \n",
      " 0   States    50 non-null     object \n",
      " 1   Murder    50 non-null     float64\n",
      " 2   Assault   50 non-null     int64  \n",
      " 3   UrbanPop  50 non-null     int64  \n",
      " 4   Rape      50 non-null     float64\n",
      "dtypes: float64(2), int64(2), object(1)\n",
      "memory usage: 2.1+ KB\n"
     ]
    }
   ],
   "source": [
    "crime.info() "
   ]
  },
  {
   "cell_type": "code",
   "execution_count": 5,
   "id": "0aa22159",
   "metadata": {
    "ExecuteTime": {
     "end_time": "2022-11-02T10:20:43.958017Z",
     "start_time": "2022-11-02T10:20:43.925810Z"
    },
    "scrolled": true
   },
   "outputs": [
    {
     "data": {
      "text/html": [
       "<div>\n",
       "<style scoped>\n",
       "    .dataframe tbody tr th:only-of-type {\n",
       "        vertical-align: middle;\n",
       "    }\n",
       "\n",
       "    .dataframe tbody tr th {\n",
       "        vertical-align: top;\n",
       "    }\n",
       "\n",
       "    .dataframe thead th {\n",
       "        text-align: right;\n",
       "    }\n",
       "</style>\n",
       "<table border=\"1\" class=\"dataframe\">\n",
       "  <thead>\n",
       "    <tr style=\"text-align: right;\">\n",
       "      <th></th>\n",
       "      <th>Murder</th>\n",
       "      <th>Assault</th>\n",
       "      <th>UrbanPop</th>\n",
       "      <th>Rape</th>\n",
       "    </tr>\n",
       "  </thead>\n",
       "  <tbody>\n",
       "    <tr>\n",
       "      <th>count</th>\n",
       "      <td>50.00000</td>\n",
       "      <td>50.000000</td>\n",
       "      <td>50.000000</td>\n",
       "      <td>50.000000</td>\n",
       "    </tr>\n",
       "    <tr>\n",
       "      <th>mean</th>\n",
       "      <td>7.78800</td>\n",
       "      <td>170.760000</td>\n",
       "      <td>65.540000</td>\n",
       "      <td>21.232000</td>\n",
       "    </tr>\n",
       "    <tr>\n",
       "      <th>std</th>\n",
       "      <td>4.35551</td>\n",
       "      <td>83.337661</td>\n",
       "      <td>14.474763</td>\n",
       "      <td>9.366385</td>\n",
       "    </tr>\n",
       "    <tr>\n",
       "      <th>min</th>\n",
       "      <td>0.80000</td>\n",
       "      <td>45.000000</td>\n",
       "      <td>32.000000</td>\n",
       "      <td>7.300000</td>\n",
       "    </tr>\n",
       "    <tr>\n",
       "      <th>25%</th>\n",
       "      <td>4.07500</td>\n",
       "      <td>109.000000</td>\n",
       "      <td>54.500000</td>\n",
       "      <td>15.075000</td>\n",
       "    </tr>\n",
       "    <tr>\n",
       "      <th>50%</th>\n",
       "      <td>7.25000</td>\n",
       "      <td>159.000000</td>\n",
       "      <td>66.000000</td>\n",
       "      <td>20.100000</td>\n",
       "    </tr>\n",
       "    <tr>\n",
       "      <th>75%</th>\n",
       "      <td>11.25000</td>\n",
       "      <td>249.000000</td>\n",
       "      <td>77.750000</td>\n",
       "      <td>26.175000</td>\n",
       "    </tr>\n",
       "    <tr>\n",
       "      <th>max</th>\n",
       "      <td>17.40000</td>\n",
       "      <td>337.000000</td>\n",
       "      <td>91.000000</td>\n",
       "      <td>46.000000</td>\n",
       "    </tr>\n",
       "  </tbody>\n",
       "</table>\n",
       "</div>"
      ],
      "text/plain": [
       "         Murder     Assault   UrbanPop       Rape\n",
       "count  50.00000   50.000000  50.000000  50.000000\n",
       "mean    7.78800  170.760000  65.540000  21.232000\n",
       "std     4.35551   83.337661  14.474763   9.366385\n",
       "min     0.80000   45.000000  32.000000   7.300000\n",
       "25%     4.07500  109.000000  54.500000  15.075000\n",
       "50%     7.25000  159.000000  66.000000  20.100000\n",
       "75%    11.25000  249.000000  77.750000  26.175000\n",
       "max    17.40000  337.000000  91.000000  46.000000"
      ]
     },
     "execution_count": 5,
     "metadata": {},
     "output_type": "execute_result"
    }
   ],
   "source": [
    "crime.describe()"
   ]
  },
  {
   "cell_type": "code",
   "execution_count": 6,
   "id": "78c7d886",
   "metadata": {
    "ExecuteTime": {
     "end_time": "2022-11-02T10:20:43.973931Z",
     "start_time": "2022-11-02T10:20:43.958017Z"
    }
   },
   "outputs": [
    {
     "data": {
      "text/plain": [
       "0"
      ]
     },
     "execution_count": 6,
     "metadata": {},
     "output_type": "execute_result"
    }
   ],
   "source": [
    "crime.isna().sum().sum()"
   ]
  },
  {
   "cell_type": "code",
   "execution_count": 7,
   "id": "4272f976",
   "metadata": {
    "ExecuteTime": {
     "end_time": "2022-11-02T10:20:43.990512Z",
     "start_time": "2022-11-02T10:20:43.973931Z"
    }
   },
   "outputs": [
    {
     "data": {
      "text/plain": [
       "0"
      ]
     },
     "execution_count": 7,
     "metadata": {},
     "output_type": "execute_result"
    }
   ],
   "source": [
    "crime.duplicated().sum()"
   ]
  },
  {
   "cell_type": "markdown",
   "id": "8a68d888",
   "metadata": {},
   "source": [
    "There are no missing and duplicate values"
   ]
  },
  {
   "cell_type": "markdown",
   "id": "70a5d26f",
   "metadata": {},
   "source": [
    "## Data Visualisation "
   ]
  },
  {
   "cell_type": "markdown",
   "id": "9935959e",
   "metadata": {},
   "source": [
    "### Plotting histogram to see distribution  & Plotting boxplot for Outlier Detection"
   ]
  },
  {
   "cell_type": "code",
   "execution_count": 8,
   "id": "058a18a9",
   "metadata": {
    "ExecuteTime": {
     "end_time": "2022-11-02T10:20:44.226039Z",
     "start_time": "2022-11-02T10:20:43.991019Z"
    }
   },
   "outputs": [
    {
     "data": {
      "image/png": "[encoded data removed]",
      "text/plain": [
       "<Figure size 1080x432 with 2 Axes>"
      ]
     },
     "metadata": {
      "needs_background": "light"
     },
     "output_type": "display_data"
    }
   ],
   "source": [
    "fig = plt.figure(figsize=(15,6))\n",
    "plt.subplot(1,2,1)\n",
    "plt.hist(crime.Murder)\n",
    "plt.title('Murder')\n",
    "\n",
    "plt.subplot(1,2,2)\n",
    "plt.violinplot(crime.Murder,showmedians=True)\n",
    "plt.boxplot(crime.Murder)\n",
    "plt.title('Murder')\n",
    "plt.show()"
   ]
  },
  {
   "cell_type": "code",
   "execution_count": 9,
   "id": "9f95bfa4",
   "metadata": {
    "ExecuteTime": {
     "end_time": "2022-11-02T10:20:44.415891Z",
     "start_time": "2022-11-02T10:20:44.226039Z"
    }
   },
   "outputs": [
    {
     "data": {
      "image/png": "[encoded data removed]",
      "text/plain": [
       "<Figure size 1080x432 with 2 Axes>"
      ]
     },
     "metadata": {
      "needs_background": "light"
     },
     "output_type": "display_data"
    }
   ],
   "source": [
    "fig = plt.figure(figsize=(15,6))\n",
    "plt.subplot(1,2,1)\n",
    "plt.hist(crime.Assault)\n",
    "plt.title('Assualt')\n",
    "\n",
    "plt.subplot(1,2,2)\n",
    "plt.violinplot(crime.Assault,showmedians=True)\n",
    "plt.boxplot(crime.Assault)\n",
    "plt.title('Assualt')\n",
    "plt.show()"
   ]
  },
  {
   "cell_type": "code",
   "execution_count": 10,
   "id": "d5106eed",
   "metadata": {
    "ExecuteTime": {
     "end_time": "2022-11-02T10:20:44.606053Z",
     "start_time": "2022-11-02T10:20:44.415891Z"
    }
   },
   "outputs": [
    {
     "data": {
      "image/png": "[encoded data removed]",
      "text/plain": [
       "<Figure size 1080x432 with 2 Axes>"
      ]
     },
     "metadata": {
      "needs_background": "light"
     },
     "output_type": "display_data"
    }
   ],
   "source": [
    "fig = plt.figure(figsize=(15,6))\n",
    "plt.subplot(1,2,1)\n",
    "plt.hist(crime.UrbanPop)\n",
    "plt.title('UrbanPop')\n",
    "\n",
    "plt.subplot(1,2,2)\n",
    "plt.violinplot(crime.UrbanPop,showmedians=True)\n",
    "plt.boxplot(crime.UrbanPop)\n",
    "plt.title('UrbanPop')\n",
    "plt.show()"
   ]
  },
  {
   "cell_type": "code",
   "execution_count": 11,
   "id": "88d83d5a",
   "metadata": {
    "ExecuteTime": {
     "end_time": "2022-11-02T10:20:44.856237Z",
     "start_time": "2022-11-02T10:20:44.607514Z"
    }
   },
   "outputs": [
    {
     "data": {
      "image/png": "[encoded data removed]",
      "text/plain": [
       "<Figure size 1080x432 with 2 Axes>"
      ]
     },
     "metadata": {
      "needs_background": "light"
     },
     "output_type": "display_data"
    }
   ],
   "source": [
    "fig = plt.figure(figsize=(15,6))\n",
    "plt.subplot(1,2,1)\n",
    "plt.hist(crime.Rape)\n",
    "plt.title('Rape')\n",
    "\n",
    "plt.subplot(1,2,2)\n",
    "plt.violinplot(crime.Rape,showmedians=True)\n",
    "plt.boxplot(crime.Rape)\n",
    "plt.title('Rape')\n",
    "plt.show()"
   ]
  },
  {
   "cell_type": "markdown",
   "id": "595f8809",
   "metadata": {},
   "source": [
    "2 outliers in Rape column "
   ]
  },
  {
   "cell_type": "markdown",
   "id": "c1e7f41d",
   "metadata": {},
   "source": [
    "### Correlation"
   ]
  },
  {
   "cell_type": "code",
   "execution_count": 12,
   "id": "0325b738",
   "metadata": {
    "ExecuteTime": {
     "end_time": "2022-11-02T10:20:47.018007Z",
     "start_time": "2022-11-02T10:20:44.856237Z"
    }
   },
   "outputs": [
    {
     "data": {
      "text/plain": [
       "<seaborn.axisgrid.PairGrid at 0x291a61b1eb0>"
      ]
     },
     "execution_count": 12,
     "metadata": {},
     "output_type": "execute_result"
    },
    {
     "data": {
      "image/png": "[encoded data removed]",
      "text/plain": [
       "<Figure size 720x720 with 20 Axes>"
      ]
     },
     "metadata": {
      "needs_background": "light"
     },
     "output_type": "display_data"
    }
   ],
   "source": [
    "sns.pairplot(crime)"
   ]
  },
  {
   "cell_type": "markdown",
   "id": "9aec3869",
   "metadata": {},
   "source": [
    "### Assault, murder and rape all are positively correlated with each other."
   ]
  },
  {
   "cell_type": "markdown",
   "id": "a3315aba",
   "metadata": {},
   "source": [
    "### Murder rate"
   ]
  },
  {
   "cell_type": "code",
   "execution_count": 13,
   "id": "1fdb3582",
   "metadata": {
    "ExecuteTime": {
     "end_time": "2022-11-02T10:20:47.805735Z",
     "start_time": "2022-11-02T10:20:47.018007Z"
    }
   },
   "outputs": [
    {
     "data": {
      "image/png": "[encoded data removed]",
      "text/plain": [
       "<Figure size 1440x576 with 1 Axes>"
      ]
     },
     "metadata": {
      "needs_background": "light"
     },
     "output_type": "display_data"
    }
   ],
   "source": [
    "plt.figure(figsize=(20,8))\n",
    "sns.barplot(x=crime.States , y= crime.Murder, order= crime.sort_values('Murder').States)\n",
    "\n",
    "plt.xlabel(\"States\")\n",
    "plt.ylabel(\"Murder Rate\")\n",
    "plt.xticks(rotation = 90, fontsize = 16)\n",
    "plt.title(\"Murder Rate in US\", size=18)\n",
    "plt.show()"
   ]
  },
  {
   "cell_type": "markdown",
   "id": "60aede20",
   "metadata": {},
   "source": [
    "### Assault Rate"
   ]
  },
  {
   "cell_type": "code",
   "execution_count": 14,
   "id": "c84b67b1",
   "metadata": {
    "ExecuteTime": {
     "end_time": "2022-11-02T10:20:48.515147Z",
     "start_time": "2022-11-02T10:20:47.805735Z"
    }
   },
   "outputs": [
    {
     "data": {
      "image/png": "[encoded data removed]",
      "text/plain": [
       "<Figure size 1440x576 with 1 Axes>"
      ]
     },
     "metadata": {
      "needs_background": "light"
     },
     "output_type": "display_data"
    }
   ],
   "source": [
    "plt.figure(figsize=(20,8))\n",
    "sns.barplot(x=crime.States , y= crime.Assault, order= crime.sort_values('Assault').States)\n",
    "\n",
    "plt.xlabel(\"States\")\n",
    "plt.ylabel(\"Assault Rate\")\n",
    "plt.xticks(rotation = 90, fontsize = 16)\n",
    "plt.title(\"Assault Rate in US\", size=18)\n",
    "plt.show()"
   ]
  },
  {
   "cell_type": "markdown",
   "id": "001cb7a0",
   "metadata": {},
   "source": [
    "### Rape Rate"
   ]
  },
  {
   "cell_type": "code",
   "execution_count": 15,
   "id": "293e9f82",
   "metadata": {
    "ExecuteTime": {
     "end_time": "2022-11-02T10:20:49.140662Z",
     "start_time": "2022-11-02T10:20:48.515656Z"
    }
   },
   "outputs": [
    {
     "data": {
      "image/png": "[encoded data removed]",
      "text/plain": [
       "<Figure size 1440x576 with 1 Axes>"
      ]
     },
     "metadata": {
      "needs_background": "light"
     },
     "output_type": "display_data"
    }
   ],
   "source": [
    "plt.figure(figsize=(20,8))\n",
    "sns.barplot(x=crime.States , y= crime.Rape, order= crime.sort_values('Rape').States)\n",
    "\n",
    "plt.xlabel(\"States\")\n",
    "plt.ylabel(\"Rape Rate\")\n",
    "plt.xticks(rotation = 90, fontsize = 16)\n",
    "plt.title(\"Rape Rate in US\", size=18)\n",
    "plt.show()"
   ]
  },
  {
   "cell_type": "markdown",
   "id": "beaa91b7",
   "metadata": {},
   "source": [
    "### Urban Population Rate "
   ]
  },
  {
   "cell_type": "code",
   "execution_count": 16,
   "id": "95d44921",
   "metadata": {
    "ExecuteTime": {
     "end_time": "2022-11-02T10:20:50.085807Z",
     "start_time": "2022-11-02T10:20:49.140662Z"
    }
   },
   "outputs": [
    {
     "data": {
      "image/png": "[encoded data removed]",
      "text/plain": [
       "<Figure size 1440x576 with 1 Axes>"
      ]
     },
     "metadata": {
      "needs_background": "light"
     },
     "output_type": "display_data"
    }
   ],
   "source": [
    "plt.figure(figsize=(20,8))\n",
    "sns.barplot(x=crime.States , y= crime.UrbanPop, order= crime.sort_values('UrbanPop').States)\n",
    "\n",
    "plt.xlabel(\"States\")\n",
    "plt.ylabel(\"UrbanPop Rate\")\n",
    "plt.xticks(rotation = 90, fontsize = 16)\n",
    "plt.title(\"UrbanPop Rate in US\", size=18)\n",
    "plt.show()"
   ]
  },
  {
   "cell_type": "markdown",
   "id": "21a9a20b",
   "metadata": {},
   "source": [
    "## Data Preprocessing"
   ]
  },
  {
   "cell_type": "markdown",
   "id": "d24feb33",
   "metadata": {},
   "source": [
    "#### Normalisation of data (use it for hierarchical clustering)"
   ]
  },
  {
   "cell_type": "code",
   "execution_count": 17,
   "id": "7490eba8",
   "metadata": {
    "ExecuteTime": {
     "end_time": "2022-11-02T10:20:50.095792Z",
     "start_time": "2022-11-02T10:20:50.087215Z"
    }
   },
   "outputs": [],
   "source": [
    "def norm_func(i):\n",
    "    x = (i - i.min()) / (i.max() - i.min())\n",
    "    return(x)"
   ]
  },
  {
   "cell_type": "code",
   "execution_count": 18,
   "id": "d9f878d9",
   "metadata": {
    "ExecuteTime": {
     "end_time": "2022-11-02T10:20:50.115926Z",
     "start_time": "2022-11-02T10:20:50.096799Z"
    }
   },
   "outputs": [
    {
     "data": {
      "text/html": [
       "<div>\n",
       "<style scoped>\n",
       "    .dataframe tbody tr th:only-of-type {\n",
       "        vertical-align: middle;\n",
       "    }\n",
       "\n",
       "    .dataframe tbody tr th {\n",
       "        vertical-align: top;\n",
       "    }\n",
       "\n",
       "    .dataframe thead th {\n",
       "        text-align: right;\n",
       "    }\n",
       "</style>\n",
       "<table border=\"1\" class=\"dataframe\">\n",
       "  <thead>\n",
       "    <tr style=\"text-align: right;\">\n",
       "      <th></th>\n",
       "      <th>Murder</th>\n",
       "      <th>Assault</th>\n",
       "      <th>UrbanPop</th>\n",
       "      <th>Rape</th>\n",
       "    </tr>\n",
       "  </thead>\n",
       "  <tbody>\n",
       "    <tr>\n",
       "      <th>0</th>\n",
       "      <td>0.746988</td>\n",
       "      <td>0.654110</td>\n",
       "      <td>0.440678</td>\n",
       "      <td>0.359173</td>\n",
       "    </tr>\n",
       "    <tr>\n",
       "      <th>1</th>\n",
       "      <td>0.554217</td>\n",
       "      <td>0.746575</td>\n",
       "      <td>0.271186</td>\n",
       "      <td>0.961240</td>\n",
       "    </tr>\n",
       "    <tr>\n",
       "      <th>2</th>\n",
       "      <td>0.439759</td>\n",
       "      <td>0.852740</td>\n",
       "      <td>0.813559</td>\n",
       "      <td>0.612403</td>\n",
       "    </tr>\n",
       "    <tr>\n",
       "      <th>3</th>\n",
       "      <td>0.481928</td>\n",
       "      <td>0.496575</td>\n",
       "      <td>0.305085</td>\n",
       "      <td>0.315245</td>\n",
       "    </tr>\n",
       "    <tr>\n",
       "      <th>4</th>\n",
       "      <td>0.493976</td>\n",
       "      <td>0.791096</td>\n",
       "      <td>1.000000</td>\n",
       "      <td>0.860465</td>\n",
       "    </tr>\n",
       "  </tbody>\n",
       "</table>\n",
       "</div>"
      ],
      "text/plain": [
       "     Murder   Assault  UrbanPop      Rape\n",
       "0  0.746988  0.654110  0.440678  0.359173\n",
       "1  0.554217  0.746575  0.271186  0.961240\n",
       "2  0.439759  0.852740  0.813559  0.612403\n",
       "3  0.481928  0.496575  0.305085  0.315245\n",
       "4  0.493976  0.791096  1.000000  0.860465"
      ]
     },
     "execution_count": 18,
     "metadata": {},
     "output_type": "execute_result"
    }
   ],
   "source": [
    "# Normalized data frame (considering the numerical part of data)\n",
    "crime_norm = norm_func(crime.iloc[:,1:])\n",
    "crime_norm.head()"
   ]
  },
  {
   "cell_type": "markdown",
   "id": "7c3faec5",
   "metadata": {},
   "source": [
    "#### Standardisation of data (use it for K means and DB SCAN)"
   ]
  },
  {
   "cell_type": "code",
   "execution_count": 19,
   "id": "3e02fb2a",
   "metadata": {
    "ExecuteTime": {
     "end_time": "2022-11-02T10:20:50.131818Z",
     "start_time": "2022-11-02T10:20:50.115926Z"
    }
   },
   "outputs": [
    {
     "data": {
      "text/plain": [
       "array([[ 1.25517927,  0.79078716, -0.52619514, -0.00345116],\n",
       "       [ 0.51301858,  1.11805959, -1.22406668,  2.50942392],\n",
       "       [ 0.07236067,  1.49381682,  1.00912225,  1.05346626],\n",
       "       [ 0.23470832,  0.23321191, -1.08449238, -0.18679398],\n",
       "       [ 0.28109336,  1.2756352 ,  1.77678094,  2.08881393],\n",
       "       [ 0.02597562,  0.40290872,  0.86954794,  1.88390137],\n",
       "       [-1.04088037, -0.73648418,  0.79976079, -1.09272319],\n",
       "       [-0.43787481,  0.81502956,  0.45082502, -0.58583422],\n",
       "       [ 1.76541475,  1.99078607,  1.00912225,  1.1505301 ],\n",
       "       [ 2.22926518,  0.48775713, -0.38662083,  0.49265293],\n",
       "       [-0.57702994, -1.51224105,  1.21848371, -0.11129987],\n",
       "       [-1.20322802, -0.61527217, -0.80534376, -0.75839217],\n",
       "       [ 0.60578867,  0.94836277,  1.21848371,  0.29852525],\n",
       "       [-0.13637203, -0.70012057, -0.03768506, -0.0250209 ],\n",
       "       [-1.29599811, -1.39102904, -0.5959823 , -1.07115345],\n",
       "       [-0.41468229, -0.67587817,  0.03210209, -0.34856705],\n",
       "       [ 0.44344101, -0.74860538, -0.94491807, -0.53190987],\n",
       "       [ 1.76541475,  0.94836277,  0.03210209,  0.10439756],\n",
       "       [-1.31919063, -1.06375661, -1.01470522, -1.44862395],\n",
       "       [ 0.81452136,  1.56654403,  0.10188925,  0.70835037],\n",
       "       [-0.78576263, -0.26375734,  1.35805802, -0.53190987],\n",
       "       [ 1.00006153,  1.02108998,  0.59039932,  1.49564599],\n",
       "       [-1.1800355 , -1.19708982,  0.03210209, -0.68289807],\n",
       "       [ 1.9277624 ,  1.06957478, -1.5032153 , -0.44563089],\n",
       "       [ 0.28109336,  0.0877575 ,  0.31125071,  0.75148985],\n",
       "       [-0.41468229, -0.74860538, -0.87513091, -0.521125  ],\n",
       "       [-0.80895515, -0.83345379, -0.24704653, -0.51034012],\n",
       "       [ 1.02325405,  0.98472638,  1.0789094 ,  2.671197  ],\n",
       "       [-1.31919063, -1.37890783, -0.66576945, -1.26528114],\n",
       "       [-0.08998698, -0.14254532,  1.63720664, -0.26228808],\n",
       "       [ 0.83771388,  1.38472601,  0.31125071,  1.17209984],\n",
       "       [ 0.76813632,  1.00896878,  1.42784517,  0.52500755],\n",
       "       [ 1.20879423,  2.01502847, -1.43342815, -0.55347961],\n",
       "       [-1.62069341, -1.52436225, -1.5032153 , -1.50254831],\n",
       "       [-0.11317951, -0.61527217,  0.66018648,  0.01811858],\n",
       "       [-0.27552716, -0.23951493,  0.1716764 , -0.13286962],\n",
       "       [-0.66980002, -0.14254532,  0.10188925,  0.87012344],\n",
       "       [-0.34510472, -0.78496898,  0.45082502, -0.68289807],\n",
       "       [-1.01768785,  0.03927269,  1.49763233, -1.39469959],\n",
       "       [ 1.53348953,  1.3119988 , -1.22406668,  0.13675217],\n",
       "       [-0.92491776, -1.027393  , -1.43342815, -0.90938037],\n",
       "       [ 1.25517927,  0.20896951, -0.45640799,  0.61128652],\n",
       "       [ 1.13921666,  0.36654512,  1.00912225,  0.46029832],\n",
       "       [-1.06407289, -0.61527217,  1.00912225,  0.17989166],\n",
       "       [-1.29599811, -1.48799864, -2.34066115, -1.08193832],\n",
       "       [ 0.16513075, -0.17890893, -0.17725937, -0.05737552],\n",
       "       [-0.87853272, -0.31224214,  0.52061217,  0.53579242],\n",
       "       [-0.48425985, -1.08799901, -1.85215107, -1.28685088],\n",
       "       [-1.20322802, -1.42739264,  0.03210209, -1.1250778 ],\n",
       "       [-0.22914211, -0.11830292, -0.38662083, -0.60740397]])"
      ]
     },
     "execution_count": 19,
     "metadata": {},
     "output_type": "execute_result"
    }
   ],
   "source": [
    "scaler = StandardScaler()\n",
    "crime_std = scaler.fit_transform(crime.iloc[:,1:]) \n",
    "crime_std "
   ]
  },
  {
   "cell_type": "markdown",
   "id": "a8156ddd",
   "metadata": {},
   "source": [
    "# Clustering: "
   ]
  },
  {
   "cell_type": "markdown",
   "id": "abbec478",
   "metadata": {},
   "source": [
    "Clustering is the task of dividing the population or data points into a number of groups such that data points in the same groups are more similar to other data points in the same group and dissimilar to the data points in other groups. It is basically a collection of objects on the basis of similarity and dissimilarity between them. "
   ]
  },
  {
   "cell_type": "markdown",
   "id": "5a43b57d",
   "metadata": {},
   "source": [
    "## 1) Hierarchical Clustering"
   ]
  },
  {
   "cell_type": "markdown",
   "id": "bd553a84",
   "metadata": {},
   "source": [
    "Hierarchy of clusters is in the form of a tree, and this tree-shaped structure is known as the dendrogram. There is no requirement to predetermine the number of clusters as in the K-Means algorithm. "
   ]
  },
  {
   "cell_type": "markdown",
   "id": "5add10ef",
   "metadata": {},
   "source": [
    "Linkage methods are ways to calculate the distance between two clusters.\n",
    "\n",
    "Single Linkage: It is the Shortest Distance between the closest points of the clusters\n",
    "\n",
    "Complete Linkage: It is the farthest distance between the two points of two different clusters\n",
    "\n",
    "Average Linkage: It is the linkage method in which the distance between each pair of datasets is added up and then divided by the total number of datasets to calculate the average distance between two clusters.\n",
    "\n",
    "Centroid Linkage: It is the linkage method in which the distance between the centroid of the clusters is calculated."
   ]
  },
  {
   "cell_type": "code",
   "execution_count": 20,
   "id": "8c2f9501",
   "metadata": {
    "ExecuteTime": {
     "end_time": "2022-11-02T10:20:50.895611Z",
     "start_time": "2022-11-02T10:20:50.131818Z"
    }
   },
   "outputs": [
    {
     "data": {
      "image/png": "[encoded data removed]",
      "text/plain": [
       "<Figure size 432x288 with 1 Axes>"
      ]
     },
     "metadata": {
      "needs_background": "light"
     },
     "output_type": "display_data"
    }
   ],
   "source": [
    "dendrogram = sch.dendrogram(sch.linkage(crime_norm, method= 'complete'))"
   ]
  },
  {
   "cell_type": "code",
   "execution_count": 21,
   "id": "b9cd3e1f",
   "metadata": {
    "ExecuteTime": {
     "end_time": "2022-11-02T10:20:51.768173Z",
     "start_time": "2022-11-02T10:20:50.895611Z"
    }
   },
   "outputs": [
    {
     "data": {
      "image/png": "[encoded data removed]",
      "text/plain": [
       "<Figure size 432x288 with 1 Axes>"
      ]
     },
     "metadata": {
      "needs_background": "light"
     },
     "output_type": "display_data"
    }
   ],
   "source": [
    "dendrogram = sch.dendrogram(sch.linkage(crime_norm, method= 'average'))"
   ]
  },
  {
   "cell_type": "code",
   "execution_count": 22,
   "id": "18950e89",
   "metadata": {
    "ExecuteTime": {
     "end_time": "2022-11-02T10:20:52.909018Z",
     "start_time": "2022-11-02T10:20:51.768173Z"
    }
   },
   "outputs": [
    {
     "data": {
      "image/png": "[encoded data removed]",
      "text/plain": [
       "<Figure size 432x288 with 1 Axes>"
      ]
     },
     "metadata": {
      "needs_background": "light"
     },
     "output_type": "display_data"
    }
   ],
   "source": [
    "dendrogram = sch.dendrogram(sch.linkage(crime_norm, method= 'single'))"
   ]
  },
  {
   "cell_type": "code",
   "execution_count": 23,
   "id": "fd673472",
   "metadata": {
    "ExecuteTime": {
     "end_time": "2022-11-02T10:20:53.644500Z",
     "start_time": "2022-11-02T10:20:52.909018Z"
    },
    "scrolled": true
   },
   "outputs": [
    {
     "data": {
      "image/png": "[encoded data removed]",
      "text/plain": [
       "<Figure size 432x288 with 1 Axes>"
      ]
     },
     "metadata": {
      "needs_background": "light"
     },
     "output_type": "display_data"
    }
   ],
   "source": [
    "dendrogram = sch.dendrogram(sch.linkage(crime_norm, method= 'centroid'))"
   ]
  },
  {
   "cell_type": "markdown",
   "id": "144d95c0",
   "metadata": {},
   "source": [
    "2 choices to make: Linkage and n_clusters"
   ]
  },
  {
   "cell_type": "markdown",
   "id": "c72f0e05",
   "metadata": {
    "ExecuteTime": {
     "end_time": "2022-11-01T10:07:14.522342Z",
     "start_time": "2022-11-01T10:07:14.507509Z"
    }
   },
   "source": [
    "Linkage: From above different dendrograms, whichever looks simpler, we take that in model"
   ]
  },
  {
   "cell_type": "markdown",
   "id": "8e8e1e95",
   "metadata": {},
   "source": [
    "#### Here complete linkage looks simpler"
   ]
  },
  {
   "cell_type": "markdown",
   "id": "5087cde6",
   "metadata": {},
   "source": [
    "n_clusters: n for which silhouette score is maximum"
   ]
  },
  {
   "cell_type": "markdown",
   "id": "ab112aae",
   "metadata": {},
   "source": [
    "Silhouette score is a metric used to calculate the goodness of a clustering technique. ie. It measures of how similar an object is to its own cluster (cohesion) compared to other clusters (separation).\n",
    "Its value ranges from -1 to 1.\n",
    "\n",
    "1: Means clusters are well apart from each other and clearly distinguished.\n",
    "\n",
    "0: Means clusters are indifferent, or we can say that the distance between clusters is not significant.\n",
    "\n",
    "-1: Means clusters are assigned in the wrong way.\n",
    "\n",
    "Silhouette Score = (b-a)/max(a,b)\n",
    "\n",
    "a= average intra-cluster distance \n",
    "\n",
    "b= average inter-cluster distance"
   ]
  },
  {
   "cell_type": "code",
   "execution_count": 24,
   "id": "8a7d109a",
   "metadata": {
    "ExecuteTime": {
     "end_time": "2022-11-02T10:20:53.694241Z",
     "start_time": "2022-11-02T10:20:53.646012Z"
    }
   },
   "outputs": [
    {
     "name": "stdout",
     "output_type": "stream",
     "text": [
      "For cluster = 2 The silhouette score is 0.42364457559625074\n",
      "For cluster = 3 The silhouette score is 0.30877213909512063\n",
      "For cluster = 4 The silhouette score is 0.30607294424263076\n",
      "For cluster = 5 The silhouette score is 0.3056360903608855\n",
      "For cluster = 6 The silhouette score is 0.27284356597794224\n",
      "For cluster = 7 The silhouette score is 0.2738764216820654\n"
     ]
    }
   ],
   "source": [
    "for i in range (2,8):\n",
    "    hc = AgglomerativeClustering(n_clusters=i, affinity='euclidean', linkage= 'complete')\n",
    "    y_hc = hc.fit_predict(crime_norm)\n",
    "    sil_score =sil(crime_norm , y_hc)\n",
    "    print('For cluster =', i , 'The silhouette score is', sil_score)  "
   ]
  },
  {
   "cell_type": "markdown",
   "id": "333a1dff",
   "metadata": {},
   "source": [
    "#### Silhouette score is maximum for n_clusters = 2 "
   ]
  },
  {
   "cell_type": "code",
   "execution_count": 25,
   "id": "f0649b25",
   "metadata": {
    "ExecuteTime": {
     "end_time": "2022-11-02T10:20:53.711005Z",
     "start_time": "2022-11-02T10:20:53.695835Z"
    }
   },
   "outputs": [],
   "source": [
    "# create clusters with complete linkage and n_clusters = 2\n",
    "hc = AgglomerativeClustering(n_clusters=2, affinity='euclidean', linkage= 'complete')"
   ]
  },
  {
   "cell_type": "code",
   "execution_count": 26,
   "id": "d05750dd",
   "metadata": {
    "ExecuteTime": {
     "end_time": "2022-11-02T10:20:53.735754Z",
     "start_time": "2022-11-02T10:20:53.711005Z"
    }
   },
   "outputs": [
    {
     "data": {
      "text/plain": [
       "array([1, 1, 1, 0, 1, 1, 0, 0, 1, 1, 0, 0, 1, 0, 0, 0, 0, 1, 0, 1, 0, 1,\n",
       "       0, 1, 1, 0, 0, 1, 0, 0, 1, 1, 1, 0, 0, 0, 0, 0, 0, 1, 0, 1, 1, 0,\n",
       "       0, 0, 0, 0, 0, 0], dtype=int64)"
      ]
     },
     "execution_count": 26,
     "metadata": {},
     "output_type": "execute_result"
    }
   ],
   "source": [
    "y_hc = hc.fit_predict(crime_norm)\n",
    "y_hc "
   ]
  },
  {
   "cell_type": "code",
   "execution_count": 27,
   "id": "280d4c36",
   "metadata": {
    "ExecuteTime": {
     "end_time": "2022-11-02T10:20:53.775802Z",
     "start_time": "2022-11-02T10:20:53.735754Z"
    }
   },
   "outputs": [
    {
     "data": {
      "text/html": [
       "<div>\n",
       "<style scoped>\n",
       "    .dataframe tbody tr th:only-of-type {\n",
       "        vertical-align: middle;\n",
       "    }\n",
       "\n",
       "    .dataframe tbody tr th {\n",
       "        vertical-align: top;\n",
       "    }\n",
       "\n",
       "    .dataframe thead th {\n",
       "        text-align: right;\n",
       "    }\n",
       "</style>\n",
       "<table border=\"1\" class=\"dataframe\">\n",
       "  <thead>\n",
       "    <tr style=\"text-align: right;\">\n",
       "      <th></th>\n",
       "      <th>States</th>\n",
       "      <th>Murder</th>\n",
       "      <th>Assault</th>\n",
       "      <th>UrbanPop</th>\n",
       "      <th>Rape</th>\n",
       "      <th>ClusterId_hc</th>\n",
       "    </tr>\n",
       "  </thead>\n",
       "  <tbody>\n",
       "    <tr>\n",
       "      <th>0</th>\n",
       "      <td>Alabama</td>\n",
       "      <td>13.2</td>\n",
       "      <td>236</td>\n",
       "      <td>58</td>\n",
       "      <td>21.2</td>\n",
       "      <td>1</td>\n",
       "    </tr>\n",
       "    <tr>\n",
       "      <th>1</th>\n",
       "      <td>Alaska</td>\n",
       "      <td>10.0</td>\n",
       "      <td>263</td>\n",
       "      <td>48</td>\n",
       "      <td>44.5</td>\n",
       "      <td>1</td>\n",
       "    </tr>\n",
       "    <tr>\n",
       "      <th>2</th>\n",
       "      <td>Arizona</td>\n",
       "      <td>8.1</td>\n",
       "      <td>294</td>\n",
       "      <td>80</td>\n",
       "      <td>31.0</td>\n",
       "      <td>1</td>\n",
       "    </tr>\n",
       "    <tr>\n",
       "      <th>3</th>\n",
       "      <td>Arkansas</td>\n",
       "      <td>8.8</td>\n",
       "      <td>190</td>\n",
       "      <td>50</td>\n",
       "      <td>19.5</td>\n",
       "      <td>0</td>\n",
       "    </tr>\n",
       "    <tr>\n",
       "      <th>4</th>\n",
       "      <td>California</td>\n",
       "      <td>9.0</td>\n",
       "      <td>276</td>\n",
       "      <td>91</td>\n",
       "      <td>40.6</td>\n",
       "      <td>1</td>\n",
       "    </tr>\n",
       "    <tr>\n",
       "      <th>5</th>\n",
       "      <td>Colorado</td>\n",
       "      <td>7.9</td>\n",
       "      <td>204</td>\n",
       "      <td>78</td>\n",
       "      <td>38.7</td>\n",
       "      <td>1</td>\n",
       "    </tr>\n",
       "    <tr>\n",
       "      <th>6</th>\n",
       "      <td>Connecticut</td>\n",
       "      <td>3.3</td>\n",
       "      <td>110</td>\n",
       "      <td>77</td>\n",
       "      <td>11.1</td>\n",
       "      <td>0</td>\n",
       "    </tr>\n",
       "    <tr>\n",
       "      <th>7</th>\n",
       "      <td>Delaware</td>\n",
       "      <td>5.9</td>\n",
       "      <td>238</td>\n",
       "      <td>72</td>\n",
       "      <td>15.8</td>\n",
       "      <td>0</td>\n",
       "    </tr>\n",
       "    <tr>\n",
       "      <th>8</th>\n",
       "      <td>Florida</td>\n",
       "      <td>15.4</td>\n",
       "      <td>335</td>\n",
       "      <td>80</td>\n",
       "      <td>31.9</td>\n",
       "      <td>1</td>\n",
       "    </tr>\n",
       "    <tr>\n",
       "      <th>9</th>\n",
       "      <td>Georgia</td>\n",
       "      <td>17.4</td>\n",
       "      <td>211</td>\n",
       "      <td>60</td>\n",
       "      <td>25.8</td>\n",
       "      <td>1</td>\n",
       "    </tr>\n",
       "    <tr>\n",
       "      <th>10</th>\n",
       "      <td>Hawaii</td>\n",
       "      <td>5.3</td>\n",
       "      <td>46</td>\n",
       "      <td>83</td>\n",
       "      <td>20.2</td>\n",
       "      <td>0</td>\n",
       "    </tr>\n",
       "    <tr>\n",
       "      <th>11</th>\n",
       "      <td>Idaho</td>\n",
       "      <td>2.6</td>\n",
       "      <td>120</td>\n",
       "      <td>54</td>\n",
       "      <td>14.2</td>\n",
       "      <td>0</td>\n",
       "    </tr>\n",
       "    <tr>\n",
       "      <th>12</th>\n",
       "      <td>Illinois</td>\n",
       "      <td>10.4</td>\n",
       "      <td>249</td>\n",
       "      <td>83</td>\n",
       "      <td>24.0</td>\n",
       "      <td>1</td>\n",
       "    </tr>\n",
       "    <tr>\n",
       "      <th>13</th>\n",
       "      <td>Indiana</td>\n",
       "      <td>7.2</td>\n",
       "      <td>113</td>\n",
       "      <td>65</td>\n",
       "      <td>21.0</td>\n",
       "      <td>0</td>\n",
       "    </tr>\n",
       "    <tr>\n",
       "      <th>14</th>\n",
       "      <td>Iowa</td>\n",
       "      <td>2.2</td>\n",
       "      <td>56</td>\n",
       "      <td>57</td>\n",
       "      <td>11.3</td>\n",
       "      <td>0</td>\n",
       "    </tr>\n",
       "    <tr>\n",
       "      <th>15</th>\n",
       "      <td>Kansas</td>\n",
       "      <td>6.0</td>\n",
       "      <td>115</td>\n",
       "      <td>66</td>\n",
       "      <td>18.0</td>\n",
       "      <td>0</td>\n",
       "    </tr>\n",
       "    <tr>\n",
       "      <th>16</th>\n",
       "      <td>Kentucky</td>\n",
       "      <td>9.7</td>\n",
       "      <td>109</td>\n",
       "      <td>52</td>\n",
       "      <td>16.3</td>\n",
       "      <td>0</td>\n",
       "    </tr>\n",
       "    <tr>\n",
       "      <th>17</th>\n",
       "      <td>Louisiana</td>\n",
       "      <td>15.4</td>\n",
       "      <td>249</td>\n",
       "      <td>66</td>\n",
       "      <td>22.2</td>\n",
       "      <td>1</td>\n",
       "    </tr>\n",
       "    <tr>\n",
       "      <th>18</th>\n",
       "      <td>Maine</td>\n",
       "      <td>2.1</td>\n",
       "      <td>83</td>\n",
       "      <td>51</td>\n",
       "      <td>7.8</td>\n",
       "      <td>0</td>\n",
       "    </tr>\n",
       "    <tr>\n",
       "      <th>19</th>\n",
       "      <td>Maryland</td>\n",
       "      <td>11.3</td>\n",
       "      <td>300</td>\n",
       "      <td>67</td>\n",
       "      <td>27.8</td>\n",
       "      <td>1</td>\n",
       "    </tr>\n",
       "    <tr>\n",
       "      <th>20</th>\n",
       "      <td>Massachusetts</td>\n",
       "      <td>4.4</td>\n",
       "      <td>149</td>\n",
       "      <td>85</td>\n",
       "      <td>16.3</td>\n",
       "      <td>0</td>\n",
       "    </tr>\n",
       "    <tr>\n",
       "      <th>21</th>\n",
       "      <td>Michigan</td>\n",
       "      <td>12.1</td>\n",
       "      <td>255</td>\n",
       "      <td>74</td>\n",
       "      <td>35.1</td>\n",
       "      <td>1</td>\n",
       "    </tr>\n",
       "    <tr>\n",
       "      <th>22</th>\n",
       "      <td>Minnesota</td>\n",
       "      <td>2.7</td>\n",
       "      <td>72</td>\n",
       "      <td>66</td>\n",
       "      <td>14.9</td>\n",
       "      <td>0</td>\n",
       "    </tr>\n",
       "    <tr>\n",
       "      <th>23</th>\n",
       "      <td>Mississippi</td>\n",
       "      <td>16.1</td>\n",
       "      <td>259</td>\n",
       "      <td>44</td>\n",
       "      <td>17.1</td>\n",
       "      <td>1</td>\n",
       "    </tr>\n",
       "    <tr>\n",
       "      <th>24</th>\n",
       "      <td>Missouri</td>\n",
       "      <td>9.0</td>\n",
       "      <td>178</td>\n",
       "      <td>70</td>\n",
       "      <td>28.2</td>\n",
       "      <td>1</td>\n",
       "    </tr>\n",
       "    <tr>\n",
       "      <th>25</th>\n",
       "      <td>Montana</td>\n",
       "      <td>6.0</td>\n",
       "      <td>109</td>\n",
       "      <td>53</td>\n",
       "      <td>16.4</td>\n",
       "      <td>0</td>\n",
       "    </tr>\n",
       "    <tr>\n",
       "      <th>26</th>\n",
       "      <td>Nebraska</td>\n",
       "      <td>4.3</td>\n",
       "      <td>102</td>\n",
       "      <td>62</td>\n",
       "      <td>16.5</td>\n",
       "      <td>0</td>\n",
       "    </tr>\n",
       "    <tr>\n",
       "      <th>27</th>\n",
       "      <td>Nevada</td>\n",
       "      <td>12.2</td>\n",
       "      <td>252</td>\n",
       "      <td>81</td>\n",
       "      <td>46.0</td>\n",
       "      <td>1</td>\n",
       "    </tr>\n",
       "    <tr>\n",
       "      <th>28</th>\n",
       "      <td>New Hampshire</td>\n",
       "      <td>2.1</td>\n",
       "      <td>57</td>\n",
       "      <td>56</td>\n",
       "      <td>9.5</td>\n",
       "      <td>0</td>\n",
       "    </tr>\n",
       "    <tr>\n",
       "      <th>29</th>\n",
       "      <td>New Jersey</td>\n",
       "      <td>7.4</td>\n",
       "      <td>159</td>\n",
       "      <td>89</td>\n",
       "      <td>18.8</td>\n",
       "      <td>0</td>\n",
       "    </tr>\n",
       "    <tr>\n",
       "      <th>30</th>\n",
       "      <td>New Mexico</td>\n",
       "      <td>11.4</td>\n",
       "      <td>285</td>\n",
       "      <td>70</td>\n",
       "      <td>32.1</td>\n",
       "      <td>1</td>\n",
       "    </tr>\n",
       "    <tr>\n",
       "      <th>31</th>\n",
       "      <td>New York</td>\n",
       "      <td>11.1</td>\n",
       "      <td>254</td>\n",
       "      <td>86</td>\n",
       "      <td>26.1</td>\n",
       "      <td>1</td>\n",
       "    </tr>\n",
       "    <tr>\n",
       "      <th>32</th>\n",
       "      <td>North Carolina</td>\n",
       "      <td>13.0</td>\n",
       "      <td>337</td>\n",
       "      <td>45</td>\n",
       "      <td>16.1</td>\n",
       "      <td>1</td>\n",
       "    </tr>\n",
       "    <tr>\n",
       "      <th>33</th>\n",
       "      <td>North Dakota</td>\n",
       "      <td>0.8</td>\n",
       "      <td>45</td>\n",
       "      <td>44</td>\n",
       "      <td>7.3</td>\n",
       "      <td>0</td>\n",
       "    </tr>\n",
       "    <tr>\n",
       "      <th>34</th>\n",
       "      <td>Ohio</td>\n",
       "      <td>7.3</td>\n",
       "      <td>120</td>\n",
       "      <td>75</td>\n",
       "      <td>21.4</td>\n",
       "      <td>0</td>\n",
       "    </tr>\n",
       "    <tr>\n",
       "      <th>35</th>\n",
       "      <td>Oklahoma</td>\n",
       "      <td>6.6</td>\n",
       "      <td>151</td>\n",
       "      <td>68</td>\n",
       "      <td>20.0</td>\n",
       "      <td>0</td>\n",
       "    </tr>\n",
       "    <tr>\n",
       "      <th>36</th>\n",
       "      <td>Oregon</td>\n",
       "      <td>4.9</td>\n",
       "      <td>159</td>\n",
       "      <td>67</td>\n",
       "      <td>29.3</td>\n",
       "      <td>0</td>\n",
       "    </tr>\n",
       "    <tr>\n",
       "      <th>37</th>\n",
       "      <td>Pennsylvania</td>\n",
       "      <td>6.3</td>\n",
       "      <td>106</td>\n",
       "      <td>72</td>\n",
       "      <td>14.9</td>\n",
       "      <td>0</td>\n",
       "    </tr>\n",
       "    <tr>\n",
       "      <th>38</th>\n",
       "      <td>Rhode Island</td>\n",
       "      <td>3.4</td>\n",
       "      <td>174</td>\n",
       "      <td>87</td>\n",
       "      <td>8.3</td>\n",
       "      <td>0</td>\n",
       "    </tr>\n",
       "    <tr>\n",
       "      <th>39</th>\n",
       "      <td>South Carolina</td>\n",
       "      <td>14.4</td>\n",
       "      <td>279</td>\n",
       "      <td>48</td>\n",
       "      <td>22.5</td>\n",
       "      <td>1</td>\n",
       "    </tr>\n",
       "    <tr>\n",
       "      <th>40</th>\n",
       "      <td>South Dakota</td>\n",
       "      <td>3.8</td>\n",
       "      <td>86</td>\n",
       "      <td>45</td>\n",
       "      <td>12.8</td>\n",
       "      <td>0</td>\n",
       "    </tr>\n",
       "    <tr>\n",
       "      <th>41</th>\n",
       "      <td>Tennessee</td>\n",
       "      <td>13.2</td>\n",
       "      <td>188</td>\n",
       "      <td>59</td>\n",
       "      <td>26.9</td>\n",
       "      <td>1</td>\n",
       "    </tr>\n",
       "    <tr>\n",
       "      <th>42</th>\n",
       "      <td>Texas</td>\n",
       "      <td>12.7</td>\n",
       "      <td>201</td>\n",
       "      <td>80</td>\n",
       "      <td>25.5</td>\n",
       "      <td>1</td>\n",
       "    </tr>\n",
       "    <tr>\n",
       "      <th>43</th>\n",
       "      <td>Utah</td>\n",
       "      <td>3.2</td>\n",
       "      <td>120</td>\n",
       "      <td>80</td>\n",
       "      <td>22.9</td>\n",
       "      <td>0</td>\n",
       "    </tr>\n",
       "    <tr>\n",
       "      <th>44</th>\n",
       "      <td>Vermont</td>\n",
       "      <td>2.2</td>\n",
       "      <td>48</td>\n",
       "      <td>32</td>\n",
       "      <td>11.2</td>\n",
       "      <td>0</td>\n",
       "    </tr>\n",
       "    <tr>\n",
       "      <th>45</th>\n",
       "      <td>Virginia</td>\n",
       "      <td>8.5</td>\n",
       "      <td>156</td>\n",
       "      <td>63</td>\n",
       "      <td>20.7</td>\n",
       "      <td>0</td>\n",
       "    </tr>\n",
       "    <tr>\n",
       "      <th>46</th>\n",
       "      <td>Washington</td>\n",
       "      <td>4.0</td>\n",
       "      <td>145</td>\n",
       "      <td>73</td>\n",
       "      <td>26.2</td>\n",
       "      <td>0</td>\n",
       "    </tr>\n",
       "    <tr>\n",
       "      <th>47</th>\n",
       "      <td>West Virginia</td>\n",
       "      <td>5.7</td>\n",
       "      <td>81</td>\n",
       "      <td>39</td>\n",
       "      <td>9.3</td>\n",
       "      <td>0</td>\n",
       "    </tr>\n",
       "    <tr>\n",
       "      <th>48</th>\n",
       "      <td>Wisconsin</td>\n",
       "      <td>2.6</td>\n",
       "      <td>53</td>\n",
       "      <td>66</td>\n",
       "      <td>10.8</td>\n",
       "      <td>0</td>\n",
       "    </tr>\n",
       "    <tr>\n",
       "      <th>49</th>\n",
       "      <td>Wyoming</td>\n",
       "      <td>6.8</td>\n",
       "      <td>161</td>\n",
       "      <td>60</td>\n",
       "      <td>15.6</td>\n",
       "      <td>0</td>\n",
       "    </tr>\n",
       "  </tbody>\n",
       "</table>\n",
       "</div>"
      ],
      "text/plain": [
       "            States  Murder  Assault  UrbanPop  Rape  ClusterId_hc\n",
       "0          Alabama    13.2      236        58  21.2             1\n",
       "1           Alaska    10.0      263        48  44.5             1\n",
       "2          Arizona     8.1      294        80  31.0             1\n",
       "3         Arkansas     8.8      190        50  19.5             0\n",
       "4       California     9.0      276        91  40.6             1\n",
       "5         Colorado     7.9      204        78  38.7             1\n",
       "6      Connecticut     3.3      110        77  11.1             0\n",
       "7         Delaware     5.9      238        72  15.8             0\n",
       "8          Florida    15.4      335        80  31.9             1\n",
       "9          Georgia    17.4      211        60  25.8             1\n",
       "10          Hawaii     5.3       46        83  20.2             0\n",
       "11           Idaho     2.6      120        54  14.2             0\n",
       "12        Illinois    10.4      249        83  24.0             1\n",
       "13         Indiana     7.2      113        65  21.0             0\n",
       "14            Iowa     2.2       56        57  11.3             0\n",
       "15          Kansas     6.0      115        66  18.0             0\n",
       "16        Kentucky     9.7      109        52  16.3             0\n",
       "17       Louisiana    15.4      249        66  22.2             1\n",
       "18           Maine     2.1       83        51   7.8             0\n",
       "19        Maryland    11.3      300        67  27.8             1\n",
       "20   Massachusetts     4.4      149        85  16.3             0\n",
       "21        Michigan    12.1      255        74  35.1             1\n",
       "22       Minnesota     2.7       72        66  14.9             0\n",
       "23     Mississippi    16.1      259        44  17.1             1\n",
       "24        Missouri     9.0      178        70  28.2             1\n",
       "25         Montana     6.0      109        53  16.4             0\n",
       "26        Nebraska     4.3      102        62  16.5             0\n",
       "27          Nevada    12.2      252        81  46.0             1\n",
       "28   New Hampshire     2.1       57        56   9.5             0\n",
       "29      New Jersey     7.4      159        89  18.8             0\n",
       "30      New Mexico    11.4      285        70  32.1             1\n",
       "31        New York    11.1      254        86  26.1             1\n",
       "32  North Carolina    13.0      337        45  16.1             1\n",
       "33    North Dakota     0.8       45        44   7.3             0\n",
       "34            Ohio     7.3      120        75  21.4             0\n",
       "35        Oklahoma     6.6      151        68  20.0             0\n",
       "36          Oregon     4.9      159        67  29.3             0\n",
       "37    Pennsylvania     6.3      106        72  14.9             0\n",
       "38    Rhode Island     3.4      174        87   8.3             0\n",
       "39  South Carolina    14.4      279        48  22.5             1\n",
       "40    South Dakota     3.8       86        45  12.8             0\n",
       "41       Tennessee    13.2      188        59  26.9             1\n",
       "42           Texas    12.7      201        80  25.5             1\n",
       "43            Utah     3.2      120        80  22.9             0\n",
       "44         Vermont     2.2       48        32  11.2             0\n",
       "45        Virginia     8.5      156        63  20.7             0\n",
       "46      Washington     4.0      145        73  26.2             0\n",
       "47   West Virginia     5.7       81        39   9.3             0\n",
       "48       Wisconsin     2.6       53        66  10.8             0\n",
       "49         Wyoming     6.8      161        60  15.6             0"
      ]
     },
     "execution_count": 27,
     "metadata": {},
     "output_type": "execute_result"
    }
   ],
   "source": [
    "crime['ClusterId_hc'] = y_hc\n",
    "crime "
   ]
  },
  {
   "cell_type": "code",
   "execution_count": 28,
   "id": "8532c2db",
   "metadata": {
    "ExecuteTime": {
     "end_time": "2022-11-02T10:20:53.792033Z",
     "start_time": "2022-11-02T10:20:53.780840Z"
    }
   },
   "outputs": [
    {
     "data": {
      "text/plain": [
       "0    30\n",
       "1    20\n",
       "Name: ClusterId_hc, dtype: int64"
      ]
     },
     "execution_count": 28,
     "metadata": {},
     "output_type": "execute_result"
    }
   ],
   "source": [
    "crime[\"ClusterId_hc\"].value_counts()"
   ]
  },
  {
   "cell_type": "code",
   "execution_count": 29,
   "id": "c150cefe",
   "metadata": {
    "ExecuteTime": {
     "end_time": "2022-11-02T10:20:54.125862Z",
     "start_time": "2022-11-02T10:20:53.792033Z"
    },
    "scrolled": true
   },
   "outputs": [
    {
     "data": {
      "text/html": [
       "<div>\n",
       "<style scoped>\n",
       "    .dataframe tbody tr th:only-of-type {\n",
       "        vertical-align: middle;\n",
       "    }\n",
       "\n",
       "    .dataframe tbody tr th {\n",
       "        vertical-align: top;\n",
       "    }\n",
       "\n",
       "    .dataframe thead tr th {\n",
       "        text-align: left;\n",
       "    }\n",
       "\n",
       "    .dataframe thead tr:last-of-type th {\n",
       "        text-align: right;\n",
       "    }\n",
       "</style>\n",
       "<table border=\"1\" class=\"dataframe\">\n",
       "  <thead>\n",
       "    <tr>\n",
       "      <th></th>\n",
       "      <th>Murder</th>\n",
       "      <th>Assault</th>\n",
       "      <th>UrbanPop</th>\n",
       "      <th>Rape</th>\n",
       "    </tr>\n",
       "    <tr>\n",
       "      <th></th>\n",
       "      <th>mean</th>\n",
       "      <th>mean</th>\n",
       "      <th>mean</th>\n",
       "      <th>mean</th>\n",
       "    </tr>\n",
       "    <tr>\n",
       "      <th>ClusterId_hc</th>\n",
       "      <th></th>\n",
       "      <th></th>\n",
       "      <th></th>\n",
       "      <th></th>\n",
       "    </tr>\n",
       "  </thead>\n",
       "  <tbody>\n",
       "    <tr>\n",
       "      <th>0</th>\n",
       "      <td>4.870</td>\n",
       "      <td>114.433333</td>\n",
       "      <td>63.633333</td>\n",
       "      <td>15.943333</td>\n",
       "    </tr>\n",
       "    <tr>\n",
       "      <th>1</th>\n",
       "      <td>12.165</td>\n",
       "      <td>255.250000</td>\n",
       "      <td>68.400000</td>\n",
       "      <td>29.165000</td>\n",
       "    </tr>\n",
       "  </tbody>\n",
       "</table>\n",
       "</div>"
      ],
      "text/plain": [
       "              Murder     Assault   UrbanPop       Rape\n",
       "                mean        mean       mean       mean\n",
       "ClusterId_hc                                          \n",
       "0              4.870  114.433333  63.633333  15.943333\n",
       "1             12.165  255.250000  68.400000  29.165000"
      ]
     },
     "execution_count": 29,
     "metadata": {},
     "output_type": "execute_result"
    }
   ],
   "source": [
    "crime.groupby('ClusterId_hc').agg(['mean'])"
   ]
  },
  {
   "cell_type": "markdown",
   "id": "dc838d1f",
   "metadata": {},
   "source": [
    "Insight:\n",
    "\n",
    "Optimum no. of clusters is 2\n",
    "\n",
    "As we can see from above table, states with clusterid 0 are relatively safer as compared to states with clusterid 1"
   ]
  },
  {
   "cell_type": "code",
   "execution_count": 30,
   "id": "7f2245e9",
   "metadata": {
    "ExecuteTime": {
     "end_time": "2022-11-02T10:22:54.052166Z",
     "start_time": "2022-11-02T10:20:54.126321Z"
    }
   },
   "outputs": [
    {
     "name": "stdout",
     "output_type": "stream",
     "text": [
      "What is name of your state? \n",
      "South Dakota\n"
     ]
    }
   ],
   "source": [
    "name = input('What is name of your state? \\n') "
   ]
  },
  {
   "cell_type": "code",
   "execution_count": 31,
   "id": "aafa7029",
   "metadata": {
    "ExecuteTime": {
     "end_time": "2022-11-02T10:22:54.066072Z",
     "start_time": "2022-11-02T10:22:54.052166Z"
    }
   },
   "outputs": [
    {
     "name": "stdout",
     "output_type": "stream",
     "text": [
      "Your state is category 0 state\n",
      "Your state is safe state\n"
     ]
    }
   ],
   "source": [
    "for i in range (0, len(crime)): \n",
    "    if name == crime.States[i]:\n",
    "        print('Your state is category', crime.ClusterId_hc[i], 'state') \n",
    "        if crime.ClusterId_hc[i] == 0:\n",
    "            print('Your state is safe state')\n",
    "        else:\n",
    "            print('Your state is in danger zone')"
   ]
  },
  {
   "cell_type": "markdown",
   "id": "ea589a48",
   "metadata": {},
   "source": [
    "## 2) K-Means"
   ]
  },
  {
   "cell_type": "markdown",
   "id": "3cbb0467",
   "metadata": {},
   "source": [
    "K-means clustering is an unsupervised algorithm. In an unsupervised algorithm, we are not interested in making predictions (since we don’t have a target/output variable). The objective is to discover interesting patterns in the data, e.g., are there any subgroups or ‘clusters’ in dataset "
   ]
  },
  {
   "cell_type": "markdown",
   "id": "9c5240e2",
   "metadata": {},
   "source": [
    "K-means is a centroid-based algorithm, where we calculate the distances to assign a point to a cluster. In K-Means, each cluster is associated with a centroid.\n",
    "\n",
    "The main objective of the K-Means algorithm is to minimize the sum of distances between the points and their respective cluster centroid. The first step in k-means is to pick the number of clusters, k. Then keep the iterations running until one of the below satisifes:\n",
    "\n",
    "Centroids of newly formed clusters do not change\n",
    "\n",
    "Points remain in the same cluster\n",
    "\n",
    "Maximum number of iterations are reached\n",
    "\n",
    "In K Means clustering we need to first assign the K number of clusters which can be taken up using the thumb rule of \"Sqrt(n)/2\" or plotting the Elbow curve."
   ]
  },
  {
   "cell_type": "markdown",
   "id": "e922f1e7",
   "metadata": {},
   "source": [
    "How to find optimum number of  cluster? \n",
    "\n",
    "The K-means algorithm aims to choose centroids that minimise the inertia, or within-cluster sum-of-squares criterion"
   ]
  },
  {
   "cell_type": "code",
   "execution_count": 32,
   "id": "cd1bf1c0",
   "metadata": {
    "ExecuteTime": {
     "end_time": "2022-11-02T10:22:54.605748Z",
     "start_time": "2022-11-02T10:22:54.066072Z"
    }
   },
   "outputs": [
    {
     "data": {
      "text/plain": [
       "[200.0,\n",
       " 104.96163315756873,\n",
       " 80.08886132199619,\n",
       " 57.55425863091106,\n",
       " 50.520265525350695,\n",
       " 43.92746404497574,\n",
       " 40.52183461131975,\n",
       " 34.687388397849084,\n",
       " 32.70648136388185,\n",
       " 28.311639397122555]"
      ]
     },
     "execution_count": 32,
     "metadata": {},
     "output_type": "execute_result"
    }
   ],
   "source": [
    "wcss = []\n",
    "\n",
    "for i in range (1, 11):\n",
    "    kmeans = KMeans(n_clusters=i, random_state=0)\n",
    "    kmeans.fit(crime_std)\n",
    "    wcss.append(kmeans.inertia_)\n",
    "    \n",
    "wcss "
   ]
  },
  {
   "cell_type": "code",
   "execution_count": 33,
   "id": "834d4851",
   "metadata": {
    "ExecuteTime": {
     "end_time": "2022-11-02T10:22:54.706047Z",
     "start_time": "2022-11-02T10:22:54.605748Z"
    }
   },
   "outputs": [
    {
     "data": {
      "image/png": "[encoded data removed]",
      "text/plain": [
       "<Figure size 432x288 with 1 Axes>"
      ]
     },
     "metadata": {
      "needs_background": "light"
     },
     "output_type": "display_data"
    }
   ],
   "source": [
    "plt.plot(range(1, 11), wcss)\n",
    "plt.title('Elbow Method')\n",
    "plt.xlabel('Number of clusters')\n",
    "plt.ylabel('WCSS')\n",
    "plt.show()"
   ]
  },
  {
   "cell_type": "markdown",
   "id": "4663fb2d",
   "metadata": {},
   "source": [
    "The value of inertia [i.e sum of squared distance of samples to their closest cluster center] decreases as the number of clusters increase- so we will need to manually pick K while considering the trade-off between the inertia value and the number of clusters."
   ]
  },
  {
   "cell_type": "markdown",
   "id": "c8f23dba",
   "metadata": {},
   "source": [
    "Here, We take no of clusters = 2.\n",
    "\n",
    "But elbow is not clearly visible, so lets take help of silhouette score to find out optimum no. of clusters."
   ]
  },
  {
   "cell_type": "code",
   "execution_count": 34,
   "id": "49900663",
   "metadata": {
    "ExecuteTime": {
     "end_time": "2022-11-02T10:22:54.823297Z",
     "start_time": "2022-11-02T10:22:54.706047Z"
    }
   },
   "outputs": [
    {
     "name": "stdout",
     "output_type": "stream",
     "text": [
      "For cluster = 2 The silhouette score is 0.4084890326217641\n",
      "For cluster = 3 The silhouette score is 0.30813622648945616\n",
      "For cluster = 4 The silhouette score is 0.33968891433344395\n",
      "For cluster = 5 The silhouette score is 0.2968626678243933\n",
      "For cluster = 6 The silhouette score is 0.2797372888992387\n",
      "For cluster = 7 The silhouette score is 0.24929596022381695\n"
     ]
    }
   ],
   "source": [
    "for i in range (2,8):\n",
    "        clusters = KMeans(n_clusters=i, random_state= 1)\n",
    "        clusters.fit(crime_std) \n",
    "        sil_score =sil(crime_std , clusters.labels_ )\n",
    "        print('For cluster =', i , 'The silhouette score is', sil_score)  "
   ]
  },
  {
   "cell_type": "markdown",
   "id": "674bccec",
   "metadata": {},
   "source": [
    "### Silhouette score is maximum for n_clusters = 2"
   ]
  },
  {
   "cell_type": "code",
   "execution_count": 35,
   "id": "49836f44",
   "metadata": {
    "ExecuteTime": {
     "end_time": "2022-11-02T10:22:54.855949Z",
     "start_time": "2022-11-02T10:22:54.826072Z"
    }
   },
   "outputs": [
    {
     "data": {
      "text/plain": [
       "KMeans(n_clusters=2, random_state=1)"
      ]
     },
     "execution_count": 35,
     "metadata": {},
     "output_type": "execute_result"
    }
   ],
   "source": [
    "clusters = KMeans(n_clusters=2, random_state= 1)\n",
    "clusters.fit(crime_std)"
   ]
  },
  {
   "cell_type": "code",
   "execution_count": 36,
   "id": "fd1530bb",
   "metadata": {
    "ExecuteTime": {
     "end_time": "2022-11-02T10:22:54.872416Z",
     "start_time": "2022-11-02T10:22:54.855949Z"
    }
   },
   "outputs": [
    {
     "data": {
      "text/plain": [
       "array([1, 1, 1, 0, 1, 1, 0, 0, 1, 1, 0, 0, 1, 0, 0, 0, 0, 1, 0, 1, 0, 1,\n",
       "       0, 1, 1, 0, 0, 1, 0, 0, 1, 1, 1, 0, 0, 0, 0, 0, 0, 1, 0, 1, 1, 0,\n",
       "       0, 0, 0, 0, 0, 0])"
      ]
     },
     "execution_count": 36,
     "metadata": {},
     "output_type": "execute_result"
    }
   ],
   "source": [
    "clusters.labels_ "
   ]
  },
  {
   "cell_type": "code",
   "execution_count": 37,
   "id": "3aab3c16",
   "metadata": {
    "ExecuteTime": {
     "end_time": "2022-11-02T10:22:54.898599Z",
     "start_time": "2022-11-02T10:22:54.873400Z"
    }
   },
   "outputs": [
    {
     "data": {
      "text/html": [
       "<div>\n",
       "<style scoped>\n",
       "    .dataframe tbody tr th:only-of-type {\n",
       "        vertical-align: middle;\n",
       "    }\n",
       "\n",
       "    .dataframe tbody tr th {\n",
       "        vertical-align: top;\n",
       "    }\n",
       "\n",
       "    .dataframe thead th {\n",
       "        text-align: right;\n",
       "    }\n",
       "</style>\n",
       "<table border=\"1\" class=\"dataframe\">\n",
       "  <thead>\n",
       "    <tr style=\"text-align: right;\">\n",
       "      <th></th>\n",
       "      <th>States</th>\n",
       "      <th>Murder</th>\n",
       "      <th>Assault</th>\n",
       "      <th>UrbanPop</th>\n",
       "      <th>Rape</th>\n",
       "      <th>ClusterId_hc</th>\n",
       "      <th>ClusterId_kmeans</th>\n",
       "    </tr>\n",
       "  </thead>\n",
       "  <tbody>\n",
       "    <tr>\n",
       "      <th>0</th>\n",
       "      <td>Alabama</td>\n",
       "      <td>13.2</td>\n",
       "      <td>236</td>\n",
       "      <td>58</td>\n",
       "      <td>21.2</td>\n",
       "      <td>1</td>\n",
       "      <td>1</td>\n",
       "    </tr>\n",
       "    <tr>\n",
       "      <th>1</th>\n",
       "      <td>Alaska</td>\n",
       "      <td>10.0</td>\n",
       "      <td>263</td>\n",
       "      <td>48</td>\n",
       "      <td>44.5</td>\n",
       "      <td>1</td>\n",
       "      <td>1</td>\n",
       "    </tr>\n",
       "    <tr>\n",
       "      <th>2</th>\n",
       "      <td>Arizona</td>\n",
       "      <td>8.1</td>\n",
       "      <td>294</td>\n",
       "      <td>80</td>\n",
       "      <td>31.0</td>\n",
       "      <td>1</td>\n",
       "      <td>1</td>\n",
       "    </tr>\n",
       "    <tr>\n",
       "      <th>3</th>\n",
       "      <td>Arkansas</td>\n",
       "      <td>8.8</td>\n",
       "      <td>190</td>\n",
       "      <td>50</td>\n",
       "      <td>19.5</td>\n",
       "      <td>0</td>\n",
       "      <td>0</td>\n",
       "    </tr>\n",
       "    <tr>\n",
       "      <th>4</th>\n",
       "      <td>California</td>\n",
       "      <td>9.0</td>\n",
       "      <td>276</td>\n",
       "      <td>91</td>\n",
       "      <td>40.6</td>\n",
       "      <td>1</td>\n",
       "      <td>1</td>\n",
       "    </tr>\n",
       "    <tr>\n",
       "      <th>5</th>\n",
       "      <td>Colorado</td>\n",
       "      <td>7.9</td>\n",
       "      <td>204</td>\n",
       "      <td>78</td>\n",
       "      <td>38.7</td>\n",
       "      <td>1</td>\n",
       "      <td>1</td>\n",
       "    </tr>\n",
       "    <tr>\n",
       "      <th>6</th>\n",
       "      <td>Connecticut</td>\n",
       "      <td>3.3</td>\n",
       "      <td>110</td>\n",
       "      <td>77</td>\n",
       "      <td>11.1</td>\n",
       "      <td>0</td>\n",
       "      <td>0</td>\n",
       "    </tr>\n",
       "    <tr>\n",
       "      <th>7</th>\n",
       "      <td>Delaware</td>\n",
       "      <td>5.9</td>\n",
       "      <td>238</td>\n",
       "      <td>72</td>\n",
       "      <td>15.8</td>\n",
       "      <td>0</td>\n",
       "      <td>0</td>\n",
       "    </tr>\n",
       "    <tr>\n",
       "      <th>8</th>\n",
       "      <td>Florida</td>\n",
       "      <td>15.4</td>\n",
       "      <td>335</td>\n",
       "      <td>80</td>\n",
       "      <td>31.9</td>\n",
       "      <td>1</td>\n",
       "      <td>1</td>\n",
       "    </tr>\n",
       "    <tr>\n",
       "      <th>9</th>\n",
       "      <td>Georgia</td>\n",
       "      <td>17.4</td>\n",
       "      <td>211</td>\n",
       "      <td>60</td>\n",
       "      <td>25.8</td>\n",
       "      <td>1</td>\n",
       "      <td>1</td>\n",
       "    </tr>\n",
       "    <tr>\n",
       "      <th>10</th>\n",
       "      <td>Hawaii</td>\n",
       "      <td>5.3</td>\n",
       "      <td>46</td>\n",
       "      <td>83</td>\n",
       "      <td>20.2</td>\n",
       "      <td>0</td>\n",
       "      <td>0</td>\n",
       "    </tr>\n",
       "    <tr>\n",
       "      <th>11</th>\n",
       "      <td>Idaho</td>\n",
       "      <td>2.6</td>\n",
       "      <td>120</td>\n",
       "      <td>54</td>\n",
       "      <td>14.2</td>\n",
       "      <td>0</td>\n",
       "      <td>0</td>\n",
       "    </tr>\n",
       "    <tr>\n",
       "      <th>12</th>\n",
       "      <td>Illinois</td>\n",
       "      <td>10.4</td>\n",
       "      <td>249</td>\n",
       "      <td>83</td>\n",
       "      <td>24.0</td>\n",
       "      <td>1</td>\n",
       "      <td>1</td>\n",
       "    </tr>\n",
       "    <tr>\n",
       "      <th>13</th>\n",
       "      <td>Indiana</td>\n",
       "      <td>7.2</td>\n",
       "      <td>113</td>\n",
       "      <td>65</td>\n",
       "      <td>21.0</td>\n",
       "      <td>0</td>\n",
       "      <td>0</td>\n",
       "    </tr>\n",
       "    <tr>\n",
       "      <th>14</th>\n",
       "      <td>Iowa</td>\n",
       "      <td>2.2</td>\n",
       "      <td>56</td>\n",
       "      <td>57</td>\n",
       "      <td>11.3</td>\n",
       "      <td>0</td>\n",
       "      <td>0</td>\n",
       "    </tr>\n",
       "    <tr>\n",
       "      <th>15</th>\n",
       "      <td>Kansas</td>\n",
       "      <td>6.0</td>\n",
       "      <td>115</td>\n",
       "      <td>66</td>\n",
       "      <td>18.0</td>\n",
       "      <td>0</td>\n",
       "      <td>0</td>\n",
       "    </tr>\n",
       "    <tr>\n",
       "      <th>16</th>\n",
       "      <td>Kentucky</td>\n",
       "      <td>9.7</td>\n",
       "      <td>109</td>\n",
       "      <td>52</td>\n",
       "      <td>16.3</td>\n",
       "      <td>0</td>\n",
       "      <td>0</td>\n",
       "    </tr>\n",
       "    <tr>\n",
       "      <th>17</th>\n",
       "      <td>Louisiana</td>\n",
       "      <td>15.4</td>\n",
       "      <td>249</td>\n",
       "      <td>66</td>\n",
       "      <td>22.2</td>\n",
       "      <td>1</td>\n",
       "      <td>1</td>\n",
       "    </tr>\n",
       "    <tr>\n",
       "      <th>18</th>\n",
       "      <td>Maine</td>\n",
       "      <td>2.1</td>\n",
       "      <td>83</td>\n",
       "      <td>51</td>\n",
       "      <td>7.8</td>\n",
       "      <td>0</td>\n",
       "      <td>0</td>\n",
       "    </tr>\n",
       "    <tr>\n",
       "      <th>19</th>\n",
       "      <td>Maryland</td>\n",
       "      <td>11.3</td>\n",
       "      <td>300</td>\n",
       "      <td>67</td>\n",
       "      <td>27.8</td>\n",
       "      <td>1</td>\n",
       "      <td>1</td>\n",
       "    </tr>\n",
       "    <tr>\n",
       "      <th>20</th>\n",
       "      <td>Massachusetts</td>\n",
       "      <td>4.4</td>\n",
       "      <td>149</td>\n",
       "      <td>85</td>\n",
       "      <td>16.3</td>\n",
       "      <td>0</td>\n",
       "      <td>0</td>\n",
       "    </tr>\n",
       "    <tr>\n",
       "      <th>21</th>\n",
       "      <td>Michigan</td>\n",
       "      <td>12.1</td>\n",
       "      <td>255</td>\n",
       "      <td>74</td>\n",
       "      <td>35.1</td>\n",
       "      <td>1</td>\n",
       "      <td>1</td>\n",
       "    </tr>\n",
       "    <tr>\n",
       "      <th>22</th>\n",
       "      <td>Minnesota</td>\n",
       "      <td>2.7</td>\n",
       "      <td>72</td>\n",
       "      <td>66</td>\n",
       "      <td>14.9</td>\n",
       "      <td>0</td>\n",
       "      <td>0</td>\n",
       "    </tr>\n",
       "    <tr>\n",
       "      <th>23</th>\n",
       "      <td>Mississippi</td>\n",
       "      <td>16.1</td>\n",
       "      <td>259</td>\n",
       "      <td>44</td>\n",
       "      <td>17.1</td>\n",
       "      <td>1</td>\n",
       "      <td>1</td>\n",
       "    </tr>\n",
       "    <tr>\n",
       "      <th>24</th>\n",
       "      <td>Missouri</td>\n",
       "      <td>9.0</td>\n",
       "      <td>178</td>\n",
       "      <td>70</td>\n",
       "      <td>28.2</td>\n",
       "      <td>1</td>\n",
       "      <td>1</td>\n",
       "    </tr>\n",
       "    <tr>\n",
       "      <th>25</th>\n",
       "      <td>Montana</td>\n",
       "      <td>6.0</td>\n",
       "      <td>109</td>\n",
       "      <td>53</td>\n",
       "      <td>16.4</td>\n",
       "      <td>0</td>\n",
       "      <td>0</td>\n",
       "    </tr>\n",
       "    <tr>\n",
       "      <th>26</th>\n",
       "      <td>Nebraska</td>\n",
       "      <td>4.3</td>\n",
       "      <td>102</td>\n",
       "      <td>62</td>\n",
       "      <td>16.5</td>\n",
       "      <td>0</td>\n",
       "      <td>0</td>\n",
       "    </tr>\n",
       "    <tr>\n",
       "      <th>27</th>\n",
       "      <td>Nevada</td>\n",
       "      <td>12.2</td>\n",
       "      <td>252</td>\n",
       "      <td>81</td>\n",
       "      <td>46.0</td>\n",
       "      <td>1</td>\n",
       "      <td>1</td>\n",
       "    </tr>\n",
       "    <tr>\n",
       "      <th>28</th>\n",
       "      <td>New Hampshire</td>\n",
       "      <td>2.1</td>\n",
       "      <td>57</td>\n",
       "      <td>56</td>\n",
       "      <td>9.5</td>\n",
       "      <td>0</td>\n",
       "      <td>0</td>\n",
       "    </tr>\n",
       "    <tr>\n",
       "      <th>29</th>\n",
       "      <td>New Jersey</td>\n",
       "      <td>7.4</td>\n",
       "      <td>159</td>\n",
       "      <td>89</td>\n",
       "      <td>18.8</td>\n",
       "      <td>0</td>\n",
       "      <td>0</td>\n",
       "    </tr>\n",
       "    <tr>\n",
       "      <th>30</th>\n",
       "      <td>New Mexico</td>\n",
       "      <td>11.4</td>\n",
       "      <td>285</td>\n",
       "      <td>70</td>\n",
       "      <td>32.1</td>\n",
       "      <td>1</td>\n",
       "      <td>1</td>\n",
       "    </tr>\n",
       "    <tr>\n",
       "      <th>31</th>\n",
       "      <td>New York</td>\n",
       "      <td>11.1</td>\n",
       "      <td>254</td>\n",
       "      <td>86</td>\n",
       "      <td>26.1</td>\n",
       "      <td>1</td>\n",
       "      <td>1</td>\n",
       "    </tr>\n",
       "    <tr>\n",
       "      <th>32</th>\n",
       "      <td>North Carolina</td>\n",
       "      <td>13.0</td>\n",
       "      <td>337</td>\n",
       "      <td>45</td>\n",
       "      <td>16.1</td>\n",
       "      <td>1</td>\n",
       "      <td>1</td>\n",
       "    </tr>\n",
       "    <tr>\n",
       "      <th>33</th>\n",
       "      <td>North Dakota</td>\n",
       "      <td>0.8</td>\n",
       "      <td>45</td>\n",
       "      <td>44</td>\n",
       "      <td>7.3</td>\n",
       "      <td>0</td>\n",
       "      <td>0</td>\n",
       "    </tr>\n",
       "    <tr>\n",
       "      <th>34</th>\n",
       "      <td>Ohio</td>\n",
       "      <td>7.3</td>\n",
       "      <td>120</td>\n",
       "      <td>75</td>\n",
       "      <td>21.4</td>\n",
       "      <td>0</td>\n",
       "      <td>0</td>\n",
       "    </tr>\n",
       "    <tr>\n",
       "      <th>35</th>\n",
       "      <td>Oklahoma</td>\n",
       "      <td>6.6</td>\n",
       "      <td>151</td>\n",
       "      <td>68</td>\n",
       "      <td>20.0</td>\n",
       "      <td>0</td>\n",
       "      <td>0</td>\n",
       "    </tr>\n",
       "    <tr>\n",
       "      <th>36</th>\n",
       "      <td>Oregon</td>\n",
       "      <td>4.9</td>\n",
       "      <td>159</td>\n",
       "      <td>67</td>\n",
       "      <td>29.3</td>\n",
       "      <td>0</td>\n",
       "      <td>0</td>\n",
       "    </tr>\n",
       "    <tr>\n",
       "      <th>37</th>\n",
       "      <td>Pennsylvania</td>\n",
       "      <td>6.3</td>\n",
       "      <td>106</td>\n",
       "      <td>72</td>\n",
       "      <td>14.9</td>\n",
       "      <td>0</td>\n",
       "      <td>0</td>\n",
       "    </tr>\n",
       "    <tr>\n",
       "      <th>38</th>\n",
       "      <td>Rhode Island</td>\n",
       "      <td>3.4</td>\n",
       "      <td>174</td>\n",
       "      <td>87</td>\n",
       "      <td>8.3</td>\n",
       "      <td>0</td>\n",
       "      <td>0</td>\n",
       "    </tr>\n",
       "    <tr>\n",
       "      <th>39</th>\n",
       "      <td>South Carolina</td>\n",
       "      <td>14.4</td>\n",
       "      <td>279</td>\n",
       "      <td>48</td>\n",
       "      <td>22.5</td>\n",
       "      <td>1</td>\n",
       "      <td>1</td>\n",
       "    </tr>\n",
       "    <tr>\n",
       "      <th>40</th>\n",
       "      <td>South Dakota</td>\n",
       "      <td>3.8</td>\n",
       "      <td>86</td>\n",
       "      <td>45</td>\n",
       "      <td>12.8</td>\n",
       "      <td>0</td>\n",
       "      <td>0</td>\n",
       "    </tr>\n",
       "    <tr>\n",
       "      <th>41</th>\n",
       "      <td>Tennessee</td>\n",
       "      <td>13.2</td>\n",
       "      <td>188</td>\n",
       "      <td>59</td>\n",
       "      <td>26.9</td>\n",
       "      <td>1</td>\n",
       "      <td>1</td>\n",
       "    </tr>\n",
       "    <tr>\n",
       "      <th>42</th>\n",
       "      <td>Texas</td>\n",
       "      <td>12.7</td>\n",
       "      <td>201</td>\n",
       "      <td>80</td>\n",
       "      <td>25.5</td>\n",
       "      <td>1</td>\n",
       "      <td>1</td>\n",
       "    </tr>\n",
       "    <tr>\n",
       "      <th>43</th>\n",
       "      <td>Utah</td>\n",
       "      <td>3.2</td>\n",
       "      <td>120</td>\n",
       "      <td>80</td>\n",
       "      <td>22.9</td>\n",
       "      <td>0</td>\n",
       "      <td>0</td>\n",
       "    </tr>\n",
       "    <tr>\n",
       "      <th>44</th>\n",
       "      <td>Vermont</td>\n",
       "      <td>2.2</td>\n",
       "      <td>48</td>\n",
       "      <td>32</td>\n",
       "      <td>11.2</td>\n",
       "      <td>0</td>\n",
       "      <td>0</td>\n",
       "    </tr>\n",
       "    <tr>\n",
       "      <th>45</th>\n",
       "      <td>Virginia</td>\n",
       "      <td>8.5</td>\n",
       "      <td>156</td>\n",
       "      <td>63</td>\n",
       "      <td>20.7</td>\n",
       "      <td>0</td>\n",
       "      <td>0</td>\n",
       "    </tr>\n",
       "    <tr>\n",
       "      <th>46</th>\n",
       "      <td>Washington</td>\n",
       "      <td>4.0</td>\n",
       "      <td>145</td>\n",
       "      <td>73</td>\n",
       "      <td>26.2</td>\n",
       "      <td>0</td>\n",
       "      <td>0</td>\n",
       "    </tr>\n",
       "    <tr>\n",
       "      <th>47</th>\n",
       "      <td>West Virginia</td>\n",
       "      <td>5.7</td>\n",
       "      <td>81</td>\n",
       "      <td>39</td>\n",
       "      <td>9.3</td>\n",
       "      <td>0</td>\n",
       "      <td>0</td>\n",
       "    </tr>\n",
       "    <tr>\n",
       "      <th>48</th>\n",
       "      <td>Wisconsin</td>\n",
       "      <td>2.6</td>\n",
       "      <td>53</td>\n",
       "      <td>66</td>\n",
       "      <td>10.8</td>\n",
       "      <td>0</td>\n",
       "      <td>0</td>\n",
       "    </tr>\n",
       "    <tr>\n",
       "      <th>49</th>\n",
       "      <td>Wyoming</td>\n",
       "      <td>6.8</td>\n",
       "      <td>161</td>\n",
       "      <td>60</td>\n",
       "      <td>15.6</td>\n",
       "      <td>0</td>\n",
       "      <td>0</td>\n",
       "    </tr>\n",
       "  </tbody>\n",
       "</table>\n",
       "</div>"
      ],
      "text/plain": [
       "            States  Murder  Assault  UrbanPop  Rape  ClusterId_hc  \\\n",
       "0          Alabama    13.2      236        58  21.2             1   \n",
       "1           Alaska    10.0      263        48  44.5             1   \n",
       "2          Arizona     8.1      294        80  31.0             1   \n",
       "3         Arkansas     8.8      190        50  19.5             0   \n",
       "4       California     9.0      276        91  40.6             1   \n",
       "5         Colorado     7.9      204        78  38.7             1   \n",
       "6      Connecticut     3.3      110        77  11.1             0   \n",
       "7         Delaware     5.9      238        72  15.8             0   \n",
       "8          Florida    15.4      335        80  31.9             1   \n",
       "9          Georgia    17.4      211        60  25.8             1   \n",
       "10          Hawaii     5.3       46        83  20.2             0   \n",
       "11           Idaho     2.6      120        54  14.2             0   \n",
       "12        Illinois    10.4      249        83  24.0             1   \n",
       "13         Indiana     7.2      113        65  21.0             0   \n",
       "14            Iowa     2.2       56        57  11.3             0   \n",
       "15          Kansas     6.0      115        66  18.0             0   \n",
       "16        Kentucky     9.7      109        52  16.3             0   \n",
       "17       Louisiana    15.4      249        66  22.2             1   \n",
       "18           Maine     2.1       83        51   7.8             0   \n",
       "19        Maryland    11.3      300        67  27.8             1   \n",
       "20   Massachusetts     4.4      149        85  16.3             0   \n",
       "21        Michigan    12.1      255        74  35.1             1   \n",
       "22       Minnesota     2.7       72        66  14.9             0   \n",
       "23     Mississippi    16.1      259        44  17.1             1   \n",
       "24        Missouri     9.0      178        70  28.2             1   \n",
       "25         Montana     6.0      109        53  16.4             0   \n",
       "26        Nebraska     4.3      102        62  16.5             0   \n",
       "27          Nevada    12.2      252        81  46.0             1   \n",
       "28   New Hampshire     2.1       57        56   9.5             0   \n",
       "29      New Jersey     7.4      159        89  18.8             0   \n",
       "30      New Mexico    11.4      285        70  32.1             1   \n",
       "31        New York    11.1      254        86  26.1             1   \n",
       "32  North Carolina    13.0      337        45  16.1             1   \n",
       "33    North Dakota     0.8       45        44   7.3             0   \n",
       "34            Ohio     7.3      120        75  21.4             0   \n",
       "35        Oklahoma     6.6      151        68  20.0             0   \n",
       "36          Oregon     4.9      159        67  29.3             0   \n",
       "37    Pennsylvania     6.3      106        72  14.9             0   \n",
       "38    Rhode Island     3.4      174        87   8.3             0   \n",
       "39  South Carolina    14.4      279        48  22.5             1   \n",
       "40    South Dakota     3.8       86        45  12.8             0   \n",
       "41       Tennessee    13.2      188        59  26.9             1   \n",
       "42           Texas    12.7      201        80  25.5             1   \n",
       "43            Utah     3.2      120        80  22.9             0   \n",
       "44         Vermont     2.2       48        32  11.2             0   \n",
       "45        Virginia     8.5      156        63  20.7             0   \n",
       "46      Washington     4.0      145        73  26.2             0   \n",
       "47   West Virginia     5.7       81        39   9.3             0   \n",
       "48       Wisconsin     2.6       53        66  10.8             0   \n",
       "49         Wyoming     6.8      161        60  15.6             0   \n",
       "\n",
       "    ClusterId_kmeans  \n",
       "0                  1  \n",
       "1                  1  \n",
       "2                  1  \n",
       "3                  0  \n",
       "4                  1  \n",
       "5                  1  \n",
       "6                  0  \n",
       "7                  0  \n",
       "8                  1  \n",
       "9                  1  \n",
       "10                 0  \n",
       "11                 0  \n",
       "12                 1  \n",
       "13                 0  \n",
       "14                 0  \n",
       "15                 0  \n",
       "16                 0  \n",
       "17                 1  \n",
       "18                 0  \n",
       "19                 1  \n",
       "20                 0  \n",
       "21                 1  \n",
       "22                 0  \n",
       "23                 1  \n",
       "24                 1  \n",
       "25                 0  \n",
       "26                 0  \n",
       "27                 1  \n",
       "28                 0  \n",
       "29                 0  \n",
       "30                 1  \n",
       "31                 1  \n",
       "32                 1  \n",
       "33                 0  \n",
       "34                 0  \n",
       "35                 0  \n",
       "36                 0  \n",
       "37                 0  \n",
       "38                 0  \n",
       "39                 1  \n",
       "40                 0  \n",
       "41                 1  \n",
       "42                 1  \n",
       "43                 0  \n",
       "44                 0  \n",
       "45                 0  \n",
       "46                 0  \n",
       "47                 0  \n",
       "48                 0  \n",
       "49                 0  "
      ]
     },
     "execution_count": 37,
     "metadata": {},
     "output_type": "execute_result"
    }
   ],
   "source": [
    "crime['ClusterId_kmeans'] = clusters.labels_ \n",
    "crime "
   ]
  },
  {
   "cell_type": "code",
   "execution_count": 38,
   "id": "53f4e0c5",
   "metadata": {
    "ExecuteTime": {
     "end_time": "2022-11-02T10:22:54.935923Z",
     "start_time": "2022-11-02T10:22:54.898599Z"
    }
   },
   "outputs": [
    {
     "data": {
      "text/html": [
       "<div>\n",
       "<style scoped>\n",
       "    .dataframe tbody tr th:only-of-type {\n",
       "        vertical-align: middle;\n",
       "    }\n",
       "\n",
       "    .dataframe tbody tr th {\n",
       "        vertical-align: top;\n",
       "    }\n",
       "\n",
       "    .dataframe thead tr th {\n",
       "        text-align: left;\n",
       "    }\n",
       "\n",
       "    .dataframe thead tr:last-of-type th {\n",
       "        text-align: right;\n",
       "    }\n",
       "</style>\n",
       "<table border=\"1\" class=\"dataframe\">\n",
       "  <thead>\n",
       "    <tr>\n",
       "      <th></th>\n",
       "      <th>Murder</th>\n",
       "      <th>Assault</th>\n",
       "      <th>UrbanPop</th>\n",
       "      <th>Rape</th>\n",
       "      <th>ClusterId_hc</th>\n",
       "    </tr>\n",
       "    <tr>\n",
       "      <th></th>\n",
       "      <th>mean</th>\n",
       "      <th>mean</th>\n",
       "      <th>mean</th>\n",
       "      <th>mean</th>\n",
       "      <th>mean</th>\n",
       "    </tr>\n",
       "    <tr>\n",
       "      <th>ClusterId_kmeans</th>\n",
       "      <th></th>\n",
       "      <th></th>\n",
       "      <th></th>\n",
       "      <th></th>\n",
       "      <th></th>\n",
       "    </tr>\n",
       "  </thead>\n",
       "  <tbody>\n",
       "    <tr>\n",
       "      <th>0</th>\n",
       "      <td>4.870</td>\n",
       "      <td>114.433333</td>\n",
       "      <td>63.633333</td>\n",
       "      <td>15.943333</td>\n",
       "      <td>0.0</td>\n",
       "    </tr>\n",
       "    <tr>\n",
       "      <th>1</th>\n",
       "      <td>12.165</td>\n",
       "      <td>255.250000</td>\n",
       "      <td>68.400000</td>\n",
       "      <td>29.165000</td>\n",
       "      <td>1.0</td>\n",
       "    </tr>\n",
       "  </tbody>\n",
       "</table>\n",
       "</div>"
      ],
      "text/plain": [
       "                  Murder     Assault   UrbanPop       Rape ClusterId_hc\n",
       "                    mean        mean       mean       mean         mean\n",
       "ClusterId_kmeans                                                       \n",
       "0                  4.870  114.433333  63.633333  15.943333          0.0\n",
       "1                 12.165  255.250000  68.400000  29.165000          1.0"
      ]
     },
     "execution_count": 38,
     "metadata": {},
     "output_type": "execute_result"
    }
   ],
   "source": [
    "crime.groupby('ClusterId_kmeans').agg(['mean']) "
   ]
  },
  {
   "cell_type": "markdown",
   "id": "181cf5ab",
   "metadata": {},
   "source": [
    "Insight: \n",
    "\n",
    "Optimum no. of clusters is 2\n",
    "\n",
    "As we can see from above table, states with clusterid 0 are relatively safer as compared to states with clusterid 1"
   ]
  },
  {
   "cell_type": "code",
   "execution_count": 39,
   "id": "757a4a84",
   "metadata": {
    "ExecuteTime": {
     "end_time": "2022-11-02T10:23:07.000028Z",
     "start_time": "2022-11-02T10:22:54.937964Z"
    }
   },
   "outputs": [
    {
     "name": "stdout",
     "output_type": "stream",
     "text": [
      "What is name of your state? \n",
      "Texas\n"
     ]
    }
   ],
   "source": [
    "name = input('What is name of your state? \\n') "
   ]
  },
  {
   "cell_type": "code",
   "execution_count": 40,
   "id": "5352cc32",
   "metadata": {
    "ExecuteTime": {
     "end_time": "2022-11-02T10:23:07.018897Z",
     "start_time": "2022-11-02T10:23:07.001036Z"
    }
   },
   "outputs": [
    {
     "name": "stdout",
     "output_type": "stream",
     "text": [
      "Your state is category 1 state\n",
      "Your state is in danger zone\n"
     ]
    }
   ],
   "source": [
    "for i in range (0, len(crime)): \n",
    "    if name == crime.States[i]:\n",
    "        print('Your state is category', crime.ClusterId_kmeans[i], 'state') \n",
    "        if crime.ClusterId_kmeans[i] == 0:\n",
    "            print('Your state is safe state')\n",
    "        else:\n",
    "            print('Your state is in danger zone') "
   ]
  },
  {
   "cell_type": "markdown",
   "id": "efd2790f",
   "metadata": {},
   "source": [
    "## 3)DB SCAN"
   ]
  },
  {
   "cell_type": "markdown",
   "id": "27c3c80e",
   "metadata": {},
   "source": [
    "K-means, hierarchical clustering work for finding spherical-shaped clusters or convex clusters. They are suitable only for compact and well-separated clusters. Moreover, they are also severely affected by the presence of noise and outliers in the data.\n",
    "\n",
    "In real life, Clusters can be of arbitrary shape and may contain noise.\n",
    "\n",
    "Hence, to overcome these shortcomings we use DB SCAN "
   ]
  },
  {
   "cell_type": "markdown",
   "id": "7cb56b0d",
   "metadata": {},
   "source": [
    "#### The DBSCAN algorithm uses two parameters:"
   ]
  },
  {
   "cell_type": "markdown",
   "id": "13490564",
   "metadata": {},
   "source": [
    "minPts: The minimum number of points clustered together for a region to be considered dense.\n",
    "\n",
    "eps (ε): A distance that will be used to locate the points in the neighborhood of any point."
   ]
  },
  {
   "cell_type": "markdown",
   "id": "bd12c7c8",
   "metadata": {},
   "source": [
    "#### There are three types of points after the DBSCAN clustering is complete:"
   ]
  },
  {
   "cell_type": "markdown",
   "id": "1d5b433a",
   "metadata": {},
   "source": [
    "Core — This is a point that has at least m points within distance n from itself.\n",
    "\n",
    "Border — This is a point that has at least one Core point at a distance n.\n",
    "\n",
    "Noise — This is a point that is neither a Core nor a Border. And it has less than m points within distance n from itself."
   ]
  },
  {
   "cell_type": "markdown",
   "id": "218a603e",
   "metadata": {},
   "source": [
    "#### Silhouette score"
   ]
  },
  {
   "cell_type": "code",
   "execution_count": 41,
   "id": "8389969c",
   "metadata": {
    "ExecuteTime": {
     "end_time": "2022-11-02T10:23:07.085729Z",
     "start_time": "2022-11-02T10:23:07.018897Z"
    }
   },
   "outputs": [
    {
     "name": "stdout",
     "output_type": "stream",
     "text": [
      "for eps= 0.25 and min_samples= 1 sil_score is 0.02524285085226844\n",
      "for eps= 0.25 and min_samples= 2 sil_score is 0.038817626029398714\n",
      "for eps= 0.5 and min_samples= 1 sil_score is 0.06502546728043575\n",
      "for eps= 0.5 and min_samples= 2 sil_score is -0.2689925316677858\n",
      "for eps= 0.75 and min_samples= 1 sil_score is -0.015304812731762202\n",
      "for eps= 0.75 and min_samples= 2 sil_score is -0.09728961540145159\n",
      "for eps= 1.0 and min_samples= 1 sil_score is 0.0011630308334708251\n",
      "for eps= 1.0 and min_samples= 2 sil_score is 0.19290975823254836\n",
      "for eps= 1.25 and min_samples= 1 sil_score is 0.21127138005172738\n",
      "for eps= 1.25 and min_samples= 2 sil_score is 0.2257103196361524\n",
      "for eps= 1.5 and min_samples= 1 sil_score is 0.23455598753159795\n",
      "for eps= 1.5 and min_samples= 2 sil_score is 0.23455598753159795\n",
      "for eps= 1.75 and min_samples= 1 sil_score is 0.23455598753159795\n",
      "for eps= 1.75 and min_samples= 2 sil_score is 0.23455598753159795\n",
      "for eps= 2.0 and min_samples= 1 sil_score is 0.23455598753159795\n",
      "for eps= 2.0 and min_samples= 2 sil_score is 0.23455598753159795\n"
     ]
    }
   ],
   "source": [
    "eps = [0.25,0.5,0.75,1.00,1.25,1.5,1.75,2.00]\n",
    "min_samples = [1,2]\n",
    "\n",
    "for i in range (len(eps)):\n",
    "    for j in range (len(min_samples)):\n",
    "        dbscan = DBSCAN(eps=eps[i] , min_samples=min_samples[j])\n",
    "        dbscan.fit(crime_std)\n",
    "        sil_score=sil(crime_std, dbscan.labels_)\n",
    "        print('for eps=', eps[i], 'and min_samples=', min_samples[j] , 'sil_score is', sil_score)"
   ]
  },
  {
   "cell_type": "markdown",
   "id": "4076a919",
   "metadata": {},
   "source": [
    "for eps= 1.5 and min_samples= 1 --->  sil_score is 0.2345 "
   ]
  },
  {
   "cell_type": "code",
   "execution_count": 42,
   "id": "0bb18935",
   "metadata": {
    "ExecuteTime": {
     "end_time": "2022-11-02T10:23:07.100030Z",
     "start_time": "2022-11-02T10:23:07.085729Z"
    }
   },
   "outputs": [
    {
     "data": {
      "text/plain": [
       "DBSCAN(eps=1.5, min_samples=1)"
      ]
     },
     "execution_count": 42,
     "metadata": {},
     "output_type": "execute_result"
    }
   ],
   "source": [
    "dbscan = DBSCAN(eps= 1.5, min_samples=1)\n",
    "dbscan.fit(crime_std)"
   ]
  },
  {
   "cell_type": "code",
   "execution_count": 43,
   "id": "838ff8a6",
   "metadata": {
    "ExecuteTime": {
     "end_time": "2022-11-02T10:23:07.116319Z",
     "start_time": "2022-11-02T10:23:07.100030Z"
    }
   },
   "outputs": [
    {
     "data": {
      "text/plain": [
       "array([0, 1, 0, 0, 0, 0, 0, 0, 0, 0, 0, 0, 0, 0, 0, 0, 0, 0, 0, 0, 0, 0,\n",
       "       0, 0, 0, 0, 0, 0, 0, 0, 0, 0, 0, 0, 0, 0, 0, 0, 0, 0, 0, 0, 0, 0,\n",
       "       0, 0, 0, 0, 0, 0], dtype=int64)"
      ]
     },
     "execution_count": 43,
     "metadata": {},
     "output_type": "execute_result"
    }
   ],
   "source": [
    "#Noisy samples are given the label -1.\n",
    "dbscan.labels_"
   ]
  },
  {
   "cell_type": "markdown",
   "id": "45871991",
   "metadata": {},
   "source": [
    "-1 are the noise points in our dataset and remaining are part of cluster. "
   ]
  },
  {
   "cell_type": "code",
   "execution_count": 44,
   "id": "287a7e26",
   "metadata": {
    "ExecuteTime": {
     "end_time": "2022-11-02T10:23:07.140861Z",
     "start_time": "2022-11-02T10:23:07.116319Z"
    }
   },
   "outputs": [
    {
     "data": {
      "text/html": [
       "<div>\n",
       "<style scoped>\n",
       "    .dataframe tbody tr th:only-of-type {\n",
       "        vertical-align: middle;\n",
       "    }\n",
       "\n",
       "    .dataframe tbody tr th {\n",
       "        vertical-align: top;\n",
       "    }\n",
       "\n",
       "    .dataframe thead th {\n",
       "        text-align: right;\n",
       "    }\n",
       "</style>\n",
       "<table border=\"1\" class=\"dataframe\">\n",
       "  <thead>\n",
       "    <tr style=\"text-align: right;\">\n",
       "      <th></th>\n",
       "      <th>States</th>\n",
       "      <th>Murder</th>\n",
       "      <th>Assault</th>\n",
       "      <th>UrbanPop</th>\n",
       "      <th>Rape</th>\n",
       "      <th>ClusterId_hc</th>\n",
       "      <th>ClusterId_kmeans</th>\n",
       "      <th>Noise</th>\n",
       "    </tr>\n",
       "  </thead>\n",
       "  <tbody>\n",
       "    <tr>\n",
       "      <th>0</th>\n",
       "      <td>Alabama</td>\n",
       "      <td>13.2</td>\n",
       "      <td>236</td>\n",
       "      <td>58</td>\n",
       "      <td>21.2</td>\n",
       "      <td>1</td>\n",
       "      <td>1</td>\n",
       "      <td>0</td>\n",
       "    </tr>\n",
       "    <tr>\n",
       "      <th>1</th>\n",
       "      <td>Alaska</td>\n",
       "      <td>10.0</td>\n",
       "      <td>263</td>\n",
       "      <td>48</td>\n",
       "      <td>44.5</td>\n",
       "      <td>1</td>\n",
       "      <td>1</td>\n",
       "      <td>1</td>\n",
       "    </tr>\n",
       "    <tr>\n",
       "      <th>2</th>\n",
       "      <td>Arizona</td>\n",
       "      <td>8.1</td>\n",
       "      <td>294</td>\n",
       "      <td>80</td>\n",
       "      <td>31.0</td>\n",
       "      <td>1</td>\n",
       "      <td>1</td>\n",
       "      <td>0</td>\n",
       "    </tr>\n",
       "    <tr>\n",
       "      <th>3</th>\n",
       "      <td>Arkansas</td>\n",
       "      <td>8.8</td>\n",
       "      <td>190</td>\n",
       "      <td>50</td>\n",
       "      <td>19.5</td>\n",
       "      <td>0</td>\n",
       "      <td>0</td>\n",
       "      <td>0</td>\n",
       "    </tr>\n",
       "    <tr>\n",
       "      <th>4</th>\n",
       "      <td>California</td>\n",
       "      <td>9.0</td>\n",
       "      <td>276</td>\n",
       "      <td>91</td>\n",
       "      <td>40.6</td>\n",
       "      <td>1</td>\n",
       "      <td>1</td>\n",
       "      <td>0</td>\n",
       "    </tr>\n",
       "  </tbody>\n",
       "</table>\n",
       "</div>"
      ],
      "text/plain": [
       "       States  Murder  Assault  UrbanPop  Rape  ClusterId_hc  \\\n",
       "0     Alabama    13.2      236        58  21.2             1   \n",
       "1      Alaska    10.0      263        48  44.5             1   \n",
       "2     Arizona     8.1      294        80  31.0             1   \n",
       "3    Arkansas     8.8      190        50  19.5             0   \n",
       "4  California     9.0      276        91  40.6             1   \n",
       "\n",
       "   ClusterId_kmeans  Noise  \n",
       "0                 1      0  \n",
       "1                 1      1  \n",
       "2                 1      0  \n",
       "3                 0      0  \n",
       "4                 1      0  "
      ]
     },
     "execution_count": 44,
     "metadata": {},
     "output_type": "execute_result"
    }
   ],
   "source": [
    "crime['Noise'] = dbscan.labels_\n",
    "crime.head() "
   ]
  },
  {
   "cell_type": "code",
   "execution_count": 45,
   "id": "4b86f8f5",
   "metadata": {
    "ExecuteTime": {
     "end_time": "2022-11-02T10:23:07.166101Z",
     "start_time": "2022-11-02T10:23:07.140861Z"
    }
   },
   "outputs": [
    {
     "data": {
      "text/html": [
       "<div>\n",
       "<style scoped>\n",
       "    .dataframe tbody tr th:only-of-type {\n",
       "        vertical-align: middle;\n",
       "    }\n",
       "\n",
       "    .dataframe tbody tr th {\n",
       "        vertical-align: top;\n",
       "    }\n",
       "\n",
       "    .dataframe thead th {\n",
       "        text-align: right;\n",
       "    }\n",
       "</style>\n",
       "<table border=\"1\" class=\"dataframe\">\n",
       "  <thead>\n",
       "    <tr style=\"text-align: right;\">\n",
       "      <th></th>\n",
       "      <th>Murder</th>\n",
       "      <th>Assault</th>\n",
       "      <th>UrbanPop</th>\n",
       "      <th>Rape</th>\n",
       "      <th>ClusterId_hc</th>\n",
       "      <th>ClusterId_kmeans</th>\n",
       "    </tr>\n",
       "    <tr>\n",
       "      <th>Noise</th>\n",
       "      <th></th>\n",
       "      <th></th>\n",
       "      <th></th>\n",
       "      <th></th>\n",
       "      <th></th>\n",
       "      <th></th>\n",
       "    </tr>\n",
       "  </thead>\n",
       "  <tbody>\n",
       "    <tr>\n",
       "      <th>0</th>\n",
       "      <td>7.742857</td>\n",
       "      <td>168.877551</td>\n",
       "      <td>65.897959</td>\n",
       "      <td>20.757143</td>\n",
       "      <td>0.387755</td>\n",
       "      <td>0.387755</td>\n",
       "    </tr>\n",
       "    <tr>\n",
       "      <th>1</th>\n",
       "      <td>10.000000</td>\n",
       "      <td>263.000000</td>\n",
       "      <td>48.000000</td>\n",
       "      <td>44.500000</td>\n",
       "      <td>1.000000</td>\n",
       "      <td>1.000000</td>\n",
       "    </tr>\n",
       "  </tbody>\n",
       "</table>\n",
       "</div>"
      ],
      "text/plain": [
       "          Murder     Assault   UrbanPop       Rape  ClusterId_hc  \\\n",
       "Noise                                                              \n",
       "0       7.742857  168.877551  65.897959  20.757143      0.387755   \n",
       "1      10.000000  263.000000  48.000000  44.500000      1.000000   \n",
       "\n",
       "       ClusterId_kmeans  \n",
       "Noise                    \n",
       "0              0.387755  \n",
       "1              1.000000  "
      ]
     },
     "execution_count": 45,
     "metadata": {},
     "output_type": "execute_result"
    }
   ],
   "source": [
    "df = crime.groupby('Noise').agg('mean')\n",
    "df #Ignore last 2 columns"
   ]
  },
  {
   "cell_type": "code",
   "execution_count": 46,
   "id": "3e7e0d5a",
   "metadata": {
    "ExecuteTime": {
     "end_time": "2022-11-02T10:23:07.455708Z",
     "start_time": "2022-11-02T10:23:07.166101Z"
    }
   },
   "outputs": [
    {
     "data": {
      "text/plain": [
       "<AxesSubplot:xlabel='Noise', ylabel='Rape'>"
      ]
     },
     "execution_count": 46,
     "metadata": {},
     "output_type": "execute_result"
    },
    {
     "data": {
      "image/png": "[encoded data removed]",
      "text/plain": [
       "<Figure size 1440x576 with 4 Axes>"
      ]
     },
     "metadata": {
      "needs_background": "light"
     },
     "output_type": "display_data"
    }
   ],
   "source": [
    "plt.figure(figsize=(20,8))\n",
    "\n",
    "plt.subplot(2,2,1)\n",
    "sns.barplot(x=df.index , y=df.Murder)\n",
    "\n",
    "plt.subplot(2,2,2)\n",
    "sns.barplot(x=df.index , y=df.Assault)\n",
    "\n",
    "plt.subplot(2,2,3)\n",
    "sns.barplot(x=df.index , y=df.UrbanPop)\n",
    "\n",
    "plt.subplot(2,2,4)\n",
    "sns.barplot(x=df.index , y=df.Rape)"
   ]
  },
  {
   "cell_type": "markdown",
   "id": "600ebc1b",
   "metadata": {},
   "source": [
    "# Thank You"
   ]
  }
 ],
 "metadata": {
  "kernelspec": {
   "display_name": "Python 3 (ipykernel)",
   "language": "python",
   "name": "python3"
  },
  "language_info": {
   "codemirror_mode": {
    "name": "ipython",
    "version": 3
   },
   "file_extension": ".py",
   "mimetype": "text/x-python",
   "name": "python",
   "nbconvert_exporter": "python",
   "pygments_lexer": "ipython3",
   "version": "3.9.12"
  }
 },
 "nbformat": 4,
 "nbformat_minor": 5
}
